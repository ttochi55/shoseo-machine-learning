{
 "metadata": {
  "language_info": {
   "codemirror_mode": {
    "name": "ipython",
    "version": 3
   },
   "file_extension": ".py",
   "mimetype": "text/x-python",
   "name": "python",
   "nbconvert_exporter": "python",
   "pygments_lexer": "ipython3",
   "version": "3.8.5-final"
  },
  "orig_nbformat": 2,
  "kernelspec": {
   "name": "python3",
   "display_name": "Python 3",
   "language": "python"
  }
 },
 "nbformat": 4,
 "nbformat_minor": 2,
 "cells": [
  {
   "source": [
    "# 네이버 음성 합성 (stt: speech to text)\n",
    "\n",
    "- <https://github.com/NaverCloudPlatform/ai-python-sample>\n",
    "- <https://github.com/NaverCloudPlatform/ai-python-sample/blob/master/clova_premium_voice_sample.py>\n",
    "\n",
    "- <https://apidocs.ncloud.com/ko/ai-naver/clova_premium_voice/tts/>"
   ],
   "cell_type": "markdown",
   "metadata": {}
  },
  {
   "source": [
    "```\n",
    "우리말 음성 \n",
    "=> Speech Recognition: 우리말\n",
    "=> Papago NMT: 영어\n",
    "=> Voice Synthesis: 영어 음성\n",
    "```"
   ],
   "cell_type": "markdown",
   "metadata": {}
  },
  {
   "cell_type": "code",
   "execution_count": 3,
   "metadata": {},
   "outputs": [],
   "source": [
    "import json\n",
    "with open('keys/clova_key.json') as nkey:\n",
    "    f = nkey.read(100)\n",
    "obj = json.loads(f)\n",
    "client_id = list(obj.keys())[0]\n",
    "client_secret = obj[client_id]"
   ]
  },
  {
   "cell_type": "code",
   "execution_count": 1,
   "metadata": {},
   "outputs": [],
   "source": [
    "text = \"네이버 클라우드 플랫폼은 다양한 AI 서비스를 API를 통해 제공 하고 있습니다.\"\n",
    "\n",
    "speaker = \"nara\"\n",
    "speed = \"0\"\n",
    "pitch = \"0\"\n",
    "emotion = \"0\"\n",
    "format = \"mp3\""
   ]
  },
  {
   "cell_type": "code",
   "execution_count": 6,
   "metadata": {},
   "outputs": [],
   "source": [
    "val = {\n",
    "    \"speaker\": speaker,\n",
    "    \"speed\": speed,\n",
    "    \"text\": text\n",
    "}\n",
    "\n",
    "# 주소가 바뀜\n",
    "# url = \"https://naveropenapi.apigw.ntruss.com/voice-premium/v1/tts\"\n",
    "url = \"https://naveropenapi.apigw.ntruss.com/tts-premium/v1/tts\"\n",
    "\n",
    "headers = {\n",
    "    \"X-NCP-APIGW-API-KEY-ID\": client_id,\n",
    "    \"X-NCP-APIGW-API-KEY\": client_secret,\n",
    "    \"Content-Type\": \"application/x-www-form-urlencoded\"\n",
    "}"
   ]
  },
  {
   "cell_type": "code",
   "execution_count": 7,
   "metadata": {},
   "outputs": [
    {
     "output_type": "stream",
     "name": "stdout",
     "text": [
      "200\n"
     ]
    }
   ],
   "source": [
    "import requests\n",
    "\n",
    "response = requests.post(url,  data=val, headers=headers)\n",
    "rescode = response.status_code\n",
    "\n",
    "if(rescode == 200):\n",
    "    print(rescode)\n",
    "    with open('voice/cpv_sample.mp3', 'wb') as f:\n",
    "        f.write(response.content)\n",
    "else:\n",
    "    print(\"Error : \" + response.text)"
   ]
  },
  {
   "source": [
    "## option"
   ],
   "cell_type": "markdown",
   "metadata": {}
  },
  {
   "cell_type": "code",
   "execution_count": 8,
   "metadata": {},
   "outputs": [
    {
     "output_type": "stream",
     "name": "stdout",
     "text": [
      "200\n"
     ]
    }
   ],
   "source": [
    "import requests\n",
    "\n",
    "text = \"네이버 클라우드 플랫폼은 다양한 AI 서비스를 API를 통해 제공 하고 있습니다.\"\n",
    "\n",
    "speaker = \"nara\"\n",
    "speed = \"0\" #속도 - 5:느리게, -5:빠르게\n",
    "pitch = \"0\" #음높이 - 5:0.8배 낮은 피치, -5:1.2배 높은 피치\n",
    "emotion = \"2\" #감정 - 1:어두운감정, 2:밝은감정\n",
    "format = \"mp3\"\n",
    "\n",
    "val = {\n",
    "    \"speaker\": speaker,\n",
    "    \"speed\": speed,\n",
    "    \"text\": text,\n",
    "    \"emotion\": emotion,\n",
    "    \"pitch\": pitch\n",
    "}\n",
    "\n",
    "url = \"https://naveropenapi.apigw.ntruss.com/tts-premium/v1/tts\"\n",
    "\n",
    "headers = {\n",
    "    \"X-NCP-APIGW-API-KEY-ID\": client_id,\n",
    "    \"X-NCP-APIGW-API-KEY\": client_secret,\n",
    "    \"Content-Type\": \"application/x-www-form-urlencoded\"\n",
    "}\n",
    "\n",
    "response = requests.post(url,  data=val, headers=headers)\n",
    "rescode = response.status_code\n",
    "\n",
    "if(rescode == 200):\n",
    "    print(rescode)\n",
    "    with open('voice/cpv_sample_e1.mp3', 'wb') as f:\n",
    "        f.write(response.content)\n",
    "else:\n",
    "    print(\"Error : \" + response.text)"
   ]
  },
  {
   "source": [
    "## 기본 목소리 - 남자, 여자"
   ],
   "cell_type": "markdown",
   "metadata": {}
  },
  {
   "cell_type": "code",
   "execution_count": null,
   "metadata": {},
   "outputs": [],
   "source": [
    "import requests\n",
    "\n",
    "text = \"네이버 클라우드 플랫폼은 다양한 AI 서비스를 API를 통해 제공 하고 있습니다.\"\n",
    "\n",
    "speaker = \"jinho\" # nara:여자, jinho:옛날남자, mijin:옛날여자\n",
    "speed = \"0\" #속도 - 5:느리게, -5:빠르게\n",
    "pitch = \"0\" #음높이 - 5:0.8배 낮은 피치, -5:1.2배 높은 피치\n",
    "emotion = \"2\" #감정 - 1:어두운감정, 2:밝은감정\n",
    "format = \"mp3\"\n",
    "\n",
    "val = {\n",
    "    \"speaker\": speaker,\n",
    "    \"speed\": speed,\n",
    "    \"text\": text,\n",
    "    \"emotion\": emotion,\n",
    "    \"pitch\": pitch\n",
    "}\n",
    "\n",
    "url = \"https://naveropenapi.apigw.ntruss.com/tts-premium/v1/tts\"\n",
    "\n",
    "headers = {\n",
    "    \"X-NCP-APIGW-API-KEY-ID\": client_id,\n",
    "    \"X-NCP-APIGW-API-KEY\": client_secret,\n",
    "    \"Content-Type\": \"application/x-www-form-urlencoded\"\n",
    "}\n",
    "\n",
    "response = requests.post(url,  data=val, headers=headers)\n",
    "rescode = response.status_code\n",
    "\n",
    "if(rescode == 200):\n",
    "    print(rescode)\n",
    "    with open('voice/cpv_sample_e1.mp3', 'wb') as f:\n",
    "        f.write(response.content)\n",
    "else:\n",
    "    print(\"Error : \" + response.text)"
   ]
  },
  {
   "cell_type": "code",
   "execution_count": null,
   "metadata": {},
   "outputs": [],
   "source": []
  },
  {
   "cell_type": "code",
   "execution_count": null,
   "metadata": {},
   "outputs": [],
   "source": []
  },
  {
   "cell_type": "code",
   "execution_count": null,
   "metadata": {},
   "outputs": [],
   "source": []
  },
  {
   "cell_type": "code",
   "execution_count": null,
   "metadata": {},
   "outputs": [],
   "source": []
  },
  {
   "cell_type": "code",
   "execution_count": null,
   "metadata": {},
   "outputs": [],
   "source": []
  }
 ]
}