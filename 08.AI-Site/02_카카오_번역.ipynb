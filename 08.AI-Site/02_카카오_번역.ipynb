{
 "metadata": {
  "language_info": {
   "codemirror_mode": {
    "name": "ipython",
    "version": 3
   },
   "file_extension": ".py",
   "mimetype": "text/x-python",
   "name": "python",
   "nbconvert_exporter": "python",
   "pygments_lexer": "ipython3",
   "version": "3.8.5-final"
  },
  "orig_nbformat": 2,
  "kernelspec": {
   "name": "python3",
   "display_name": "Python 3",
   "language": "python"
  }
 },
 "nbformat": 4,
 "nbformat_minor": 2,
 "cells": [
  {
   "source": [
    "# 카카오 번역기\n",
    "카카오 번역 API는 RESTAPI에 대해서만 제공한다."
   ],
   "cell_type": "markdown",
   "metadata": {}
  },
  {
   "source": [
    "import requests\n",
    "# 카카오 번역기는 restapi 를 사용하기 때문에 한글에 대한 인코딩이 필요하다.\n",
    "from urllib.parse import quote"
   ],
   "cell_type": "code",
   "metadata": {},
   "execution_count": 1,
   "outputs": []
  },
  {
   "cell_type": "code",
   "execution_count": 2,
   "metadata": {},
   "outputs": [],
   "source": [
    "with open('keys/kakaoai_key.txt') as kfile:\n",
    "     kai_key = kfile.read(100)"
   ]
  },
  {
   "cell_type": "code",
   "execution_count": 3,
   "metadata": {},
   "outputs": [],
   "source": [
    "text = '이 문서는 카카오 번역 API 사용 방법을 설명합니다.'"
   ]
  },
  {
   "cell_type": "code",
   "execution_count": 4,
   "metadata": {},
   "outputs": [],
   "source": [
    "url = 'https://dapi.kakao.com/v2/translation/translate?query=' + quote(text) + '&src_lang=kr&target_lang=en'"
   ]
  },
  {
   "cell_type": "code",
   "execution_count": 5,
   "metadata": {},
   "outputs": [
    {
     "output_type": "execute_result",
     "data": {
      "text/plain": [
       "{'translated_text': [['This document describes how to use the Kakao translation API.']]}"
      ]
     },
     "metadata": {},
     "execution_count": 5
    }
   ],
   "source": [
    "import json\n",
    "result = requests.get(url, headers={\"Authorization\": \"KakaoAK \"+kai_key}).json()\n",
    "result"
   ]
  },
  {
   "cell_type": "code",
   "execution_count": 6,
   "metadata": {},
   "outputs": [
    {
     "output_type": "execute_result",
     "data": {
      "text/plain": [
       "'This document describes how to use the Kakao translation API.'"
      ]
     },
     "metadata": {},
     "execution_count": 6
    }
   ],
   "source": [
    "eng_text = result['translated_text'][0][0]\n",
    "eng_text"
   ]
  },
  {
   "source": [
    "## 한글 -> 일본어"
   ],
   "cell_type": "markdown",
   "metadata": {}
  },
  {
   "cell_type": "code",
   "execution_count": 14,
   "metadata": {},
   "outputs": [
    {
     "output_type": "execute_result",
     "data": {
      "text/plain": [
       "'本稿では,カカオ翻訳APIの使用法について述べた。'"
      ]
     },
     "metadata": {},
     "execution_count": 14
    }
   ],
   "source": [
    "import requests\n",
    "from urllib.parse import quote\n",
    "import json\n",
    "\n",
    "def generate_url(text, src, dst):\n",
    "    return f'https://dapi.kakao.com/v2/translation/translate?query=' + quote(text) + f'&src_lang={src}&target_lang={dst}'\n",
    "\n",
    "text = '이 문서는 카카오 번역 API 사용 방법을 설명합니다.'\n",
    "result = requests.get(generate_url(text, 'kr', 'jp'), headers={\"Authorization\": \"KakaoAK \"+kai_key}).json()\n",
    "\n",
    "jpn_text = result['translated_text'][0][0]\n",
    "jpn_text"
   ]
  },
  {
   "source": [
    "## 한글 여러문장 --> 영어"
   ],
   "cell_type": "markdown",
   "metadata": {}
  },
  {
   "cell_type": "code",
   "execution_count": 16,
   "metadata": {},
   "outputs": [
    {
     "output_type": "execute_result",
     "data": {
      "text/plain": [
       "'Translation of sentences is requested as an API to translate sentences into various languages, and it delivers translation text results based on the texts entered; translation between other languages is also supported in addition to translation between Korean and other languages.'"
      ]
     },
     "metadata": {},
     "execution_count": 16
    }
   ],
   "source": [
    "text = \"\"\"문장 번역요청한 문장을 다양한 언어로 번역하는 API로써 입력된 텍스트를 기반으로 번역 텍스트 결과를 전달합니다. 한국어와 타언어간 번역외에도 타언어간 번역도 지원됩니다.\n",
    "\n",
    "REST API 키를 Authorization 헤더에 담아 GET 또는 POST로 요청합니다. 요청이 성공하면 JSON 객체로 번역 결과 목록을 전달합니다.\n",
    "\"\"\"\n",
    "\n",
    "result = requests.get(generate_url(text, 'kr', 'en'), headers={\"Authorization\": \"KakaoAK \"+kai_key}).json()\n",
    "\n",
    "eng_text = result['translated_text'][0][0]\n",
    "eng_text"
   ]
  },
  {
   "cell_type": "code",
   "execution_count": null,
   "metadata": {},
   "outputs": [],
   "source": []
  },
  {
   "cell_type": "code",
   "execution_count": null,
   "metadata": {},
   "outputs": [],
   "source": []
  }
 ]
}