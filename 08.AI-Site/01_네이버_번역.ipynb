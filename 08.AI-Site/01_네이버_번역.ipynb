{
 "metadata": {
  "language_info": {
   "codemirror_mode": {
    "name": "ipython",
    "version": 3
   },
   "file_extension": ".py",
   "mimetype": "text/x-python",
   "name": "python",
   "nbconvert_exporter": "python",
   "pygments_lexer": "ipython3",
   "version": "3.8.5-final"
  },
  "orig_nbformat": 2,
  "kernelspec": {
   "name": "python3",
   "display_name": "Python 3",
   "language": "python"
  }
 },
 "nbformat": 4,
 "nbformat_minor": 2,
 "cells": [
  {
   "source": [
    "# 네이버 파파고 번역기\n",
    "\n",
    "- <https://github.com/NaverCloudPlatform/ai-python-sample>\n",
    "- <https://github.com/NaverCloudPlatform/ai-python-sample/blob/master/papago_nmt_sample.py>"
   ],
   "cell_type": "markdown",
   "metadata": {}
  },
  {
   "cell_type": "code",
   "execution_count": 7,
   "metadata": {},
   "outputs": [],
   "source": [
    "import json\n",
    "with open('keys/papago_key.json') as nkey:\n",
    "    f = nkey.read(100)\n",
    "obj = json.loads(f)\n",
    "client_id = list(obj.keys())[0]\n",
    "client_secret = obj[client_id]"
   ]
  },
  {
   "cell_type": "code",
   "execution_count": 9,
   "metadata": {},
   "outputs": [],
   "source": [
    "url = \"https://naveropenapi.apigw.ntruss.com/nmt/v1/translation\"\n",
    "\n",
    "text = \"네이버 클라우드 플랫폼에서는 Clova, papago 등 네이버의 다양한 인공지능 서비스를 API 형태로 제공합니다. 고객은 네이버의 인공지능 서비스를 활용하여, \" \\\n",
    "       \"최신 기술 기반의 AI 서비스를 구축하고 안정적으로 운영할 수 있습니다..\""
   ]
  },
  {
   "cell_type": "code",
   "execution_count": 8,
   "metadata": {},
   "outputs": [],
   "source": [
    "# ko : 한국어\u000b\n",
    "# en : 영어\u000b\n",
    "# zh-CN : 중국어 간체\u000b\n",
    "# zh-TW : 중국어 번체\u000b\n",
    "# es: 스페인어\u000b\n",
    "# fr: 프랑스어\n",
    "# vi: 베트남어\u000b\n",
    "# th: 태국어\u000b\n",
    "# id: 인도네시아어"
   ]
  },
  {
   "cell_type": "code",
   "execution_count": 10,
   "metadata": {},
   "outputs": [],
   "source": [
    "val = {\n",
    "    \"source\": \"ko\",\n",
    "    \"target\": \"en\",\n",
    "    \"text\": text\n",
    "}"
   ]
  },
  {
   "cell_type": "code",
   "execution_count": 11,
   "metadata": {},
   "outputs": [],
   "source": [
    "headers = {\n",
    "    \"X-NCP-APIGW-API-KEY-ID\": client_id,\n",
    "    \"X-NCP-APIGW-API-KEY\": client_secret\n",
    "}"
   ]
  },
  {
   "cell_type": "code",
   "execution_count": 12,
   "metadata": {},
   "outputs": [],
   "source": [
    "import requests\n",
    "response = requests.post(url, data=val, headers=headers)\n",
    "rescode = response.status_code"
   ]
  },
  {
   "cell_type": "code",
   "execution_count": 13,
   "metadata": {},
   "outputs": [
    {
     "output_type": "stream",
     "name": "stdout",
     "text": [
      "{\"message\":{\"@type\":\"response\",\"@service\":\"naverservice.nmt.proxy\",\"@version\":\"1.0.0\",\"result\":{\"srcLangType\":\"ko\",\"tarLangType\":\"en\",\"translatedText\":\"Naver's cloud platform provides various artificial intelligence services such as Clova and papago in API form. By utilizing Naver's artificial intelligence service, customers can establish and operate AI services based on the latest technology in a stable manner.\"}}}\n"
     ]
    }
   ],
   "source": [
    "if rescode == 200:\n",
    "    print(response.text)\n",
    "else:\n",
    "    print(\"Error : \" + response.text)"
   ]
  },
  {
   "cell_type": "code",
   "execution_count": 20,
   "metadata": {},
   "outputs": [
    {
     "output_type": "execute_result",
     "data": {
      "text/plain": [
       "{'message': {'@type': 'response',\n",
       "  '@service': 'naverservice.nmt.proxy',\n",
       "  '@version': '1.0.0',\n",
       "  'result': {'srcLangType': 'ko',\n",
       "   'tarLangType': 'en',\n",
       "   'translatedText': \"Naver's cloud platform provides various artificial intelligence services such as Clova and papago in API form. By utilizing Naver's artificial intelligence service, customers can establish and operate AI services based on the latest technology in a stable manner.\"}}}"
      ]
     },
     "metadata": {},
     "execution_count": 20
    }
   ],
   "source": [
    "result = json.loads(response.text)\n",
    "result"
   ]
  },
  {
   "cell_type": "code",
   "execution_count": 25,
   "metadata": {},
   "outputs": [
    {
     "output_type": "execute_result",
     "data": {
      "text/plain": [
       "\"Naver's cloud platform provides various artificial intelligence services such as Clova and papago in API form. By utilizing Naver's artificial intelligence service, customers can establish and operate AI services based on the latest technology in a stable manner.\""
      ]
     },
     "metadata": {},
     "execution_count": 25
    }
   ],
   "source": [
    "result['message']['result']['translatedText']"
   ]
  },
  {
   "cell_type": "code",
   "execution_count": 32,
   "metadata": {},
   "outputs": [
    {
     "output_type": "execute_result",
     "data": {
      "text/plain": [
       "\"Naver's cloud platform provides various artificial intelligence services such as Clova and papago in API form. By utilizing Naver's artificial intelligence service, customers can establish and operate AI services based on the latest technology in a stable manner.\""
      ]
     },
     "metadata": {},
     "execution_count": 32
    }
   ],
   "source": [
    "result.get('message', {}).get('result', {}).get('translatedText')"
   ]
  },
  {
   "source": [
    "## 영어 --> 한글"
   ],
   "cell_type": "markdown",
   "metadata": {}
  },
  {
   "cell_type": "code",
   "execution_count": 33,
   "metadata": {},
   "outputs": [
    {
     "output_type": "stream",
     "name": "stdout",
     "text": [
      "{\"message\":{\"@type\":\"response\",\"@service\":\"naverservice.nmt.proxy\",\"@version\":\"1.0.0\",\"result\":{\"srcLangType\":\"en\",\"tarLangType\":\"ko\",\"translatedText\":\"네이버의 클라우드 플랫폼은 클로바, 파파고 등 다양한 인공지능 서비스를 API 형태로 제공하고 있다. 네이버의 인공지능 서비스를 활용하면 최신 기술을 기반으로 한 AI 서비스를 안정적으로 구축, 운영할 수 있다.\"}}}\n"
     ]
    },
    {
     "output_type": "execute_result",
     "data": {
      "text/plain": [
       "'네이버의 클라우드 플랫폼은 클로바, 파파고 등 다양한 인공지능 서비스를 API 형태로 제공하고 있다. 네이버의 인공지능 서비스를 활용하면 최신 기술을 기반으로 한 AI 서비스를 안정적으로 구축, 운영할 수 있다.'"
      ]
     },
     "metadata": {},
     "execution_count": 33
    }
   ],
   "source": [
    "import requests\n",
    "eng_text = \"Naver's cloud platform provides various artificial intelligence services such as Clova and papago in API form. By utilizing Naver's artificial intelligence service, customers can establish and operate AI services based on the latest technology in a stable manner.\"\n",
    "\n",
    "val = {\n",
    "    \"source\": \"en\",\n",
    "    \"target\": \"ko\",\n",
    "    \"text\": eng_text\n",
    "}\n",
    "headers = {\n",
    "    \"X-NCP-APIGW-API-KEY-ID\": client_id,\n",
    "    \"X-NCP-APIGW-API-KEY\": client_secret\n",
    "}\n",
    "response = requests.post(url, data=val, headers=headers)\n",
    "rescode = response.status_code\n",
    "\n",
    "if rescode == 200:\n",
    "    print(response.text)\n",
    "else:\n",
    "    print(\"Error : \" + response.text)\n",
    "\n",
    "result = json.loads(response.text)\n",
    "kor_text = result['message']['result']['translatedText']\n",
    "kor_text"
   ]
  },
  {
   "source": [
    "# 한글 --> 중국어 간체"
   ],
   "cell_type": "markdown",
   "metadata": {}
  },
  {
   "cell_type": "code",
   "execution_count": 34,
   "metadata": {},
   "outputs": [
    {
     "output_type": "stream",
     "name": "stdout",
     "text": [
      "{\"message\":{\"@type\":\"response\",\"@service\":\"naverservice.nmt.proxy\",\"@version\":\"1.0.0\",\"result\":{\"srcLangType\":\"ko\",\"tarLangType\":\"zh-TW\",\"translatedText\":\"Naver雲平臺以API形式提供Clova、papago等Naver多種人工智能服務。 顧客可以利用NAVER的人工智能服務，構建以最新技術爲基礎的AI服務，並穩定運營。\"}}}\n"
     ]
    },
    {
     "output_type": "execute_result",
     "data": {
      "text/plain": [
       "'Naver雲平臺以API形式提供Clova、papago等Naver多種人工智能服務。 顧客可以利用NAVER的人工智能服務，構建以最新技術爲基礎的AI服務，並穩定運營。'"
      ]
     },
     "metadata": {},
     "execution_count": 34
    }
   ],
   "source": [
    "import requests\n",
    "text = \"네이버 클라우드 플랫폼에서는 Clova, papago 등 네이버의 다양한 인공지능 서비스를 API 형태로 제공합니다. 고객은 네이버의 인공지능 서비스를 활용하여, \" \\\n",
    "       \"최신 기술 기반의 AI 서비스를 구축하고 안정적으로 운영할 수 있습니다..\"\n",
    "\n",
    "val = {\n",
    "    \"source\": \"ko\",\n",
    "    \"target\": \"zh-TW\",\n",
    "    \"text\": text\n",
    "}\n",
    "headers = {\n",
    "    \"X-NCP-APIGW-API-KEY-ID\": client_id,\n",
    "    \"X-NCP-APIGW-API-KEY\": client_secret\n",
    "}\n",
    "response = requests.post(url, data=val, headers=headers)\n",
    "rescode = response.status_code\n",
    "\n",
    "if rescode == 200:\n",
    "    print(response.text)\n",
    "else:\n",
    "    print(\"Error : \" + response.text)\n",
    "\n",
    "result = json.loads(response.text)\n",
    "chn_text = result['message']['result']['translatedText']\n",
    "chn_text"
   ]
  },
  {
   "cell_type": "code",
   "execution_count": null,
   "metadata": {},
   "outputs": [],
   "source": []
  },
  {
   "cell_type": "code",
   "execution_count": null,
   "metadata": {},
   "outputs": [],
   "source": []
  },
  {
   "cell_type": "code",
   "execution_count": null,
   "metadata": {},
   "outputs": [],
   "source": []
  }
 ]
}