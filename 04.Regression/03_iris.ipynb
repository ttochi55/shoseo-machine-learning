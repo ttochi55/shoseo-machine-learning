{
 "metadata": {
  "language_info": {
   "codemirror_mode": {
    "name": "ipython",
    "version": 3
   },
   "file_extension": ".py",
   "mimetype": "text/x-python",
   "name": "python",
   "nbconvert_exporter": "python",
   "pygments_lexer": "ipython3",
   "version": "3.8.5-final"
  },
  "orig_nbformat": 2,
  "kernelspec": {
   "name": "python3",
   "display_name": "Python 3",
   "language": "python"
  }
 },
 "nbformat": 4,
 "nbformat_minor": 2,
 "cells": [
  {
   "source": [
    "# iris 다중회귀\n",
    "\n",
    "class 분류\n",
    "```\n",
    "iris sl, sw, pl, pw -> class 분류\n",
    "```\n",
    "\n",
    "petal_length 구하기\n",
    "```\n",
    "iris class, sl, sw, pw --> petal_length 구하기\n",
    "```\n",
    "\n",
    "```\n",
    "pl = [w1, w2, w3, w4][C, sl, sw, pl].T + bias\n",
    "test_size=0.2\n",
    "random_state=2021\n",
    "```\n",
    "\n",
    "sl=?, sw=?, pw=?"
   ],
   "cell_type": "markdown",
   "metadata": {}
  },
  {
   "cell_type": "code",
   "execution_count": 1,
   "metadata": {},
   "outputs": [],
   "source": [
    "import numpy as np\n",
    "import pandas as pd\n",
    "import matplotlib.pyplot as plt\n",
    "import seaborn as sns\n",
    "%matplotlib inline"
   ]
  },
  {
   "source": [
    "from sklearn.datasets import load_iris\n",
    "dataset = load_iris()\n",
    "df = pd.DataFrame(dataset.data, columns=dataset.feature_names)\n",
    "\n",
    "df['Class'] = dataset.target\n",
    "df['Series'] = df['Class'].map({0:\"setosa\", 1:\"versicolor\", 2:\"virginica\"})\n",
    "\n",
    "df = df.rename(columns={\n",
    "    'sepal length (cm)': 'SL', \n",
    "    'sepal width (cm)': 'SW', \n",
    "    'petal length (cm)': 'PL', \n",
    "    'petal width (cm)': 'PW'\n",
    "})\n",
    "\n",
    "print(df.shape)\n",
    "df.head()"
   ],
   "cell_type": "code",
   "metadata": {},
   "execution_count": 38,
   "outputs": [
    {
     "output_type": "stream",
     "name": "stdout",
     "text": [
      "(150, 6)\n"
     ]
    },
    {
     "output_type": "execute_result",
     "data": {
      "text/plain": [
       "    SL   SW   PL   PW  Class  Series\n",
       "0  5.1  3.5  1.4  0.2      0  setosa\n",
       "1  4.9  3.0  1.4  0.2      0  setosa\n",
       "2  4.7  3.2  1.3  0.2      0  setosa\n",
       "3  4.6  3.1  1.5  0.2      0  setosa\n",
       "4  5.0  3.6  1.4  0.2      0  setosa"
      ],
      "text/html": "<div>\n<style scoped>\n    .dataframe tbody tr th:only-of-type {\n        vertical-align: middle;\n    }\n\n    .dataframe tbody tr th {\n        vertical-align: top;\n    }\n\n    .dataframe thead th {\n        text-align: right;\n    }\n</style>\n<table border=\"1\" class=\"dataframe\">\n  <thead>\n    <tr style=\"text-align: right;\">\n      <th></th>\n      <th>SL</th>\n      <th>SW</th>\n      <th>PL</th>\n      <th>PW</th>\n      <th>Class</th>\n      <th>Series</th>\n    </tr>\n  </thead>\n  <tbody>\n    <tr>\n      <th>0</th>\n      <td>5.1</td>\n      <td>3.5</td>\n      <td>1.4</td>\n      <td>0.2</td>\n      <td>0</td>\n      <td>setosa</td>\n    </tr>\n    <tr>\n      <th>1</th>\n      <td>4.9</td>\n      <td>3.0</td>\n      <td>1.4</td>\n      <td>0.2</td>\n      <td>0</td>\n      <td>setosa</td>\n    </tr>\n    <tr>\n      <th>2</th>\n      <td>4.7</td>\n      <td>3.2</td>\n      <td>1.3</td>\n      <td>0.2</td>\n      <td>0</td>\n      <td>setosa</td>\n    </tr>\n    <tr>\n      <th>3</th>\n      <td>4.6</td>\n      <td>3.1</td>\n      <td>1.5</td>\n      <td>0.2</td>\n      <td>0</td>\n      <td>setosa</td>\n    </tr>\n    <tr>\n      <th>4</th>\n      <td>5.0</td>\n      <td>3.6</td>\n      <td>1.4</td>\n      <td>0.2</td>\n      <td>0</td>\n      <td>setosa</td>\n    </tr>\n  </tbody>\n</table>\n</div>"
     },
     "metadata": {},
     "execution_count": 38
    }
   ]
  },
  {
   "source": [
    "## Classifier\n",
    "\n",
    "petal_length 구하기\n",
    "```\n",
    "iris class, sl, sw, pw --> petal_length 구하기\n",
    "pl = [w1, w2, w3, w4][C, sl, sw, pl].T + bias\n",
    "test_size=0.2\n",
    "random_state=2021\n",
    "```\n",
    "sl=?, sw=?, pw=?"
   ],
   "cell_type": "markdown",
   "metadata": {}
  },
  {
   "source": [
    "## PL"
   ],
   "cell_type": "markdown",
   "metadata": {}
  },
  {
   "cell_type": "code",
   "execution_count": 56,
   "metadata": {},
   "outputs": [
    {
     "output_type": "stream",
     "name": "stdout",
     "text": [
      "MSE: 0.10, RMSE: 0.31\nR_squared: 0.9682\ncoef_: [ 0.68227323 -0.51925158  1.11668415  0.37500635]\nintercept_: -0.3669994939603338\n회귀식: PL = 0.68SL -0.52SW + 1.12PW + 0.38C - 0.37\n"
     ]
    }
   ],
   "source": [
    "from sklearn.model_selection import train_test_split, cross_val_score\n",
    "from sklearn.linear_model import LinearRegression\n",
    "from sklearn.metrics import mean_squared_error, r2_score\n",
    "\n",
    "# 데이터\n",
    "X = df[['SL', 'SW', 'PW', 'Class']]\n",
    "y = df['PL']\n",
    "\n",
    "X_train, X_test, y_train, y_test = train_test_split(\n",
    "    X, y, test_size=0.2, random_state=2021\n",
    ")\n",
    "\n",
    "lr = LinearRegression()\n",
    "lr.fit(X_train, y_train)\n",
    "pred = lr.predict(X_test)\n",
    "mse = mean_squared_error(y_test, pred)\n",
    "r2 = r2_score(y_test, pred)\n",
    "\n",
    "print(f\"MSE: {mse:.2f}, RMSE: {np.sqrt(mse):.2f}\")\n",
    "print(f\"R_squared: {r2:.4f}\")\n",
    "print(f'coef_: {lr.coef_}')\n",
    "print(f'intercept_: {lr.intercept_}')\n",
    "\n",
    "# PL의 회귀식\n",
    "print(f'회귀식: PL = 0.68SL -0.52SW + 1.12PW + 0.38C - 0.37')"
   ]
  },
  {
   "cell_type": "code",
   "execution_count": 71,
   "metadata": {},
   "outputs": [
    {
     "output_type": "error",
     "ename": "SyntaxError",
     "evalue": "invalid syntax (<ipython-input-71-793e1b42933d>, line 3)",
     "traceback": [
      "\u001b[0;36m  File \u001b[0;32m\"<ipython-input-71-793e1b42933d>\"\u001b[0;36m, line \u001b[0;32m3\u001b[0m\n\u001b[0;31m    x = [for column in columns]\u001b[0m\n\u001b[0m         ^\u001b[0m\n\u001b[0;31mSyntaxError\u001b[0m\u001b[0;31m:\u001b[0m invalid syntax\n"
     ]
    }
   ],
   "source": [
    "columns = ['SL', 'SW', 'PL', 'PW']\n",
    "\n",
    "x = [for column in columns]\n",
    "print(x)\n",
    "\n",
    "\n",
    "# for i, column in enumerate(columns):\n",
    "#     x = [i for col in columns]\n",
    "#     print(i, x)\n",
    "    # y = columns[i]\n",
    "    # print(i, y)"
   ]
  },
  {
   "cell_type": "code",
   "execution_count": 29,
   "metadata": {},
   "outputs": [],
   "source": [
    "from sklearn.linear_model import LogisticRegression #Logistic(Regression)Classifier\n",
    "from sklearn.tree import DecisionTreeClassifier #Decision Tree\n",
    "from sklearn.svm import SVC #Support Vector Machine\n",
    "from sklearn.naive_bayes import GaussianNB #Naive Bayesian\n",
    "from sklearn.neighbors import KNeighborsClassifier #K Nearest Neighbor\n",
    "from sklearn.ensemble import RandomForestClassifier #Random Forest\n",
    "from sklearn.ensemble import GradientBoostingClassifier #Gradient Boosing\n",
    "from sklearn.neural_network import MLPClassifier #Neural Network\n",
    "\n",
    "#logistic (Regression) Classifier, Decision tree, support vector machine, naive bayesian, K Nearest Neighbor, Random Forest, Gradient Boosing, Neural Network\n",
    "models = []\n",
    "models.append((\"LR\", LogisticRegression()))\n",
    "models.append((\"DT\", DecisionTreeClassifier()))\n",
    "models.append((\"SVM\", SVC()))\n",
    "models.append((\"NB\", GaussianNB()))\n",
    "models.append((\"KNN\", KNeighborsClassifier()))\n",
    "models.append((\"RF\", RandomForestClassifier()))\n",
    "models.append((\"GB\", GradientBoostingClassifier()))\n",
    "models.append((\"ANN\", MLPClassifier()))"
   ]
  },
  {
   "cell_type": "code",
   "execution_count": 30,
   "metadata": {},
   "outputs": [
    {
     "output_type": "stream",
     "name": "stdout",
     "text": [
      "LR's Accuracy is 0.9733\n",
      "DT's Accuracy is 1.0000\n",
      "SVM's Accuracy is 0.9733\n",
      "NB's Accuracy is 0.9600\n",
      "KNN's Accuracy is 0.9667\n",
      "RF's Accuracy is 1.0000\n",
      "GB's Accuracy is 1.0000\n",
      "ANN's Accuracy is 0.9667\n"
     ]
    }
   ],
   "source": [
    "from sklearn.metrics import accuracy_score\n",
    "\n",
    "# 데이터\n",
    "x_data = df.iloc[:, :-1]\n",
    "y_data = df.iloc[:, [-1]]\n",
    "\n",
    "# 모델 학습 및 정확도 분석\n",
    "for name, model in models:\n",
    "    model.fit(x_data, y_data.values.ravel())\n",
    "    y_pred = model.predict(x_data)\n",
    "    print(\"{}'s Accuracy is {:.4f}\".format(name, accuracy_score(y_data, y_pred)))"
   ]
  },
  {
   "cell_type": "code",
   "execution_count": null,
   "metadata": {},
   "outputs": [],
   "source": []
  }
 ]
}