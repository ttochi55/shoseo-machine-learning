{
 "metadata": {
  "language_info": {
   "codemirror_mode": {
    "name": "ipython",
    "version": 3
   },
   "file_extension": ".py",
   "mimetype": "text/x-python",
   "name": "python",
   "nbconvert_exporter": "python",
   "pygments_lexer": "ipython3",
   "version": "3.8.5-final"
  },
  "orig_nbformat": 2,
  "kernelspec": {
   "name": "python3",
   "display_name": "Python 3",
   "language": "python"
  }
 },
 "nbformat": 4,
 "nbformat_minor": 2,
 "cells": [
  {
   "source": [
    "# 텍스트 분석 - BOW(Bag of Words)\n",
    "- 딥 러닝을 이용한 자연어 처리 입문에서 발췌"
   ],
   "cell_type": "markdown",
   "metadata": {}
  },
  {
   "source": [
    "문## Count Vectorizer"
   ],
   "cell_type": "markdown",
   "metadata": {}
  },
  {
   "cell_type": "code",
   "execution_count": 26,
   "metadata": {},
   "outputs": [
    {
     "output_type": "stream",
     "name": "stdout",
     "text": [
      "[[1 1 2 1 2 1]]\n{'you': 4, 'know': 1, 'want': 3, 'your': 5, 'love': 2, 'because': 0}\n"
     ]
    }
   ],
   "source": [
    "from sklearn.feature_extraction.text import CountVectorizer\n",
    "\n",
    "corpus = ['you know I want your love. because I love you']\n",
    "\n",
    "cv = CountVectorizer()\n",
    "cv.fit(corpus)\n",
    "output = cv.transform(corpus)\n",
    "\n",
    "print(output.toarray())\n",
    "print(cv.vocabulary_)"
   ]
  },
  {
   "source": [
    "## 불용어를 제거한 BoW(Bag of Words)\n",
    "잘 사용되지 않는 단어 제거"
   ],
   "cell_type": "markdown",
   "metadata": {}
  },
  {
   "cell_type": "code",
   "execution_count": 27,
   "metadata": {},
   "outputs": [
    {
     "output_type": "stream",
     "name": "stdout",
     "text": [
      "[[1 1 1 1 1]]\n{'family': 1, 'import': 2, 'thing': 4, 'it': 3, 'everything': 0}\n"
     ]
    }
   ],
   "source": [
    "# 불용어 자체 제거\n",
    "text = [\"Family is not an import thing. It's everything.\"]\n",
    "\n",
    "cv = CountVectorizer(\n",
    "    stop_words=['the', 'a', 'an', 'is', 'not']\n",
    ")\n",
    "\n",
    "print(cv.fit_transform(text).toarray())\n",
    "print(cv.vocabulary_)"
   ]
  },
  {
   "cell_type": "code",
   "execution_count": 28,
   "metadata": {},
   "outputs": [
    {
     "output_type": "stream",
     "name": "stdout",
     "text": [
      "[[1 1 1]]\n{'family': 0, 'import': 1, 'thing': 2}\n"
     ]
    }
   ],
   "source": [
    "# 사이킷런에서 제공하는 불용어 사용\n",
    "text = [\"Family is not an import thing. It's everything.\"]\n",
    "\n",
    "cv = CountVectorizer(\n",
    "    stop_words='english'\n",
    ")\n",
    "\n",
    "print(cv.fit_transform(text).toarray())\n",
    "print(cv.vocabulary_)"
   ]
  },
  {
   "cell_type": "code",
   "execution_count": 29,
   "metadata": {},
   "outputs": [
    {
     "output_type": "execute_result",
     "data": {
      "text/plain": [
       "179"
      ]
     },
     "metadata": {},
     "execution_count": 29
    }
   ],
   "source": [
    "# NLTK에서 제공하는 불용어 사용\n",
    "from nltk.corpus import stopwords\n",
    "sw = stopwords.words('english')\n",
    "len(sw)"
   ]
  },
  {
   "cell_type": "code",
   "execution_count": 30,
   "metadata": {},
   "outputs": [
    {
     "output_type": "stream",
     "name": "stdout",
     "text": [
      "[[1 1 1 1]]\n{'family': 1, 'import': 2, 'thing': 3, 'everything': 0}\n"
     ]
    }
   ],
   "source": [
    "text = [\"Family is not an import thing. It's everything.\"]\n",
    "\n",
    "cv = CountVectorizer(\n",
    "    stop_words=sw\n",
    ")\n",
    "\n",
    "print(cv.fit_transform(text).toarray())\n",
    "print(cv.vocabulary_)"
   ]
  },
  {
   "cell_type": "code",
   "execution_count": 31,
   "metadata": {},
   "outputs": [
    {
     "output_type": "execute_result",
     "data": {
      "text/plain": [
       "'thing'"
      ]
     },
     "metadata": {},
     "execution_count": 31
    }
   ],
   "source": [
    "def get_word(index, vocabularies):\n",
    "    for key, value in vocabularies.items():\n",
    "        if value == index:\n",
    "            return key\n",
    "get_word(3, cv.vocabulary_)"
   ]
  },
  {
   "source": [
    "## N-gram\n",
    "- BoW의 단점을 보완한 알고리즘\n",
    "- 자주사용되는단어 또는 스펠링체크에서 사용"
   ],
   "cell_type": "markdown",
   "metadata": {}
  },
  {
   "cell_type": "code",
   "execution_count": 32,
   "metadata": {},
   "outputs": [
    {
     "output_type": "stream",
     "name": "stdout",
     "text": [
      "[[1 1 1 2 1 1 1]]\n{'machine': 5, 'learning': 4, 'is': 3, 'fun': 2, 'and': 0, 'not': 6, 'boring': 1}\n"
     ]
    }
   ],
   "source": [
    "text = [\"Machine learning is fun and is not boring\"]\n",
    "cv = CountVectorizer()\n",
    "print(cv.fit_transform(text).toarray())\n",
    "print(cv.vocabulary_)"
   ]
  },
  {
   "cell_type": "code",
   "execution_count": 33,
   "metadata": {},
   "outputs": [
    {
     "output_type": "stream",
     "name": "stdout",
     "text": [
      "[[1 1 1 1 1 2 1 1 1 1 1 1 1 1]]\n{'machine': 10, 'learning': 8, 'is': 5, 'fun': 3, 'and': 0, 'not': 12, 'boring': 2, 'machine learning': 11, 'learning is': 9, 'is fun': 6, 'fun and': 4, 'and is': 1, 'is not': 7, 'not boring': 13}\n"
     ]
    }
   ],
   "source": [
    "text = [\"Machine learning is fun and is not boring\"]\n",
    "cv = CountVectorizer(\n",
    "    ngram_range=(1,2)\n",
    ")\n",
    "print(cv.fit_transform(text).toarray())\n",
    "print(cv.vocabulary_)"
   ]
  },
  {
   "cell_type": "code",
   "execution_count": 34,
   "metadata": {},
   "outputs": [
    {
     "output_type": "stream",
     "name": "stdout",
     "text": [
      "[[1 1 1 1 1 1 1 2 1 1 1 1 1 1 1 1 1 1 1 1]]\n{'machine': 15, 'learning': 12, 'is': 7, 'fun': 4, 'and': 0, 'not': 18, 'boring': 3, 'machine learning': 16, 'learning is': 13, 'is fun': 8, 'fun and': 5, 'and is': 1, 'is not': 10, 'not boring': 19, 'machine learning is': 17, 'learning is fun': 14, 'is fun and': 9, 'fun and is': 6, 'and is not': 2, 'is not boring': 11}\n"
     ]
    }
   ],
   "source": [
    "text = [\"Machine learning is fun and is not boring\"]\n",
    "cv = CountVectorizer(\n",
    "    ngram_range=(1,3)\n",
    ")\n",
    "print(cv.fit_transform(text).toarray())\n",
    "print(cv.vocabulary_)"
   ]
  },
  {
   "cell_type": "code",
   "execution_count": 35,
   "metadata": {},
   "outputs": [
    {
     "output_type": "stream",
     "name": "stdout",
     "text": [
      "[[1 1 1 1 1 1 1]]\n{'machine': 5, 'learning': 3, 'fun': 1, 'boring': 0, 'machine learning': 6, 'learning fun': 4, 'fun boring': 2}\n"
     ]
    }
   ],
   "source": [
    "text = [\"Machine learning is fun and is not boring\"]\n",
    "cv = CountVectorizer(\n",
    "    ngram_range=(1,2),\n",
    "    stop_words='english'\n",
    ")\n",
    "print(cv.fit_transform(text).toarray())\n",
    "print(cv.vocabulary_)"
   ]
  },
  {
   "source": [
    "## CountVectorizer의 파라미터"
   ],
   "cell_type": "markdown",
   "metadata": {}
  },
  {
   "cell_type": "code",
   "execution_count": 36,
   "metadata": {},
   "outputs": [
    {
     "output_type": "execute_result",
     "data": {
      "text/plain": [
       "{'analyzer': 'word',\n",
       " 'binary': False,\n",
       " 'decode_error': 'strict',\n",
       " 'dtype': numpy.int64,\n",
       " 'encoding': 'utf-8',\n",
       " 'input': 'content',\n",
       " 'lowercase': True,\n",
       " 'max_df': 1.0,\n",
       " 'max_features': None,\n",
       " 'min_df': 1,\n",
       " 'ngram_range': (1, 2),\n",
       " 'preprocessor': None,\n",
       " 'stop_words': 'english',\n",
       " 'strip_accents': None,\n",
       " 'token_pattern': '(?u)\\\\b\\\\w\\\\w+\\\\b',\n",
       " 'tokenizer': None,\n",
       " 'vocabulary': None}"
      ]
     },
     "metadata": {},
     "execution_count": 36
    }
   ],
   "source": [
    "cv.get_params()"
   ]
  },
  {
   "source": [
    "## TF-IDF Vectorizer\n",
    "(단어 빈도-역 문서 빈도, Term Frequency-Inverse Document Frequency)"
   ],
   "cell_type": "markdown",
   "metadata": {}
  },
  {
   "cell_type": "code",
   "execution_count": 37,
   "metadata": {},
   "outputs": [
    {
     "output_type": "stream",
     "name": "stdout",
     "text": [
      "[[0 1 0 1 0 0 1 1 1]\n [0 0 1 0 0 0 0 1 0]\n [1 0 0 0 1 1 0 0 0]]\n{'you': 7, 'know': 1, 'want': 6, 'your': 8, 'love': 3, 'like': 2, 'shat': 4, 'should': 5, 'do': 0}\n"
     ]
    }
   ],
   "source": [
    "from sklearn.feature_extraction.text import TfidfVectorizer\n",
    "\n",
    "corpus = [\n",
    "    'you know I want your love',\n",
    "    'I like you',\n",
    "    'shat should I do'\n",
    "]\n",
    "\n",
    "cv = CountVectorizer()\n",
    "print(cv.fit_transform(corpus).toarray())\n",
    "print(cv.vocabulary_)"
   ]
  },
  {
   "cell_type": "code",
   "execution_count": 38,
   "metadata": {},
   "outputs": [
    {
     "output_type": "stream",
     "name": "stdout",
     "text": [
      "[[0.         0.46735098 0.         0.46735098 0.         0.\n",
      "  0.46735098 0.35543247 0.46735098]\n",
      " [0.         0.         0.79596054 0.         0.         0.\n",
      "  0.         0.60534851 0.        ]\n",
      " [0.57735027 0.         0.         0.         0.57735027 0.57735027\n",
      "  0.         0.         0.        ]]\n",
      "{'you': 7, 'know': 1, 'want': 6, 'your': 8, 'love': 3, 'like': 2, 'shat': 4, 'should': 5, 'do': 0}\n"
     ]
    }
   ],
   "source": [
    "from sklearn.feature_extraction.text import TfidfVectorizer\n",
    "\n",
    "corpus = [\n",
    "    'you know I want your love',\n",
    "    'I like you',\n",
    "    'shat should I do'\n",
    "]\n",
    "\n",
    "tv = TfidfVectorizer()\n",
    "print(tv.fit_transform(corpus).toarray())\n",
    "print(tv.vocabulary_)"
   ]
  },
  {
   "cell_type": "code",
   "execution_count": null,
   "metadata": {},
   "outputs": [],
   "source": []
  }
 ]
}