{
 "metadata": {
  "language_info": {
   "codemirror_mode": {
    "name": "ipython",
    "version": 3
   },
   "file_extension": ".py",
   "mimetype": "text/x-python",
   "name": "python",
   "nbconvert_exporter": "python",
   "pygments_lexer": "ipython3",
   "version": "3.8.5-final"
  },
  "orig_nbformat": 2,
  "kernelspec": {
   "name": "python3",
   "display_name": "Python 3",
   "language": "python"
  }
 },
 "nbformat": 4,
 "nbformat_minor": 2,
 "cells": [
  {
   "source": [
    "# Model Selection Module"
   ],
   "cell_type": "markdown",
   "metadata": {}
  },
  {
   "source": [
    "## Train data, test data 분리하지 않고 머신러닝 수행\n",
    "과적합(overfitting)이 발생된 머신러닝 사례"
   ],
   "cell_type": "markdown",
   "metadata": {}
  },
  {
   "cell_type": "code",
   "execution_count": 3,
   "metadata": {},
   "outputs": [],
   "source": [
    "from sklearn.datasets import load_iris\n",
    "from sklearn.tree import DecisionTreeClassifier\n",
    "from sklearn.metrics import accuracy_score"
   ]
  },
  {
   "cell_type": "code",
   "execution_count": 4,
   "metadata": {},
   "outputs": [
    {
     "output_type": "execute_result",
     "data": {
      "text/plain": [
       "DecisionTreeClassifier()"
      ]
     },
     "metadata": {},
     "execution_count": 4
    }
   ],
   "source": [
    "iris = load_iris()\n",
    "dt_clf = DecisionTreeClassifier()\n",
    "dt_clf.fit(iris.data, iris.target)"
   ]
  },
  {
   "cell_type": "code",
   "execution_count": 5,
   "metadata": {},
   "outputs": [
    {
     "output_type": "execute_result",
     "data": {
      "text/plain": [
       "1.0"
      ]
     },
     "metadata": {},
     "execution_count": 5
    }
   ],
   "source": [
    "pred = dt_clf.predict(iris.data)\n",
    "accuracy_score(iris.target, pred)"
   ]
  },
  {
   "source": [
    "## 학습 데이터와 테스트 데이터(30%) 분리\n",
    "과적합(overfitting)이 발생되지 않은 일반적인 머신러닝 사례"
   ],
   "cell_type": "markdown",
   "metadata": {}
  },
  {
   "cell_type": "code",
   "execution_count": 7,
   "metadata": {},
   "outputs": [],
   "source": [
    "from sklearn.model_selection import train_test_split\n",
    "# random_state = np.random.seed(121)\n",
    "x_train, x_test, y_train, y_test = train_test_split(\n",
    "    iris.data, iris.target, test_size=0.3, random_state=121\n",
    ")"
   ]
  },
  {
   "cell_type": "code",
   "execution_count": 8,
   "metadata": {},
   "outputs": [
    {
     "output_type": "execute_result",
     "data": {
      "text/plain": [
       "DecisionTreeClassifier()"
      ]
     },
     "metadata": {},
     "execution_count": 8
    }
   ],
   "source": [
    "dt_clf = DecisionTreeClassifier()\n",
    "# dt_clf.fit(iris.data, iris.target)\n",
    "dt_clf.fit(x_train, y_train)"
   ]
  },
  {
   "cell_type": "code",
   "execution_count": 9,
   "metadata": {},
   "outputs": [
    {
     "output_type": "execute_result",
     "data": {
      "text/plain": [
       "0.9555555555555556"
      ]
     },
     "metadata": {},
     "execution_count": 9
    }
   ],
   "source": [
    "pred = dt_clf.predict(x_test)\n",
    "accuracy_score(y_test, pred)"
   ]
  },
  {
   "source": [
    "## Model Selection 모듈"
   ],
   "cell_type": "markdown",
   "metadata": {}
  },
  {
   "cell_type": "code",
   "execution_count": 11,
   "metadata": {},
   "outputs": [
    {
     "output_type": "stream",
     "name": "stdout",
     "text": [
      "붗꽃 데이터 세트 크기 150\n\n#1 교차 검증 정확도 :1.0, 학습 데이터 크기: 120, 검증 데이터 크기: 30\n#1 검증 세트 인덱스:[ 0  1  2  3  4  5  6  7  8  9 10 11 12 13 14 15 16 17 18 19 20 21 22 23\n 24 25 26 27 28 29]\n\n#2 교차 검증 정확도 :0.9667, 학습 데이터 크기: 120, 검증 데이터 크기: 30\n#2 검증 세트 인덱스:[30 31 32 33 34 35 36 37 38 39 40 41 42 43 44 45 46 47 48 49 50 51 52 53\n 54 55 56 57 58 59]\n\n#3 교차 검증 정확도 :0.8667, 학습 데이터 크기: 120, 검증 데이터 크기: 30\n#3 검증 세트 인덱스:[60 61 62 63 64 65 66 67 68 69 70 71 72 73 74 75 76 77 78 79 80 81 82 83\n 84 85 86 87 88 89]\n\n#4 교차 검증 정확도 :0.9333, 학습 데이터 크기: 120, 검증 데이터 크기: 30\n#4 검증 세트 인덱스:[ 90  91  92  93  94  95  96  97  98  99 100 101 102 103 104 105 106 107\n 108 109 110 111 112 113 114 115 116 117 118 119]\n\n#5 교차 검증 정확도 :0.7333, 학습 데이터 크기: 120, 검증 데이터 크기: 30\n#5 검증 세트 인덱스:[120 121 122 123 124 125 126 127 128 129 130 131 132 133 134 135 136 137\n 138 139 140 141 142 143 144 145 146 147 148 149]\n\n## 평균 검증 정확도: 0.9\n"
     ]
    }
   ],
   "source": [
    "import numpy as np\n",
    "from sklearn.model_selection import KFold\n",
    "\n",
    "kfold = KFold(n_splits=5)\n",
    "cv_accuracy = []\n",
    "features, label = iris.data, iris.target\n",
    "dt_clf = DecisionTreeClassifier(random_state=156)\n",
    "print('붗꽃 데이터 세트 크기', features.shape[0])\n",
    "\n",
    "n_iter = 0\n",
    "for train_index, test_index in kfold.split(features):\n",
    "    # kfold.split() 으로 반환된 인덱스를 이용하여 학습용, 검증용 테스트\n",
    "    x_train, x_test = features[train_index], features[test_index]\n",
    "    y_train, y_test = label[train_index], label[test_index]\n",
    "\n",
    "    # 학습 및 예측\n",
    "    dt_clf.fit(x_train, y_train)\n",
    "    pred = dt_clf.predict(x_test)\n",
    "    n_iter += 1\n",
    "\n",
    "    # 반복 시 마다 정확도 측정\n",
    "    accuracy = np.round(accuracy_score(y_test, pred), 4)\n",
    "    train_size = x_train.shape[0]\n",
    "    test_size = x_test.shape[0]\n",
    "\n",
    "    print('\\n#{0} 교차 검증 정확도 :{1}, 학습 데이터 크기: {2}, 검증 데이터 크기: {3}'.format(n_iter, accuracy, train_size, test_size)) \n",
    "    print('#{0} 검증 세트 인덱스:{1}'.format(n_iter, test_index))\n",
    "\n",
    "    cv_accuracy.append(accuracy)"
   ]
  },
  {
   "cell_type": "code",
   "execution_count": 12,
   "metadata": {},
   "outputs": [
    {
     "output_type": "stream",
     "name": "stdout",
     "text": [
      "\n## 평균 검증 정확도: 0.9\n"
     ]
    }
   ],
   "source": [
    "# 개별 iteration별 정확도를 합하여 평균 정확도 계산\n",
    "print('\\n## 평균 검증 정확도:', np.mean(cv_accuracy))"
   ]
  },
  {
   "source": [
    "## Stratified K 폴드"
   ],
   "cell_type": "markdown",
   "metadata": {}
  },
  {
   "cell_type": "code",
   "execution_count": 21,
   "metadata": {},
   "outputs": [
    {
     "output_type": "stream",
     "name": "stdout",
     "text": [
      "## 교차 검증: 1\n학습 레이블 데이터 분포:\n 2    50\n1    50\nName: label, dtype: int64\n검증 레이블 데이터 분포:\n 0    50\nName: label, dtype: int64\n## 교차 검증: 2\n학습 레이블 데이터 분포:\n 2    50\n0    50\nName: label, dtype: int64\n검증 레이블 데이터 분포:\n 1    50\nName: label, dtype: int64\n## 교차 검증: 3\n학습 레이블 데이터 분포:\n 1    50\n0    50\nName: label, dtype: int64\n검증 레이블 데이터 분포:\n 2    50\nName: label, dtype: int64\n"
     ]
    }
   ],
   "source": [
    "import pandas as pd\n",
    "\n",
    "iris_df = pd.DataFrame(data=iris.data, columns=iris.feature_names)\n",
    "iris_label = iris.target\n",
    "iris_df['label'] = iris_label\n",
    "\n",
    "kfold = KFold(n_splits=3)\n",
    "n_iter = 0\n",
    "\n",
    "for train_index, test_index in kfold.split(iris_df):\n",
    "    n_iter += 1\n",
    "    label_train= iris_df['label'].iloc[train_index]\n",
    "    label_test= iris_df['label'].iloc[test_index]\n",
    "\n",
    "    print('## 교차 검증: {0}'.format(n_iter))\n",
    "    print('학습 레이블 데이터 분포:\\n', label_train.value_counts()) \n",
    "    print('검증 레이블 데이터 분포:\\n', label_test.value_counts())"
   ]
  },
  {
   "source": [
    "## 3개로 나눔 "
   ],
   "cell_type": "markdown",
   "metadata": {}
  },
  {
   "cell_type": "code",
   "execution_count": 22,
   "metadata": {},
   "outputs": [
    {
     "output_type": "stream",
     "name": "stdout",
     "text": [
      "## 교차 검증: 1\n학습 레이블 데이터 분포:\n 2    34\n1    33\n0    33\nName: label, dtype: int64\n검증 레이블 데이터 분포:\n 1    17\n0    17\n2    16\nName: label, dtype: int64\n## 교차 검증: 2\n학습 레이블 데이터 분포:\n 1    34\n2    33\n0    33\nName: label, dtype: int64\n검증 레이블 데이터 분포:\n 2    17\n0    17\n1    16\nName: label, dtype: int64\n## 교차 검증: 3\n학습 레이블 데이터 분포:\n 0    34\n2    33\n1    33\nName: label, dtype: int64\n검증 레이블 데이터 분포:\n 2    17\n1    17\n0    16\nName: label, dtype: int64\n"
     ]
    }
   ],
   "source": [
    "from sklearn.model_selection import StratifiedKFold\n",
    "\n",
    "skf = StratifiedKFold(n_splits=3)\n",
    "n_iter = 0\n",
    "\n",
    "for train_index, test_index in skf.split(iris_df, iris_df['label']):\n",
    "    n_iter += 1\n",
    "    label_train= iris_df['label'].iloc[train_index]\n",
    "    label_test= iris_df['label'].iloc[test_index]\n",
    "    print('## 교차 검증: {0}'.format(n_iter))\n",
    "    print('학습 레이블 데이터 분포:\\n', label_train.value_counts()) \n",
    "    print('검증 레이블 데이터 분포:\\n', label_test.value_counts())"
   ]
  },
  {
   "source": [
    "## Stratified K 폴드 교차검증"
   ],
   "cell_type": "markdown",
   "metadata": {}
  },
  {
   "cell_type": "code",
   "execution_count": 25,
   "metadata": {},
   "outputs": [
    {
     "output_type": "stream",
     "name": "stdout",
     "text": [
      "## 교차 검증: 1\n학습 레이블 데이터 분포:\n 2    50\n1    50\nName: label, dtype: int64\n검증 레이블 데이터 분포:\n 0    50\nName: label, dtype: int64\n## 교차 검증: 2\n학습 레이블 데이터 분포:\n 2    50\n0    50\nName: label, dtype: int64\n검증 레이블 데이터 분포:\n 1    50\nName: label, dtype: int64\n## 교차 검증: 3\n학습 레이블 데이터 분포:\n 1    50\n0    50\nName: label, dtype: int64\n검증 레이블 데이터 분포:\n 2    50\nName: label, dtype: int64\n## 교차 검증: 1\n학습 레이블 데이터 분포:\n 2    34\n1    33\n0    33\nName: label, dtype: int64\n검증 레이블 데이터 분포:\n 1    17\n0    17\n2    16\nName: label, dtype: int64\n## 교차 검증: 2\n학습 레이블 데이터 분포:\n 1    34\n2    33\n0    33\nName: label, dtype: int64\n검증 레이블 데이터 분포:\n 2    17\n0    17\n1    16\nName: label, dtype: int64\n## 교차 검증: 3\n학습 레이블 데이터 분포:\n 0    34\n2    33\n1    33\nName: label, dtype: int64\n검증 레이블 데이터 분포:\n 2    17\n1    17\n0    16\nName: label, dtype: int64\n"
     ]
    }
   ],
   "source": [
    "import pandas as pd\n",
    "\n",
    "iris_df = pd.DataFrame(data=iris.data, columns=iris.feature_names)\n",
    "iris_label = iris.target\n",
    "iris_df['label'] = iris_label\n",
    "\n",
    "kfold = KFold(n_splits=3)\n",
    "n_iter = 0\n",
    "\n",
    "for train_index, test_index in kfold.split(iris_df):\n",
    "    n_iter += 1\n",
    "\n",
    "    label_train= iris_df['label'].iloc[train_index]\n",
    "    label_test= iris_df['label'].iloc[test_index]\n",
    "\n",
    "    print('## 교차 검증: {0}'.format(n_iter))\n",
    "    print('학습 레이블 데이터 분포:\\n', label_train.value_counts()) \n",
    "    print('검증 레이블 데이터 분포:\\n', label_test.value_counts())\n",
    "\n",
    "from sklearn.model_selection import StratifiedKFold \n",
    "skf = StratifiedKFold(n_splits=3)\n",
    "n_iter = 0\n",
    "\n",
    "for train_index, test_index in skf.split(iris_df, iris_df['label']):\n",
    "    n_iter += 1\n",
    "\n",
    "    label_train= iris_df['label'].iloc[train_index]\n",
    "    label_test= iris_df['label'].iloc[test_index]\n",
    "    print('## 교차 검증: {0}'.format(n_iter))\n",
    "    print('학습 레이블 데이터 분포:\\n', label_train.value_counts()) \n",
    "    print('검증 레이블 데이터 분포:\\n', label_test.value_counts())"
   ]
  },
  {
   "source": [
    "## 편리한 교차 검증 방법 - cross_val_score()"
   ],
   "cell_type": "markdown",
   "metadata": {}
  },
  {
   "cell_type": "code",
   "execution_count": 30,
   "metadata": {},
   "outputs": [
    {
     "output_type": "stream",
     "name": "stdout",
     "text": [
      "교차 검증별 정확도 [0.98 0.94 0.98]\n평균 검증 정확도 0.9667\n"
     ]
    }
   ],
   "source": [
    "from sklearn.model_selection import cross_val_score, cross_validate\n",
    "\n",
    "scores = cross_val_score(dt_clf, iris.data, iris.target, scoring='accuracy', cv=3)\n",
    "\n",
    "print('교차 검증별 정확도', np.round(scores, 3))\n",
    "print('평균 검증 정확도', np.round(np.mean(scores), 4))"
   ]
  },
  {
   "source": [
    "## 교차 검증과 최적 하이퍼 파리미터 튜닝을 한번에 - GridSearchCV"
   ],
   "cell_type": "markdown",
   "metadata": {}
  },
  {
   "cell_type": "code",
   "execution_count": 32,
   "metadata": {},
   "outputs": [
    {
     "output_type": "execute_result",
     "data": {
      "text/plain": [
       "                                     params  mean_test_score  rank_test_score  \\\n",
       "0  {'max_depth': 2, 'min_samples_split': 2}         0.958333                1   \n",
       "1  {'max_depth': 2, 'min_samples_split': 3}         0.958333                1   \n",
       "2  {'max_depth': 3, 'min_samples_split': 2}         0.950000                4   \n",
       "3  {'max_depth': 3, 'min_samples_split': 3}         0.958333                1   \n",
       "4  {'max_depth': 4, 'min_samples_split': 2}         0.950000                4   \n",
       "5  {'max_depth': 4, 'min_samples_split': 3}         0.950000                4   \n",
       "\n",
       "   split0_test_score  split1_test_score  split2_test_score  \n",
       "0              1.000               0.95              0.925  \n",
       "1              1.000               0.95              0.925  \n",
       "2              0.975               0.95              0.925  \n",
       "3              1.000               0.95              0.925  \n",
       "4              0.975               0.95              0.925  \n",
       "5              0.975               0.95              0.925  "
      ],
      "text/html": "<div>\n<style scoped>\n    .dataframe tbody tr th:only-of-type {\n        vertical-align: middle;\n    }\n\n    .dataframe tbody tr th {\n        vertical-align: top;\n    }\n\n    .dataframe thead th {\n        text-align: right;\n    }\n</style>\n<table border=\"1\" class=\"dataframe\">\n  <thead>\n    <tr style=\"text-align: right;\">\n      <th></th>\n      <th>params</th>\n      <th>mean_test_score</th>\n      <th>rank_test_score</th>\n      <th>split0_test_score</th>\n      <th>split1_test_score</th>\n      <th>split2_test_score</th>\n    </tr>\n  </thead>\n  <tbody>\n    <tr>\n      <th>0</th>\n      <td>{'max_depth': 2, 'min_samples_split': 2}</td>\n      <td>0.958333</td>\n      <td>1</td>\n      <td>1.000</td>\n      <td>0.95</td>\n      <td>0.925</td>\n    </tr>\n    <tr>\n      <th>1</th>\n      <td>{'max_depth': 2, 'min_samples_split': 3}</td>\n      <td>0.958333</td>\n      <td>1</td>\n      <td>1.000</td>\n      <td>0.95</td>\n      <td>0.925</td>\n    </tr>\n    <tr>\n      <th>2</th>\n      <td>{'max_depth': 3, 'min_samples_split': 2}</td>\n      <td>0.950000</td>\n      <td>4</td>\n      <td>0.975</td>\n      <td>0.95</td>\n      <td>0.925</td>\n    </tr>\n    <tr>\n      <th>3</th>\n      <td>{'max_depth': 3, 'min_samples_split': 3}</td>\n      <td>0.958333</td>\n      <td>1</td>\n      <td>1.000</td>\n      <td>0.95</td>\n      <td>0.925</td>\n    </tr>\n    <tr>\n      <th>4</th>\n      <td>{'max_depth': 4, 'min_samples_split': 2}</td>\n      <td>0.950000</td>\n      <td>4</td>\n      <td>0.975</td>\n      <td>0.95</td>\n      <td>0.925</td>\n    </tr>\n    <tr>\n      <th>5</th>\n      <td>{'max_depth': 4, 'min_samples_split': 3}</td>\n      <td>0.950000</td>\n      <td>4</td>\n      <td>0.975</td>\n      <td>0.95</td>\n      <td>0.925</td>\n    </tr>\n  </tbody>\n</table>\n</div>"
     },
     "metadata": {},
     "execution_count": 32
    }
   ],
   "source": [
    "from sklearn.model_selection import GridSearchCV\n",
    "\n",
    "# iris = load_iris()\n",
    "\n",
    "dtree = DecisionTreeClassifier()\n",
    "\n",
    "parameters = {\n",
    "    'max_depth': [2,3,4],\n",
    "    'min_samples_split': [2,3]\n",
    "}\n",
    "\n",
    "grid_dtree = GridSearchCV(dtree, param_grid=parameters, cv=3, refit=True)\n",
    "\n",
    "grid_dtree.fit(x_train, y_train)\n",
    "\n",
    "scores_df = pd.DataFrame(grid_dtree.cv_results_)\n",
    "scores_df[['params', 'mean_test_score', 'rank_test_score', 'split0_test_score', 'split1_test_score', 'split2_test_score']]"
   ]
  },
  {
   "cell_type": "code",
   "execution_count": 35,
   "metadata": {},
   "outputs": [
    {
     "output_type": "stream",
     "name": "stdout",
     "text": [
      "GridSearchCV 최적 파라미터: {'max_depth': 2, 'min_samples_split': 2}\nGridSearchCV 최고 정확도: 0.9583\n테스트 데이터 세트 정확도: 0.8333\n"
     ]
    }
   ],
   "source": [
    "print('GridSearchCV 최적 파라미터:', grid_dtree.best_params_)\n",
    "print('GridSearchCV 최고 정확도: {0:.4f}'.format(grid_dtree.best_score_))\n",
    "\n",
    "# GridSearchCV의 refit으로 이미 학습이 된 estimator 반환\n",
    "estimator = grid_dtree.best_estimator_\n",
    "\n",
    "# GridSearchCV의 best_estimator_는 이미 최적 하이퍼 파라미터로 학습이 됨\n",
    "pred = estimator.predict(x_test)\n",
    "print('테스트 데이터 세트 정확도: {0:.4f}'.format(accuracy_score(y_test, pred)))"
   ]
  },
  {
   "cell_type": "code",
   "execution_count": null,
   "metadata": {},
   "outputs": [],
   "source": []
  }
 ]
}