{
 "metadata": {
  "language_info": {
   "codemirror_mode": {
    "name": "ipython",
    "version": 3
   },
   "file_extension": ".py",
   "mimetype": "text/x-python",
   "name": "python",
   "nbconvert_exporter": "python",
   "pygments_lexer": "ipython3",
   "version": "3.8.5-final"
  },
  "orig_nbformat": 2,
  "kernelspec": {
   "name": "python3",
   "display_name": "Python 3",
   "language": "python"
  }
 },
 "nbformat": 4,
 "nbformat_minor": 2,
 "cells": [
  {
   "source": [
    "# 캐글 제공 타이타닉 탑승자 데이터 기반\n",
    "\n",
    "1) 캐글 데이터(https://www.kaggle.com/c/titanic/data) 다운로드"
   ],
   "cell_type": "markdown",
   "metadata": {}
  },
  {
   "cell_type": "code",
   "execution_count": 1,
   "metadata": {},
   "outputs": [],
   "source": [
    "# Miscellaneous operating system interfaces\n",
    "import os\n",
    "\n",
    "# The fundamental package for scientific computing with Python.\n",
    "import numpy as np\n",
    "\n",
    "# Flexible and powerful data analysis / manipulation library for Python, providing labeled data structures similar to R data.frame objects, statistical functions, and much more\n",
    "import pandas as pd\n",
    "\n",
    "# Set the absolute directory path.\n",
    "BASE_PATH = os.path.abspath('')\n",
    "APP_PATH = os.path.dirname(BASE_PATH)\n",
    "DATA_PATH = os.path.join(APP_PATH, '00.data')"
   ]
  },
  {
   "cell_type": "code",
   "execution_count": 2,
   "metadata": {},
   "outputs": [
    {
     "output_type": "stream",
     "name": "stderr",
     "text": [
      "Matplotlib is building the font cache; this may take a moment.\n"
     ]
    }
   ],
   "source": [
    "# Statistical data visualization using matplotlib.\n",
    "import seaborn as sns\n",
    "\n",
    "# matplotlib: plotting with Python.\n",
    "import matplotlib as mpl\n",
    "import matplotlib.pyplot as plt\n",
    "import matplotlib.font_manager\n",
    "\n",
    "# Set the matplotlib color cycle using a seaborn palette.\n",
    "sns.set_palette('pastel')\n",
    "\n",
    "# plot outputs appear and be stored within the notebook.\n",
    "%matplotlib inline\n",
    "\n",
    "# A module for finding, managing, and using fonts across platforms.\n",
    "mpl.font_manager._rebuild()\n",
    "sorted([f.name for f in mpl.font_manager.fontManager.ttflist if f.name.startswith('Malgun')])\n",
    "\n",
    "mpl.rc('axes', unicode_minus=False)\n",
    "\n",
    "if sys.platform.startswith('darwin'):\n",
    "    mpl.rc('font', family='AppleGothic')\n",
    "elif sys.platform.startswith('win32'):\n",
    "    mpl.rc('font', family='Malgun Gothic')"
   ]
  },
  {
   "source": [
    "## 2) 데이터 확인"
   ],
   "cell_type": "markdown",
   "metadata": {}
  },
  {
   "cell_type": "code",
   "execution_count": 3,
   "metadata": {},
   "outputs": [
    {
     "output_type": "stream",
     "name": "stdout",
     "text": [
      "Null: 0\n"
     ]
    },
    {
     "output_type": "execute_result",
     "data": {
      "text/plain": [
       "   PassengerId  Survived  Pclass                     Name   Sex   Age  SibSp  \\\n",
       "0            1         0       3  Braund, Mr. Owen Harris  male  22.0      1   \n",
       "\n",
       "   Parch     Ticket  Fare Cabin Embarked  \n",
       "0      0  A/5 21171  7.25     -        S  "
      ],
      "text/html": "<div>\n<style scoped>\n    .dataframe tbody tr th:only-of-type {\n        vertical-align: middle;\n    }\n\n    .dataframe tbody tr th {\n        vertical-align: top;\n    }\n\n    .dataframe thead th {\n        text-align: right;\n    }\n</style>\n<table border=\"1\" class=\"dataframe\">\n  <thead>\n    <tr style=\"text-align: right;\">\n      <th></th>\n      <th>PassengerId</th>\n      <th>Survived</th>\n      <th>Pclass</th>\n      <th>Name</th>\n      <th>Sex</th>\n      <th>Age</th>\n      <th>SibSp</th>\n      <th>Parch</th>\n      <th>Ticket</th>\n      <th>Fare</th>\n      <th>Cabin</th>\n      <th>Embarked</th>\n    </tr>\n  </thead>\n  <tbody>\n    <tr>\n      <th>0</th>\n      <td>1</td>\n      <td>0</td>\n      <td>3</td>\n      <td>Braund, Mr. Owen Harris</td>\n      <td>male</td>\n      <td>22.0</td>\n      <td>1</td>\n      <td>0</td>\n      <td>A/5 21171</td>\n      <td>7.25</td>\n      <td>-</td>\n      <td>S</td>\n    </tr>\n  </tbody>\n</table>\n</div>"
     },
     "metadata": {},
     "execution_count": 3
    }
   ],
   "source": [
    "df = pd.read_csv(os.path.join(DATA_PATH, 'kaggle.com', 'titanic', 'train.csv'))\n",
    "\n",
    "# 3) 결손치 처리\n",
    "df['Age'].fillna(df['Age'].mean(), inplace=True)\n",
    "df['Cabin'].fillna('-', inplace=True)\n",
    "df['Embarked'].fillna('-', inplace=True)\n",
    "\n",
    "# 4) 문자열 처리\n",
    "df['Cabin'] = df['Cabin'].str[:1]\n",
    "\n",
    "# Null값 체크\n",
    "print('Null: {}'.format(df.isnull().sum().sum()))\n",
    "\n",
    "df.head(1)"
   ]
  },
  {
   "source": [
    "## 5) Survived 속성을 y로 나머지 피쳐를 X로 만듦"
   ],
   "cell_type": "markdown",
   "metadata": {}
  },
  {
   "cell_type": "code",
   "execution_count": 4,
   "metadata": {},
   "outputs": [
    {
     "output_type": "execute_result",
     "data": {
      "text/plain": [
       "Sex     Survived\n",
       "female  0            81\n",
       "        1           233\n",
       "male    0           468\n",
       "        1           109\n",
       "Name: Survived, dtype: int64"
      ]
     },
     "metadata": {},
     "execution_count": 4
    }
   ],
   "source": [
    "df.groupby(['Sex', 'Survived'])['Survived'].count()"
   ]
  },
  {
   "cell_type": "code",
   "execution_count": 5,
   "metadata": {},
   "outputs": [
    {
     "output_type": "execute_result",
     "data": {
      "text/plain": [
       "<AxesSubplot:xlabel='Sex', ylabel='Survived'>"
      ]
     },
     "metadata": {},
     "execution_count": 5
    },
    {
     "output_type": "display_data",
     "data": {
      "text/plain": "<Figure size 432x288 with 1 Axes>",
      "image/svg+xml": "<?xml version=\"1.0\" encoding=\"utf-8\" standalone=\"no\"?>\n<!DOCTYPE svg PUBLIC \"-//W3C//DTD SVG 1.1//EN\"\n  \"http://www.w3.org/Graphics/SVG/1.1/DTD/svg11.dtd\">\n<!-- Created with matplotlib (https://matplotlib.org/) -->\n<svg height=\"261.961875pt\" version=\"1.1\" viewBox=\"0 0 386.810937 261.961875\" width=\"386.810937pt\" xmlns=\"http://www.w3.org/2000/svg\" xmlns:xlink=\"http://www.w3.org/1999/xlink\">\n <metadata>\n  <rdf:RDF xmlns:cc=\"http://creativecommons.org/ns#\" xmlns:dc=\"http://purl.org/dc/elements/1.1/\" xmlns:rdf=\"http://www.w3.org/1999/02/22-rdf-syntax-ns#\">\n   <cc:Work>\n    <dc:type rdf:resource=\"http://purl.org/dc/dcmitype/StillImage\"/>\n    <dc:date>2021-01-06T16:27:10.508421</dc:date>\n    <dc:format>image/svg+xml</dc:format>\n    <dc:creator>\n     <cc:Agent>\n      <dc:title>Matplotlib v3.3.3, https://matplotlib.org/</dc:title>\n     </cc:Agent>\n    </dc:creator>\n   </cc:Work>\n  </rdf:RDF>\n </metadata>\n <defs>\n  <style type=\"text/css\">*{stroke-linecap:butt;stroke-linejoin:round;}</style>\n </defs>\n <g id=\"figure_1\">\n  <g id=\"patch_1\">\n   <path d=\"M 0 261.961875 \nL 386.810937 261.961875 \nL 386.810937 0 \nL 0 0 \nz\n\" style=\"fill:none;\"/>\n  </g>\n  <g id=\"axes_1\">\n   <g id=\"patch_2\">\n    <path d=\"M 44.810938 224.64 \nL 379.610938 224.64 \nL 379.610938 7.2 \nL 44.810938 7.2 \nz\n\" style=\"fill:#ffffff;\"/>\n   </g>\n   <g id=\"patch_3\">\n    <path clip-path=\"url(#pab24fcd20e)\" d=\"M 61.550938 224.64 \nL 195.470938 224.64 \nL 195.470938 175.108807 \nL 61.550938 175.108807 \nz\n\" style=\"fill:#abc9ea;\"/>\n   </g>\n   <g id=\"patch_4\">\n    <path clip-path=\"url(#pab24fcd20e)\" d=\"M 228.950938 224.64 \nL 362.870937 224.64 \nL 362.870937 30.079631 \nL 228.950938 30.079631 \nz\n\" style=\"fill:#efb792;\"/>\n   </g>\n   <g id=\"matplotlib.axis_1\">\n    <g id=\"xtick_1\">\n     <g id=\"line2d_1\">\n      <defs>\n       <path d=\"M 0 0 \nL 0 3.5 \n\" id=\"mc37c23234f\" style=\"stroke:#000000;stroke-width:0.8;\"/>\n      </defs>\n      <g>\n       <use style=\"stroke:#000000;stroke-width:0.8;\" x=\"128.510938\" xlink:href=\"#mc37c23234f\" y=\"224.64\"/>\n      </g>\n     </g>\n     <g id=\"text_1\">\n      <!-- male -->\n      <g transform=\"translate(117.640625 239.480625)scale(0.1 -0.1)\">\n       <defs>\n        <path d=\"M 84.203125 34.296875 \nL 84.203125 0 \nL 76.90625 0 \nL 76.90625 36 \nQ 76.90625 41.703125 73 45.203125 \nQ 69.703125 48.203125 65.203125 48.203125 \nQ 58.5 48.203125 53.203125 42 \nQ 48 35.90625 48 26.90625 \nL 48 0 \nL 40.703125 0 \nL 40.703125 36 \nQ 40.703125 41.40625 37 44.703125 \nQ 33.5 48.203125 29 48.203125 \nQ 22.5 48.203125 17.40625 42.40625 \nQ 11.796875 36 11.796875 26.59375 \nL 11.796875 0 \nL 4.5 0 \nL 4.5 53.5 \nL 11.296875 53.5 \nL 11.59375 45 \nQ 14.5 49.703125 19.90625 52.40625 \nQ 24.703125 54.703125 29.59375 54.703125 \nQ 37.203125 54.703125 42.40625 50.296875 \nQ 46.203125 47 47.203125 43.703125 \nQ 49.203125 47.40625 52.90625 50.40625 \nQ 58.703125 54.703125 65.703125 54.703125 \nQ 74.203125 54.703125 78.90625 49.59375 \nQ 84.203125 43.796875 84.203125 34.296875 \nz\n\" id=\"AppleGothic-109\"/>\n        <path d=\"M 46.09375 34.59375 \nL 46.09375 9.40625 \nQ 46.09375 7.703125 46.84375 6.453125 \nQ 47.59375 5.203125 49.59375 5.203125 \nQ 50.203125 5.203125 50.59375 5.25 \nQ 51 5.296875 51.40625 5.40625 \nQ 52 5.59375 52.453125 5.796875 \nQ 52.90625 6 53.203125 6.09375 \nL 53.203125 0.5 \nQ 51.40625 -0.09375 49.59375 -0.34375 \nQ 47.796875 -0.59375 46.796875 -0.59375 \nQ 41.703125 -0.59375 40.09375 2.09375 \nQ 38.796875 3.796875 38.796875 9.40625 \nQ 37.5 7.203125 36.203125 5.546875 \nQ 34.90625 3.90625 33.59375 2.796875 \nQ 28.40625 -1.296875 21.5 -1.296875 \nQ 14.203125 -1.296875 8.796875 3 \nQ 3.203125 7.59375 3.203125 14.703125 \nQ 3.203125 23.59375 12.203125 27.796875 \nQ 15.5 29.40625 20.953125 30.59375 \nQ 26.40625 31.796875 34 32.796875 \nL 38.796875 33.296875 \nQ 38.796875 40.296875 35.25 44.25 \nQ 31.703125 48.203125 24.796875 48.203125 \nQ 22.203125 48.203125 19.640625 47.546875 \nQ 17.09375 46.90625 14.5 45.5 \nQ 13.09375 44.703125 11.390625 43.59375 \nQ 9.703125 42.5 7.703125 40.796875 \nL 7.703125 49 \nQ 16.203125 54.703125 26 54.703125 \nQ 36 54.703125 41.40625 48.40625 \nQ 46.09375 42.90625 46.09375 34.59375 \nz\nM 38.796875 24.09375 \nL 38.796875 27.296875 \nL 35.40625 26.90625 \nQ 22.90625 25.59375 17.796875 23.40625 \nQ 11 20.703125 11 14.59375 \nQ 11 12.796875 11.796875 11.140625 \nQ 12.59375 9.5 14 8.203125 \nQ 15.40625 6.90625 17.453125 6.09375 \nQ 19.5 5.296875 22 5.296875 \nQ 28.796875 5.296875 33.90625 10.796875 \nQ 38.796875 16.40625 38.796875 24.09375 \nz\n\" id=\"AppleGothic-97\"/>\n        <path d=\"M 4.5 78.40625 \nL 11.703125 78.40625 \nL 11.703125 0 \nL 4.5 0 \nz\n\" id=\"AppleGothic-108\"/>\n        <path d=\"M 51.5 28.90625 \nL 10.796875 28.90625 \nQ 10.796875 17.40625 16.140625 11.34375 \nQ 21.5 5.296875 30.203125 5.296875 \nQ 36.796875 5.296875 42.90625 9.5 \nQ 44.59375 10.59375 46.5 12.25 \nQ 48.40625 13.90625 50.59375 16.09375 \nL 50.59375 7.40625 \nQ 48.203125 5.59375 46.140625 4.25 \nQ 44.09375 2.90625 42.296875 2 \nQ 36 -1.296875 29.703125 -1.296875 \nQ 18.796875 -1.296875 11.203125 6.203125 \nQ 3 14.09375 3 26.703125 \nQ 3 38.59375 10.40625 46.59375 \nQ 17.90625 54.703125 28.90625 54.703125 \nQ 39.59375 54.703125 45.90625 46.90625 \nQ 51.5 39.796875 51.5 28.90625 \nz\nM 11.796875 35 \nL 43.09375 35 \nQ 41.90625 41.796875 37.953125 45.140625 \nQ 34 48.5 28.40625 48.5 \nQ 22.203125 48.5 17.90625 44.59375 \nQ 13.90625 41 11.796875 35 \nz\n\" id=\"AppleGothic-101\"/>\n       </defs>\n       <use xlink:href=\"#AppleGothic-109\"/>\n       <use x=\"89.299988\" xlink:href=\"#AppleGothic-97\"/>\n       <use x=\"145.799973\" xlink:href=\"#AppleGothic-108\"/>\n       <use x=\"162.499969\" xlink:href=\"#AppleGothic-101\"/>\n      </g>\n     </g>\n    </g>\n    <g id=\"xtick_2\">\n     <g id=\"line2d_2\">\n      <g>\n       <use style=\"stroke:#000000;stroke-width:0.8;\" x=\"295.910938\" xlink:href=\"#mc37c23234f\" y=\"224.64\"/>\n      </g>\n     </g>\n     <g id=\"text_2\">\n      <!-- female -->\n      <g transform=\"translate(280.595313 239.480625)scale(0.1 -0.1)\">\n       <defs>\n        <path d=\"M 10.09375 53.59375 \nL 10.09375 63.796875 \nQ 10.09375 70.90625 12.796875 74.59375 \nQ 16.203125 79.703125 24.296875 79.703125 \nQ 25.203125 79.703125 25.890625 79.640625 \nQ 26.59375 79.59375 27.34375 79.5 \nQ 28.09375 79.40625 29.09375 79.09375 \nQ 30.09375 78.796875 31.5 78.40625 \nL 31.5 71.796875 \nQ 31.203125 72.203125 28.703125 72.703125 \nQ 27.59375 72.90625 26.75 73 \nQ 25.90625 73.09375 25.296875 73.09375 \nQ 21.09375 73.09375 19.1875 70.6875 \nQ 17.296875 68.296875 17.296875 63.796875 \nL 17.296875 53.59375 \nL 31.5 53.59375 \nL 31.5 47.09375 \nL 17.296875 47.09375 \nL 17.296875 0 \nL 10.09375 0 \nL 10.09375 47.09375 \nL 1 47.09375 \nL 1 53.59375 \nz\n\" id=\"AppleGothic-102\"/>\n       </defs>\n       <use xlink:href=\"#AppleGothic-102\"/>\n       <use x=\"33.999985\" xlink:href=\"#AppleGothic-101\"/>\n       <use x=\"88.899979\" xlink:href=\"#AppleGothic-109\"/>\n       <use x=\"178.199966\" xlink:href=\"#AppleGothic-97\"/>\n       <use x=\"234.699951\" xlink:href=\"#AppleGothic-108\"/>\n       <use x=\"251.399948\" xlink:href=\"#AppleGothic-101\"/>\n      </g>\n     </g>\n    </g>\n    <g id=\"text_3\">\n     <!-- Sex -->\n     <g transform=\"translate(203.585156 253.041562)scale(0.1 -0.1)\">\n      <defs>\n       <path d=\"M 53.40625 72.90625 \nL 53.40625 62.796875 \nQ 50.796875 65 48.140625 66.703125 \nQ 45.5 68.40625 42.90625 69.5 \nQ 36.90625 72.296875 30.703125 72.296875 \nQ 22.90625 72.296875 17.796875 68.40625 \nQ 12.59375 64.40625 12.59375 58.90625 \nQ 12.59375 50.90625 24.40625 46.90625 \nQ 29.90625 45 35.34375 43.25 \nQ 40.796875 41.5 46.40625 39.703125 \nQ 58.296875 34 58.296875 22.703125 \nQ 58.296875 11.703125 49.796875 5 \nQ 41.703125 -1.296875 29.703125 -1.296875 \nQ 21.703125 -1.296875 14.296875 1.796875 \nQ 10 3.5 4.09375 7.40625 \nL 4.09375 17.59375 \nQ 11.796875 10.703125 19.703125 7.90625 \nQ 22.296875 6.90625 24.796875 6.5 \nQ 27.296875 6.09375 29.796875 6.09375 \nQ 37.796875 6.09375 43.296875 10.09375 \nQ 49.40625 14.5 49.40625 21.59375 \nQ 49.40625 30.203125 37.796875 34.703125 \nQ 32.203125 36.40625 26.796875 38.203125 \nQ 21.40625 40 16 41.703125 \nQ 4.296875 47.09375 4.296875 58.296875 \nQ 4.296875 67.703125 11.703125 73.59375 \nQ 19.296875 79.703125 30.703125 79.703125 \nQ 37.703125 79.703125 44.703125 77.09375 \nQ 48.296875 75.90625 53.40625 72.90625 \nz\n\" id=\"AppleGothic-83\"/>\n       <path d=\"M 5.5 53.5 \nL 14.5 53.5 \nL 27.40625 33.59375 \nL 40.5 53.5 \nL 48.90625 53.5 \nL 31.59375 28.59375 \nL 51.09375 0 \nL 41.90625 0 \nL 26.90625 23.5 \nL 11.796875 0 \nL 3.296875 0 \nL 22.90625 28.59375 \nz\n\" id=\"AppleGothic-120\"/>\n      </defs>\n      <use xlink:href=\"#AppleGothic-83\"/>\n      <use x=\"63.199997\" xlink:href=\"#AppleGothic-101\"/>\n      <use x=\"118.099991\" xlink:href=\"#AppleGothic-120\"/>\n     </g>\n    </g>\n   </g>\n   <g id=\"matplotlib.axis_2\">\n    <g id=\"ytick_1\">\n     <g id=\"line2d_3\">\n      <defs>\n       <path d=\"M 0 0 \nL -3.5 0 \n\" id=\"m23abfb577c\" style=\"stroke:#000000;stroke-width:0.8;\"/>\n      </defs>\n      <g>\n       <use style=\"stroke:#000000;stroke-width:0.8;\" x=\"44.810938\" xlink:href=\"#m23abfb577c\" y=\"224.64\"/>\n      </g>\n     </g>\n     <g id=\"text_4\">\n      <!-- 0.0 -->\n      <g transform=\"translate(20.760938 228.560312)scale(0.1 -0.1)\">\n       <defs>\n        <path d=\"M 34.796875 -1.296875 \nQ 22.09375 -1.296875 14.59375 9 \nQ 7.203125 19.203125 7.203125 37.296875 \nQ 7.203125 55.5 15.203125 65.90625 \nQ 22.703125 75.90625 34.703125 75.90625 \nQ 47.296875 75.90625 54.40625 65.203125 \nQ 61.796875 54.59375 61.796875 37.40625 \nQ 61.796875 19.5 54.09375 9.09375 \nQ 46.5 -1.296875 34.796875 -1.296875 \nz\nM 34 5.40625 \nQ 44.703125 5.40625 50 15.5 \nQ 54.09375 24 54.09375 37.5 \nQ 54.09375 51.796875 49.40625 60.296875 \nQ 44.09375 69.203125 34.59375 69.203125 \nQ 24.59375 69.203125 19.5 59.703125 \nQ 15 51.296875 15 37.09375 \nQ 15 23.09375 19.5 14.703125 \nQ 24.59375 5.40625 34 5.40625 \nz\n\" id=\"AppleGothic-48\"/>\n        <path d=\"M 14.296875 -0.296875 \nQ 11.90625 -0.296875 10.203125 1.703125 \nQ 8.5 3.703125 8.5 6.59375 \nQ 8.5 9.59375 10.25 11.640625 \nQ 12 13.703125 14.296875 13.703125 \nQ 16.5 13.703125 18.25 11.84375 \nQ 20 10 20 6.796875 \nQ 20 3.796875 18.296875 1.75 \nQ 16.59375 -0.296875 14.296875 -0.296875 \nz\n\" id=\"AppleGothic-46\"/>\n       </defs>\n       <use xlink:href=\"#AppleGothic-48\"/>\n       <use x=\"67.999985\" xlink:href=\"#AppleGothic-46\"/>\n       <use x=\"102.499969\" xlink:href=\"#AppleGothic-48\"/>\n      </g>\n     </g>\n    </g>\n    <g id=\"ytick_2\">\n     <g id=\"line2d_4\">\n      <g>\n       <use style=\"stroke:#000000;stroke-width:0.8;\" x=\"44.810938\" xlink:href=\"#m23abfb577c\" y=\"198.420276\"/>\n      </g>\n     </g>\n     <g id=\"text_5\">\n      <!-- 0.1 -->\n      <g transform=\"translate(20.760938 202.340589)scale(0.1 -0.1)\">\n       <defs>\n        <path d=\"M 36.59375 74.59375 \nL 43 74.59375 \nL 43 0 \nL 35.703125 0 \nL 35.703125 55.09375 \nL 18.09375 55.09375 \nL 18.09375 60.703125 \nL 22.09375 60.703125 \nQ 31.09375 60.703125 34.59375 65.703125 \nQ 36.59375 68.90625 36.59375 74.59375 \nz\n\" id=\"AppleGothic-49\"/>\n       </defs>\n       <use xlink:href=\"#AppleGothic-48\"/>\n       <use x=\"67.999985\" xlink:href=\"#AppleGothic-46\"/>\n       <use x=\"102.499969\" xlink:href=\"#AppleGothic-49\"/>\n      </g>\n     </g>\n    </g>\n    <g id=\"ytick_3\">\n     <g id=\"line2d_5\">\n      <g>\n       <use style=\"stroke:#000000;stroke-width:0.8;\" x=\"44.810938\" xlink:href=\"#m23abfb577c\" y=\"172.200553\"/>\n      </g>\n     </g>\n     <g id=\"text_6\">\n      <!-- 0.2 -->\n      <g transform=\"translate(20.760938 176.120865)scale(0.1 -0.1)\">\n       <defs>\n        <path d=\"M 17.203125 6.703125 \nL 61.59375 6.703125 \nL 61.59375 0 \nL 10.203125 0 \nL 10.203125 3.203125 \nQ 10.203125 15.90625 21 26 \nQ 26.09375 29.59375 31.09375 33.1875 \nQ 36.09375 36.796875 41.203125 40.5 \nQ 52.09375 48.40625 52.09375 56.203125 \nQ 52.09375 62.40625 47.09375 65.90625 \nQ 44.796875 67.59375 42.09375 68.390625 \nQ 39.40625 69.203125 36.203125 69.203125 \nQ 31.5 69.203125 27.203125 68 \nQ 20.703125 66 13.796875 61.09375 \nL 13.796875 69.296875 \nQ 20.703125 72.796875 26.046875 74.34375 \nQ 31.40625 75.90625 36.203125 75.90625 \nQ 46.296875 75.90625 53.203125 70.703125 \nQ 60 65.59375 60 56.59375 \nQ 60 46.796875 49.5 38.09375 \nQ 44.5 34.59375 39.546875 31.25 \nQ 34.59375 27.90625 29.59375 24.40625 \nQ 18.40625 16 17.203125 6.703125 \nz\n\" id=\"AppleGothic-50\"/>\n       </defs>\n       <use xlink:href=\"#AppleGothic-48\"/>\n       <use x=\"67.999985\" xlink:href=\"#AppleGothic-46\"/>\n       <use x=\"102.499969\" xlink:href=\"#AppleGothic-50\"/>\n      </g>\n     </g>\n    </g>\n    <g id=\"ytick_4\">\n     <g id=\"line2d_6\">\n      <g>\n       <use style=\"stroke:#000000;stroke-width:0.8;\" x=\"44.810938\" xlink:href=\"#m23abfb577c\" y=\"145.980829\"/>\n      </g>\n     </g>\n     <g id=\"text_7\">\n      <!-- 0.3 -->\n      <g transform=\"translate(20.760938 149.901142)scale(0.1 -0.1)\">\n       <defs>\n        <path d=\"M 8.59375 5.203125 \nL 8.59375 13.59375 \nQ 13.796875 9.703125 19.296875 7.546875 \nQ 24.796875 5.40625 30.796875 5.40625 \nQ 39.40625 5.40625 44.703125 10.40625 \nQ 50.296875 15.5 50.296875 22.203125 \nQ 50.296875 29.203125 44.40625 32.796875 \nQ 39.296875 36 30.703125 36 \nL 15.5 36 \nL 15.5 42.203125 \nL 25.90625 42.203125 \nQ 35.90625 42.203125 41.59375 45.75 \nQ 47.296875 49.296875 47.296875 56 \nQ 47.296875 61.5 43 65.203125 \nQ 38.40625 69.203125 30.90625 69.203125 \nQ 27.90625 69.203125 24.953125 68.640625 \nQ 22 68.09375 19.09375 66.90625 \nQ 13.90625 64.703125 8.296875 60.5 \nL 8.296875 69.09375 \nQ 11.5 70.796875 14.25 72 \nQ 17 73.203125 19.59375 74 \nQ 25.40625 75.90625 31.59375 75.90625 \nQ 41.40625 75.90625 47.90625 70.796875 \nQ 54.5 65.796875 54.5 56.90625 \nQ 54.5 49.5 49.5 44.703125 \nQ 46.5 41.796875 41.296875 39.90625 \nQ 44.90625 39.40625 47.703125 38.25 \nQ 50.5 37.09375 52.59375 35.40625 \nQ 58.09375 30.796875 58.09375 22.40625 \nQ 58.09375 12.703125 50.296875 5.703125 \nQ 42.40625 -1.296875 30.703125 -1.296875 \nQ 24.203125 -1.296875 17.59375 1.09375 \nQ 16 1.59375 13.75 2.59375 \nQ 11.5 3.59375 8.59375 5.203125 \nz\n\" id=\"AppleGothic-51\"/>\n       </defs>\n       <use xlink:href=\"#AppleGothic-48\"/>\n       <use x=\"67.999985\" xlink:href=\"#AppleGothic-46\"/>\n       <use x=\"102.499969\" xlink:href=\"#AppleGothic-51\"/>\n      </g>\n     </g>\n    </g>\n    <g id=\"ytick_5\">\n     <g id=\"line2d_7\">\n      <g>\n       <use style=\"stroke:#000000;stroke-width:0.8;\" x=\"44.810938\" xlink:href=\"#m23abfb577c\" y=\"119.761106\"/>\n      </g>\n     </g>\n     <g id=\"text_8\">\n      <!-- 0.4 -->\n      <g transform=\"translate(20.760938 123.681418)scale(0.1 -0.1)\">\n       <defs>\n        <path d=\"M 41.59375 74.59375 \nL 48.90625 74.59375 \nL 48.90625 28.296875 \nL 62.5 28.296875 \nL 62.5 21.59375 \nL 48.90625 21.59375 \nL 48.90625 0 \nL 41.59375 0 \nL 41.59375 21.59375 \nL 5.5 21.59375 \nL 5.5 28.296875 \nz\nM 41.59375 28.296875 \nL 41.59375 65.09375 \nL 13.09375 28.296875 \nz\n\" id=\"AppleGothic-52\"/>\n       </defs>\n       <use xlink:href=\"#AppleGothic-48\"/>\n       <use x=\"67.999985\" xlink:href=\"#AppleGothic-46\"/>\n       <use x=\"102.499969\" xlink:href=\"#AppleGothic-52\"/>\n      </g>\n     </g>\n    </g>\n    <g id=\"ytick_6\">\n     <g id=\"line2d_8\">\n      <g>\n       <use style=\"stroke:#000000;stroke-width:0.8;\" x=\"44.810938\" xlink:href=\"#m23abfb577c\" y=\"93.541382\"/>\n      </g>\n     </g>\n     <g id=\"text_9\">\n      <!-- 0.5 -->\n      <g transform=\"translate(20.760938 97.461695)scale(0.1 -0.1)\">\n       <defs>\n        <path d=\"M 9.703125 74.5 \nL 54.5 74.5 \nL 54.5 67.796875 \nL 17 67.796875 \nL 17 42.296875 \nQ 18.5 43.296875 20.203125 44.046875 \nQ 21.90625 44.796875 23.59375 45.5 \nQ 29.09375 47.5 35.296875 47.5 \nQ 46.703125 47.5 53.5 40.703125 \nQ 59.796875 34.40625 59.796875 24.703125 \nQ 59.796875 13.59375 51.5 6.203125 \nQ 43.203125 -1.296875 31.40625 -1.296875 \nQ 25.796875 -1.296875 19.5 0.703125 \nQ 18.09375 1.203125 15.640625 2.140625 \nQ 13.203125 3.09375 9.703125 4.703125 \nL 9.703125 13.09375 \nQ 14.5 10 18.796875 8.203125 \nQ 22 6.796875 25.203125 6.09375 \nQ 28.40625 5.40625 31.40625 5.40625 \nQ 39.5 5.40625 45.40625 10.40625 \nQ 51.90625 15.796875 51.90625 24 \nQ 51.90625 31.09375 47.203125 35.796875 \nQ 42.203125 40.796875 33.5 40.796875 \nQ 29 40.796875 24.796875 39.5 \nQ 20.59375 38.203125 17 35.5 \nL 9.703125 35.5 \nz\n\" id=\"AppleGothic-53\"/>\n       </defs>\n       <use xlink:href=\"#AppleGothic-48\"/>\n       <use x=\"67.999985\" xlink:href=\"#AppleGothic-46\"/>\n       <use x=\"102.499969\" xlink:href=\"#AppleGothic-53\"/>\n      </g>\n     </g>\n    </g>\n    <g id=\"ytick_7\">\n     <g id=\"line2d_9\">\n      <g>\n       <use style=\"stroke:#000000;stroke-width:0.8;\" x=\"44.810938\" xlink:href=\"#m23abfb577c\" y=\"67.321659\"/>\n      </g>\n     </g>\n     <g id=\"text_10\">\n      <!-- 0.6 -->\n      <g transform=\"translate(20.760938 71.241971)scale(0.1 -0.1)\">\n       <defs>\n        <path d=\"M 57.796875 71.203125 \nL 57.796875 62.703125 \nQ 56 64.09375 54.296875 65.046875 \nQ 52.59375 66 50.90625 66.796875 \nQ 48.203125 68.09375 45.59375 68.640625 \nQ 43 69.203125 40.40625 69.203125 \nQ 38.59375 69.203125 36.75 68.890625 \nQ 34.90625 68.59375 33.09375 67.796875 \nQ 26.09375 64.90625 21.796875 58.40625 \nQ 15.796875 49.203125 15.796875 34.203125 \nQ 20.5 38.90625 24.5 41.5 \nQ 31.59375 45.796875 39.59375 45.796875 \nQ 49.40625 45.796875 56 40.09375 \nQ 63.09375 33.796875 63.09375 23.296875 \nQ 63.09375 12.59375 55.59375 5.59375 \nQ 48.09375 -1.296875 37.40625 -1.296875 \nQ 26.09375 -1.296875 17.90625 7.09375 \nQ 8.09375 17 8.09375 35.203125 \nQ 8.09375 53.296875 17.5 64.59375 \nQ 26.796875 75.90625 40.703125 75.90625 \nQ 45.90625 75.90625 50.40625 74.40625 \nQ 51.703125 73.90625 53.546875 73.15625 \nQ 55.40625 72.40625 57.796875 71.203125 \nz\nM 16.59375 26.59375 \nQ 18 18 23.40625 12 \nQ 29.40625 5.40625 37.796875 5.40625 \nQ 45.296875 5.40625 50.203125 10.296875 \nQ 55.296875 15.203125 55.296875 22.796875 \nQ 55.296875 30 50.40625 34.59375 \nQ 45.59375 39.09375 39 39.09375 \nQ 31.09375 39.09375 24.09375 34 \nQ 22.09375 32.5 20.1875 30.703125 \nQ 18.296875 28.90625 16.59375 26.59375 \nz\n\" id=\"AppleGothic-54\"/>\n       </defs>\n       <use xlink:href=\"#AppleGothic-48\"/>\n       <use x=\"67.999985\" xlink:href=\"#AppleGothic-46\"/>\n       <use x=\"102.499969\" xlink:href=\"#AppleGothic-54\"/>\n      </g>\n     </g>\n    </g>\n    <g id=\"ytick_8\">\n     <g id=\"line2d_10\">\n      <g>\n       <use style=\"stroke:#000000;stroke-width:0.8;\" x=\"44.810938\" xlink:href=\"#m23abfb577c\" y=\"41.101935\"/>\n      </g>\n     </g>\n     <g id=\"text_11\">\n      <!-- 0.7 -->\n      <g transform=\"translate(20.760938 45.022248)scale(0.1 -0.1)\">\n       <defs>\n        <path d=\"M 9.296875 74.59375 \nL 59.40625 74.59375 \nL 59.40625 68.90625 \nL 27.09375 0 \nL 19.296875 0 \nL 51.203125 68 \nL 9.296875 68 \nz\n\" id=\"AppleGothic-55\"/>\n       </defs>\n       <use xlink:href=\"#AppleGothic-48\"/>\n       <use x=\"67.999985\" xlink:href=\"#AppleGothic-46\"/>\n       <use x=\"102.499969\" xlink:href=\"#AppleGothic-55\"/>\n      </g>\n     </g>\n    </g>\n    <g id=\"ytick_9\">\n     <g id=\"line2d_11\">\n      <g>\n       <use style=\"stroke:#000000;stroke-width:0.8;\" x=\"44.810938\" xlink:href=\"#m23abfb577c\" y=\"14.882212\"/>\n      </g>\n     </g>\n     <g id=\"text_12\">\n      <!-- 0.8 -->\n      <g transform=\"translate(20.760938 18.802524)scale(0.1 -0.1)\">\n       <defs>\n        <path d=\"M 46.203125 40.703125 \nQ 50.296875 39.5 53.1875 38.203125 \nQ 56.09375 36.90625 57.90625 35.5 \nQ 65.5 30.09375 65.5 21.40625 \nQ 65.5 11.703125 56.90625 5.203125 \nQ 48.40625 -1.296875 35.703125 -1.296875 \nQ 22.40625 -1.296875 14.796875 5.09375 \nQ 8 10.796875 8 19.203125 \nQ 8 28.09375 15.59375 33.203125 \nQ 17.90625 34.796875 20.953125 36 \nQ 24 37.203125 27.796875 38.296875 \nQ 24.59375 39.59375 22.34375 40.890625 \nQ 20.09375 42.203125 18.703125 43.5 \nQ 12.796875 48.5 12.796875 56.296875 \nQ 12.796875 65.203125 19.703125 70.5 \nQ 26.59375 75.90625 37.203125 75.90625 \nQ 47.09375 75.90625 53.703125 71.40625 \nQ 60.90625 66.59375 60.90625 58.40625 \nQ 60.90625 52.703125 57.34375 48.140625 \nQ 53.796875 43.59375 46.203125 40.703125 \nz\nM 37.59375 43 \nQ 41 44.296875 43.453125 45.546875 \nQ 45.90625 46.796875 47.5 47.90625 \nQ 53.09375 51.90625 53.09375 57.296875 \nQ 53.09375 62.40625 48.5 65.703125 \nQ 44.09375 69.203125 36.90625 69.203125 \nQ 29.59375 69.203125 25.203125 65.703125 \nQ 20.703125 62.40625 20.703125 56.796875 \nQ 20.703125 51.90625 24.703125 48.40625 \nQ 26.5 46.90625 29.703125 45.5 \nQ 32.90625 44.09375 37.59375 43 \nz\nM 37 36 \nQ 32.203125 34.40625 28.75 32.90625 \nQ 25.296875 31.40625 23 30 \nQ 15.796875 25.40625 15.796875 19.296875 \nQ 15.796875 13.203125 21.5 9.296875 \nQ 27 5.40625 36.09375 5.40625 \nQ 45.90625 5.40625 51.796875 10 \nQ 57.703125 14.59375 57.703125 20.90625 \nQ 57.703125 27.203125 50.59375 31.203125 \nQ 48.5 32.296875 45.09375 33.546875 \nQ 41.703125 34.796875 37 36 \nz\n\" id=\"AppleGothic-56\"/>\n       </defs>\n       <use xlink:href=\"#AppleGothic-48\"/>\n       <use x=\"67.999985\" xlink:href=\"#AppleGothic-46\"/>\n       <use x=\"102.499969\" xlink:href=\"#AppleGothic-56\"/>\n      </g>\n     </g>\n    </g>\n    <g id=\"text_13\">\n     <!-- Survived -->\n     <g transform=\"translate(15.040625 135.27625)rotate(-90)scale(0.1 -0.1)\">\n      <defs>\n       <path d=\"M 4.09375 53.5 \nL 11.40625 53.5 \nL 11.40625 19.40625 \nQ 11.40625 13.703125 14.703125 9.796875 \nQ 18.296875 5.296875 24.90625 5.296875 \nQ 32.5 5.296875 37.90625 11.40625 \nQ 43.5 17.796875 43.5 25.5 \nL 43.5 53.5 \nL 50.703125 53.5 \nL 50.703125 0 \nL 44.40625 0 \nL 43.90625 9.09375 \nQ 42.296875 6.90625 40.5 5.15625 \nQ 38.703125 3.40625 36.59375 2.09375 \nQ 31 -1.296875 24.296875 -1.296875 \nQ 15.09375 -1.296875 9.59375 4.40625 \nQ 4.09375 10.203125 4.09375 18.5 \nz\n\" id=\"AppleGothic-117\"/>\n       <path d=\"M 33.203125 53.5 \nL 33.203125 46.296875 \nQ 32.09375 46.703125 31.390625 46.953125 \nQ 30.703125 47.203125 30.203125 47.296875 \nQ 29.703125 47.40625 29.140625 47.453125 \nQ 28.59375 47.5 27.703125 47.5 \nQ 20.40625 47.5 15.703125 40.40625 \nQ 11.703125 33.90625 11.703125 25.90625 \nL 11.703125 0 \nL 4.5 0 \nL 4.5 53.5 \nL 11.09375 53.5 \nL 11.59375 44.296875 \nQ 14.09375 48.5 16.296875 50.296875 \nQ 20.796875 54 27.09375 54 \nQ 28.796875 54 30.25 53.890625 \nQ 31.703125 53.796875 33.203125 53.5 \nz\n\" id=\"AppleGothic-114\"/>\n       <path d=\"M 1.703125 53.5 \nL 9.796875 53.5 \nL 26.796875 7.59375 \nL 44.203125 53.5 \nL 51.40625 53.5 \nL 30 0 \nL 23.09375 0 \nz\n\" id=\"AppleGothic-118\"/>\n       <path d=\"M 4 53.5 \nL 11.203125 53.5 \nL 11.203125 0 \nL 4 0 \nz\nM 7.5 76.09375 \nQ 9.59375 76.09375 11 74.6875 \nQ 12.40625 73.296875 12.40625 70.703125 \nQ 12.40625 68.09375 11.09375 66.6875 \nQ 9.796875 65.296875 7.5 65.296875 \nQ 5.203125 65.296875 3.953125 66.890625 \nQ 2.703125 68.5 2.703125 70.59375 \nQ 2.703125 73.90625 4.203125 75 \nQ 5.703125 76.09375 7.5 76.09375 \nz\n\" id=\"AppleGothic-105\"/>\n       <path d=\"M 41.90625 78.40625 \nL 49.59375 78.40625 \nL 49.59375 0 \nL 42.703125 0 \nL 42 8.703125 \nQ 40.59375 6.703125 39.1875 5.140625 \nQ 37.796875 3.59375 36.40625 2.5 \nQ 31.40625 -1.296875 24.796875 -1.296875 \nQ 14.5 -1.296875 7.703125 6.703125 \nQ 1 14.703125 1 26.09375 \nQ 1 37.90625 8.09375 46.203125 \nQ 15.296875 54.703125 26.09375 54.703125 \nQ 30.59375 54.703125 34.5 53.09375 \nQ 35.90625 52.5 37.75 51.5 \nQ 39.59375 50.5 41.90625 49.09375 \nz\nM 41.90625 25.90625 \nL 41.90625 41.296875 \nQ 37.203125 45.40625 33.703125 46.796875 \nQ 30.203125 48.203125 26.90625 48.203125 \nQ 18.703125 48.203125 13.59375 41.296875 \nQ 8.796875 34.796875 8.796875 26.203125 \nQ 8.796875 17 14.09375 10.90625 \nQ 19 5.296875 25.703125 5.296875 \nQ 32.296875 5.296875 37.09375 11.09375 \nQ 41.90625 16.90625 41.90625 25.90625 \nz\n\" id=\"AppleGothic-100\"/>\n      </defs>\n      <use xlink:href=\"#AppleGothic-83\"/>\n      <use x=\"63.199997\" xlink:href=\"#AppleGothic-117\"/>\n      <use x=\"118.699982\" xlink:href=\"#AppleGothic-114\"/>\n      <use x=\"153.899979\" xlink:href=\"#AppleGothic-118\"/>\n      <use x=\"208.099976\" xlink:href=\"#AppleGothic-105\"/>\n      <use x=\"223.999969\" xlink:href=\"#AppleGothic-118\"/>\n      <use x=\"278.199966\" xlink:href=\"#AppleGothic-101\"/>\n      <use x=\"333.09996\" xlink:href=\"#AppleGothic-100\"/>\n     </g>\n    </g>\n   </g>\n   <g id=\"line2d_12\">\n    <path clip-path=\"url(#pab24fcd20e)\" d=\"M 128.510938 183.28827 \nL 128.510938 166.463568 \n\" style=\"fill:none;stroke:#424242;stroke-linecap:square;stroke-width:2.7;\"/>\n   </g>\n   <g id=\"line2d_13\">\n    <path clip-path=\"url(#pab24fcd20e)\" d=\"M 295.910938 42.604977 \nL 295.910938 17.554286 \n\" style=\"fill:none;stroke:#424242;stroke-linecap:square;stroke-width:2.7;\"/>\n   </g>\n   <g id=\"patch_5\">\n    <path d=\"M 44.810938 224.64 \nL 44.810938 7.2 \n\" style=\"fill:none;stroke:#000000;stroke-linecap:square;stroke-linejoin:miter;stroke-width:0.8;\"/>\n   </g>\n   <g id=\"patch_6\">\n    <path d=\"M 379.610938 224.64 \nL 379.610938 7.2 \n\" style=\"fill:none;stroke:#000000;stroke-linecap:square;stroke-linejoin:miter;stroke-width:0.8;\"/>\n   </g>\n   <g id=\"patch_7\">\n    <path d=\"M 44.810938 224.64 \nL 379.610938 224.64 \n\" style=\"fill:none;stroke:#000000;stroke-linecap:square;stroke-linejoin:miter;stroke-width:0.8;\"/>\n   </g>\n   <g id=\"patch_8\">\n    <path d=\"M 44.810938 7.2 \nL 379.610938 7.2 \n\" style=\"fill:none;stroke:#000000;stroke-linecap:square;stroke-linejoin:miter;stroke-width:0.8;\"/>\n   </g>\n  </g>\n </g>\n <defs>\n  <clipPath id=\"pab24fcd20e\">\n   <rect height=\"217.44\" width=\"334.8\" x=\"44.810938\" y=\"7.2\"/>\n  </clipPath>\n </defs>\n</svg>\n",
      "image/png": "[encoded data removed]"
     },
     "metadata": {
      "needs_background": "light"
     }
    }
   ],
   "source": [
    "sns.barplot(x='Sex', y='Survived', data=df)"
   ]
  },
  {
   "cell_type": "code",
   "execution_count": 6,
   "metadata": {},
   "outputs": [
    {
     "output_type": "display_data",
     "data": {
      "text/plain": "<Figure size 432x288 with 1 Axes>",
      "image/svg+xml": "<?xml version=\"1.0\" encoding=\"utf-8\" standalone=\"no\"?>\n<!DOCTYPE svg PUBLIC \"-//W3C//DTD SVG 1.1//EN\"\n  \"http://www.w3.org/Graphics/SVG/1.1/DTD/svg11.dtd\">\n<!-- Created with matplotlib (https://matplotlib.org/) -->\n<svg height=\"261.961875pt\" version=\"1.1\" viewBox=\"0 0 386.810937 261.961875\" width=\"386.810937pt\" xmlns=\"http://www.w3.org/2000/svg\" xmlns:xlink=\"http://www.w3.org/1999/xlink\">\n <metadata>\n  <rdf:RDF xmlns:cc=\"http://creativecommons.org/ns#\" xmlns:dc=\"http://purl.org/dc/elements/1.1/\" xmlns:rdf=\"http://www.w3.org/1999/02/22-rdf-syntax-ns#\">\n   <cc:Work>\n    <dc:type rdf:resource=\"http://purl.org/dc/dcmitype/StillImage\"/>\n    <dc:date>2021-01-06T16:27:16.257388</dc:date>\n    <dc:format>image/svg+xml</dc:format>\n    <dc:creator>\n     <cc:Agent>\n      <dc:title>Matplotlib v3.3.3, https://matplotlib.org/</dc:title>\n     </cc:Agent>\n    </dc:creator>\n   </cc:Work>\n  </rdf:RDF>\n </metadata>\n <defs>\n  <style type=\"text/css\">*{stroke-linecap:butt;stroke-linejoin:round;}</style>\n </defs>\n <g id=\"figure_1\">\n  <g id=\"patch_1\">\n   <path d=\"M 0 261.961875 \nL 386.810937 261.961875 \nL 386.810937 0 \nL 0 0 \nz\n\" style=\"fill:none;\"/>\n  </g>\n  <g id=\"axes_1\">\n   <g id=\"patch_2\">\n    <path d=\"M 44.810938 224.64 \nL 379.610938 224.64 \nL 379.610938 7.2 \nL 44.810938 7.2 \nz\n\" style=\"fill:#ffffff;\"/>\n   </g>\n   <g id=\"patch_3\">\n    <path clip-path=\"url(#pc0e687001f)\" d=\"M 55.970938 224.64 \nL 100.610938 224.64 \nL 100.610938 148.255925 \nL 55.970938 148.255925 \nz\n\" style=\"fill:#abc9ea;\"/>\n   </g>\n   <g id=\"patch_4\">\n    <path clip-path=\"url(#pc0e687001f)\" d=\"M 167.570938 224.64 \nL 212.210938 224.64 \nL 212.210938 192.043175 \nL 167.570938 192.043175 \nz\n\" style=\"fill:#abc9ea;\"/>\n   </g>\n   <g id=\"patch_5\">\n    <path clip-path=\"url(#pc0e687001f)\" d=\"M 279.170938 224.64 \nL 323.810938 224.64 \nL 323.810938 196.590926 \nL 279.170938 196.590926 \nz\n\" style=\"fill:#abc9ea;\"/>\n   </g>\n   <g id=\"patch_6\">\n    <path clip-path=\"url(#pc0e687001f)\" d=\"M 100.610938 224.64 \nL 145.250938 224.64 \nL 145.250938 24.163404 \nL 100.610938 24.163404 \nz\n\" style=\"fill:#efb792;\"/>\n   </g>\n   <g id=\"patch_7\">\n    <path clip-path=\"url(#pc0e687001f)\" d=\"M 212.210938 224.64 \nL 256.850937 224.64 \nL 256.850937 33.903158 \nL 212.210938 33.903158 \nz\n\" style=\"fill:#efb792;\"/>\n   </g>\n   <g id=\"patch_8\">\n    <path clip-path=\"url(#pc0e687001f)\" d=\"M 323.810938 224.64 \nL 368.450938 224.64 \nL 368.450938 121.097143 \nL 323.810938 121.097143 \nz\n\" style=\"fill:#efb792;\"/>\n   </g>\n   <g id=\"matplotlib.axis_1\">\n    <g id=\"xtick_1\">\n     <g id=\"line2d_1\">\n      <defs>\n       <path d=\"M 0 0 \nL 0 3.5 \n\" id=\"m21393bfddd\" style=\"stroke:#000000;stroke-width:0.8;\"/>\n      </defs>\n      <g>\n       <use style=\"stroke:#000000;stroke-width:0.8;\" x=\"100.610938\" xlink:href=\"#m21393bfddd\" y=\"224.64\"/>\n      </g>\n     </g>\n     <g id=\"text_1\">\n      <!-- 1 -->\n      <g transform=\"translate(97.210938 239.480625)scale(0.1 -0.1)\">\n       <defs>\n        <path d=\"M 36.59375 74.59375 \nL 43 74.59375 \nL 43 0 \nL 35.703125 0 \nL 35.703125 55.09375 \nL 18.09375 55.09375 \nL 18.09375 60.703125 \nL 22.09375 60.703125 \nQ 31.09375 60.703125 34.59375 65.703125 \nQ 36.59375 68.90625 36.59375 74.59375 \nz\n\" id=\"AppleGothic-49\"/>\n       </defs>\n       <use xlink:href=\"#AppleGothic-49\"/>\n      </g>\n     </g>\n    </g>\n    <g id=\"xtick_2\">\n     <g id=\"line2d_2\">\n      <g>\n       <use style=\"stroke:#000000;stroke-width:0.8;\" x=\"212.210938\" xlink:href=\"#m21393bfddd\" y=\"224.64\"/>\n      </g>\n     </g>\n     <g id=\"text_2\">\n      <!-- 2 -->\n      <g transform=\"translate(208.810937 239.480625)scale(0.1 -0.1)\">\n       <defs>\n        <path d=\"M 17.203125 6.703125 \nL 61.59375 6.703125 \nL 61.59375 0 \nL 10.203125 0 \nL 10.203125 3.203125 \nQ 10.203125 15.90625 21 26 \nQ 26.09375 29.59375 31.09375 33.1875 \nQ 36.09375 36.796875 41.203125 40.5 \nQ 52.09375 48.40625 52.09375 56.203125 \nQ 52.09375 62.40625 47.09375 65.90625 \nQ 44.796875 67.59375 42.09375 68.390625 \nQ 39.40625 69.203125 36.203125 69.203125 \nQ 31.5 69.203125 27.203125 68 \nQ 20.703125 66 13.796875 61.09375 \nL 13.796875 69.296875 \nQ 20.703125 72.796875 26.046875 74.34375 \nQ 31.40625 75.90625 36.203125 75.90625 \nQ 46.296875 75.90625 53.203125 70.703125 \nQ 60 65.59375 60 56.59375 \nQ 60 46.796875 49.5 38.09375 \nQ 44.5 34.59375 39.546875 31.25 \nQ 34.59375 27.90625 29.59375 24.40625 \nQ 18.40625 16 17.203125 6.703125 \nz\n\" id=\"AppleGothic-50\"/>\n       </defs>\n       <use xlink:href=\"#AppleGothic-50\"/>\n      </g>\n     </g>\n    </g>\n    <g id=\"xtick_3\">\n     <g id=\"line2d_3\">\n      <g>\n       <use style=\"stroke:#000000;stroke-width:0.8;\" x=\"323.810938\" xlink:href=\"#m21393bfddd\" y=\"224.64\"/>\n      </g>\n     </g>\n     <g id=\"text_3\">\n      <!-- 3 -->\n      <g transform=\"translate(320.410938 239.480625)scale(0.1 -0.1)\">\n       <defs>\n        <path d=\"M 8.59375 5.203125 \nL 8.59375 13.59375 \nQ 13.796875 9.703125 19.296875 7.546875 \nQ 24.796875 5.40625 30.796875 5.40625 \nQ 39.40625 5.40625 44.703125 10.40625 \nQ 50.296875 15.5 50.296875 22.203125 \nQ 50.296875 29.203125 44.40625 32.796875 \nQ 39.296875 36 30.703125 36 \nL 15.5 36 \nL 15.5 42.203125 \nL 25.90625 42.203125 \nQ 35.90625 42.203125 41.59375 45.75 \nQ 47.296875 49.296875 47.296875 56 \nQ 47.296875 61.5 43 65.203125 \nQ 38.40625 69.203125 30.90625 69.203125 \nQ 27.90625 69.203125 24.953125 68.640625 \nQ 22 68.09375 19.09375 66.90625 \nQ 13.90625 64.703125 8.296875 60.5 \nL 8.296875 69.09375 \nQ 11.5 70.796875 14.25 72 \nQ 17 73.203125 19.59375 74 \nQ 25.40625 75.90625 31.59375 75.90625 \nQ 41.40625 75.90625 47.90625 70.796875 \nQ 54.5 65.796875 54.5 56.90625 \nQ 54.5 49.5 49.5 44.703125 \nQ 46.5 41.796875 41.296875 39.90625 \nQ 44.90625 39.40625 47.703125 38.25 \nQ 50.5 37.09375 52.59375 35.40625 \nQ 58.09375 30.796875 58.09375 22.40625 \nQ 58.09375 12.703125 50.296875 5.703125 \nQ 42.40625 -1.296875 30.703125 -1.296875 \nQ 24.203125 -1.296875 17.59375 1.09375 \nQ 16 1.59375 13.75 2.59375 \nQ 11.5 3.59375 8.59375 5.203125 \nz\n\" id=\"AppleGothic-51\"/>\n       </defs>\n       <use xlink:href=\"#AppleGothic-51\"/>\n      </g>\n     </g>\n    </g>\n    <g id=\"text_4\">\n     <!-- Pclass -->\n     <g transform=\"translate(197.98125 253.041562)scale(0.1 -0.1)\">\n      <defs>\n       <path d=\"M 4.09375 78.40625 \nL 29.203125 78.40625 \nQ 40 78.40625 46.90625 74.703125 \nQ 56.203125 69.5 56.203125 58.09375 \nQ 56.203125 47.09375 48.5 41.09375 \nQ 41.5 35.5 30.5 35.5 \nL 12 35.5 \nL 12 0 \nL 4.09375 0 \nz\nM 29.09375 71.5 \nL 12 71.5 \nL 12 42.40625 \nL 29.703125 42.40625 \nQ 36.703125 42.40625 41.796875 46.09375 \nQ 47.5 50.296875 47.5 57.40625 \nQ 47.5 65.40625 40.796875 68.90625 \nQ 35.90625 71.5 29.09375 71.5 \nz\n\" id=\"AppleGothic-80\"/>\n       <path d=\"M 48.203125 48.796875 \nL 48.203125 39.40625 \nQ 42.59375 44.703125 36.703125 47 \nQ 35 47.703125 33.203125 47.953125 \nQ 31.40625 48.203125 29.59375 48.203125 \nQ 21.296875 48.203125 16 42 \nQ 10.703125 35.59375 10.703125 26.796875 \nQ 10.703125 17.796875 16.203125 11.40625 \nQ 21.703125 5.296875 30 5.296875 \nQ 35.203125 5.296875 39.5 7.546875 \nQ 43.796875 9.796875 48.203125 14.296875 \nL 48.203125 4.796875 \nQ 42.90625 1.5 38.59375 0.09375 \nQ 34.296875 -1.296875 29.90625 -1.296875 \nQ 18.703125 -1.296875 10.703125 6.703125 \nQ 2.90625 15 2.90625 26.703125 \nQ 2.90625 38.203125 10.59375 46.5 \nQ 18.40625 54.703125 30 54.703125 \nQ 35.90625 54.703125 41 52.703125 \nQ 44 51.59375 48.203125 48.796875 \nz\n\" id=\"AppleGothic-99\"/>\n       <path d=\"M 4.5 78.40625 \nL 11.703125 78.40625 \nL 11.703125 0 \nL 4.5 0 \nz\n\" id=\"AppleGothic-108\"/>\n       <path d=\"M 46.09375 34.59375 \nL 46.09375 9.40625 \nQ 46.09375 7.703125 46.84375 6.453125 \nQ 47.59375 5.203125 49.59375 5.203125 \nQ 50.203125 5.203125 50.59375 5.25 \nQ 51 5.296875 51.40625 5.40625 \nQ 52 5.59375 52.453125 5.796875 \nQ 52.90625 6 53.203125 6.09375 \nL 53.203125 0.5 \nQ 51.40625 -0.09375 49.59375 -0.34375 \nQ 47.796875 -0.59375 46.796875 -0.59375 \nQ 41.703125 -0.59375 40.09375 2.09375 \nQ 38.796875 3.796875 38.796875 9.40625 \nQ 37.5 7.203125 36.203125 5.546875 \nQ 34.90625 3.90625 33.59375 2.796875 \nQ 28.40625 -1.296875 21.5 -1.296875 \nQ 14.203125 -1.296875 8.796875 3 \nQ 3.203125 7.59375 3.203125 14.703125 \nQ 3.203125 23.59375 12.203125 27.796875 \nQ 15.5 29.40625 20.953125 30.59375 \nQ 26.40625 31.796875 34 32.796875 \nL 38.796875 33.296875 \nQ 38.796875 40.296875 35.25 44.25 \nQ 31.703125 48.203125 24.796875 48.203125 \nQ 22.203125 48.203125 19.640625 47.546875 \nQ 17.09375 46.90625 14.5 45.5 \nQ 13.09375 44.703125 11.390625 43.59375 \nQ 9.703125 42.5 7.703125 40.796875 \nL 7.703125 49 \nQ 16.203125 54.703125 26 54.703125 \nQ 36 54.703125 41.40625 48.40625 \nQ 46.09375 42.90625 46.09375 34.59375 \nz\nM 38.796875 24.09375 \nL 38.796875 27.296875 \nL 35.40625 26.90625 \nQ 22.90625 25.59375 17.796875 23.40625 \nQ 11 20.703125 11 14.59375 \nQ 11 12.796875 11.796875 11.140625 \nQ 12.59375 9.5 14 8.203125 \nQ 15.40625 6.90625 17.453125 6.09375 \nQ 19.5 5.296875 22 5.296875 \nQ 28.796875 5.296875 33.90625 10.796875 \nQ 38.796875 16.40625 38.796875 24.09375 \nz\n\" id=\"AppleGothic-97\"/>\n       <path d=\"M 3.5 4.59375 \nL 3.5 13.296875 \nQ 9.703125 8.296875 16.09375 6.296875 \nQ 18 5.796875 19.796875 5.546875 \nQ 21.59375 5.296875 23.5 5.296875 \nQ 29.59375 5.296875 33.59375 8.09375 \nQ 37.703125 11.09375 37.703125 14.796875 \nQ 37.703125 16.796875 36.203125 18.90625 \nQ 34.09375 21.5 25 23.59375 \nQ 14.203125 26.296875 10.59375 28.09375 \nQ 3.59375 32.09375 3.59375 39.296875 \nQ 3.59375 46 9.40625 50.296875 \nQ 15.296875 54.703125 24.09375 54.703125 \nQ 28.09375 54.703125 31.296875 54 \nQ 34.5 53.296875 37.296875 52.140625 \nQ 40.09375 51 42.5 49.296875 \nL 42.5 40.59375 \nQ 38.296875 44.09375 33.6875 46.140625 \nQ 29.09375 48.203125 24 48.203125 \nQ 18.90625 48.203125 15.203125 45.90625 \nQ 11.40625 43.59375 11.40625 39.90625 \nQ 11.40625 35 20.40625 32.09375 \nQ 24.59375 30.90625 28.6875 29.703125 \nQ 32.796875 28.5 37 27.296875 \nQ 46.09375 23.40625 46.09375 15.5 \nQ 46.09375 8.796875 39.796875 3.703125 \nQ 33.40625 -1.296875 23.90625 -1.296875 \nQ 19.703125 -1.296875 15.703125 -0.40625 \nQ 9.296875 1 3.5 4.59375 \nz\n\" id=\"AppleGothic-115\"/>\n      </defs>\n      <use xlink:href=\"#AppleGothic-80\"/>\n      <use x=\"60.299988\" xlink:href=\"#AppleGothic-99\"/>\n      <use x=\"112.199982\" xlink:href=\"#AppleGothic-108\"/>\n      <use x=\"128.899979\" xlink:href=\"#AppleGothic-97\"/>\n      <use x=\"185.399963\" xlink:href=\"#AppleGothic-115\"/>\n      <use x=\"234.999954\" xlink:href=\"#AppleGothic-115\"/>\n     </g>\n    </g>\n   </g>\n   <g id=\"matplotlib.axis_2\">\n    <g id=\"ytick_1\">\n     <g id=\"line2d_4\">\n      <defs>\n       <path d=\"M 0 0 \nL -3.5 0 \n\" id=\"mfeacacdfb5\" style=\"stroke:#000000;stroke-width:0.8;\"/>\n      </defs>\n      <g>\n       <use style=\"stroke:#000000;stroke-width:0.8;\" x=\"44.810938\" xlink:href=\"#mfeacacdfb5\" y=\"224.64\"/>\n      </g>\n     </g>\n     <g id=\"text_5\">\n      <!-- 0.0 -->\n      <g transform=\"translate(20.760938 228.560312)scale(0.1 -0.1)\">\n       <defs>\n        <path d=\"M 34.796875 -1.296875 \nQ 22.09375 -1.296875 14.59375 9 \nQ 7.203125 19.203125 7.203125 37.296875 \nQ 7.203125 55.5 15.203125 65.90625 \nQ 22.703125 75.90625 34.703125 75.90625 \nQ 47.296875 75.90625 54.40625 65.203125 \nQ 61.796875 54.59375 61.796875 37.40625 \nQ 61.796875 19.5 54.09375 9.09375 \nQ 46.5 -1.296875 34.796875 -1.296875 \nz\nM 34 5.40625 \nQ 44.703125 5.40625 50 15.5 \nQ 54.09375 24 54.09375 37.5 \nQ 54.09375 51.796875 49.40625 60.296875 \nQ 44.09375 69.203125 34.59375 69.203125 \nQ 24.59375 69.203125 19.5 59.703125 \nQ 15 51.296875 15 37.09375 \nQ 15 23.09375 19.5 14.703125 \nQ 24.59375 5.40625 34 5.40625 \nz\n\" id=\"AppleGothic-48\"/>\n        <path d=\"M 14.296875 -0.296875 \nQ 11.90625 -0.296875 10.203125 1.703125 \nQ 8.5 3.703125 8.5 6.59375 \nQ 8.5 9.59375 10.25 11.640625 \nQ 12 13.703125 14.296875 13.703125 \nQ 16.5 13.703125 18.25 11.84375 \nQ 20 10 20 6.796875 \nQ 20 3.796875 18.296875 1.75 \nQ 16.59375 -0.296875 14.296875 -0.296875 \nz\n\" id=\"AppleGothic-46\"/>\n       </defs>\n       <use xlink:href=\"#AppleGothic-48\"/>\n       <use x=\"67.999985\" xlink:href=\"#AppleGothic-46\"/>\n       <use x=\"102.499969\" xlink:href=\"#AppleGothic-48\"/>\n      </g>\n     </g>\n    </g>\n    <g id=\"ytick_2\">\n     <g id=\"line2d_5\">\n      <g>\n       <use style=\"stroke:#000000;stroke-width:0.8;\" x=\"44.810938\" xlink:href=\"#mfeacacdfb5\" y=\"183.222857\"/>\n      </g>\n     </g>\n     <g id=\"text_6\">\n      <!-- 0.2 -->\n      <g transform=\"translate(20.760938 187.14317)scale(0.1 -0.1)\">\n       <use xlink:href=\"#AppleGothic-48\"/>\n       <use x=\"67.999985\" xlink:href=\"#AppleGothic-46\"/>\n       <use x=\"102.499969\" xlink:href=\"#AppleGothic-50\"/>\n      </g>\n     </g>\n    </g>\n    <g id=\"ytick_3\">\n     <g id=\"line2d_6\">\n      <g>\n       <use style=\"stroke:#000000;stroke-width:0.8;\" x=\"44.810938\" xlink:href=\"#mfeacacdfb5\" y=\"141.805714\"/>\n      </g>\n     </g>\n     <g id=\"text_7\">\n      <!-- 0.4 -->\n      <g transform=\"translate(20.760938 145.726027)scale(0.1 -0.1)\">\n       <defs>\n        <path d=\"M 41.59375 74.59375 \nL 48.90625 74.59375 \nL 48.90625 28.296875 \nL 62.5 28.296875 \nL 62.5 21.59375 \nL 48.90625 21.59375 \nL 48.90625 0 \nL 41.59375 0 \nL 41.59375 21.59375 \nL 5.5 21.59375 \nL 5.5 28.296875 \nz\nM 41.59375 28.296875 \nL 41.59375 65.09375 \nL 13.09375 28.296875 \nz\n\" id=\"AppleGothic-52\"/>\n       </defs>\n       <use xlink:href=\"#AppleGothic-48\"/>\n       <use x=\"67.999985\" xlink:href=\"#AppleGothic-46\"/>\n       <use x=\"102.499969\" xlink:href=\"#AppleGothic-52\"/>\n      </g>\n     </g>\n    </g>\n    <g id=\"ytick_4\">\n     <g id=\"line2d_7\">\n      <g>\n       <use style=\"stroke:#000000;stroke-width:0.8;\" x=\"44.810938\" xlink:href=\"#mfeacacdfb5\" y=\"100.388571\"/>\n      </g>\n     </g>\n     <g id=\"text_8\">\n      <!-- 0.6 -->\n      <g transform=\"translate(20.760938 104.308884)scale(0.1 -0.1)\">\n       <defs>\n        <path d=\"M 57.796875 71.203125 \nL 57.796875 62.703125 \nQ 56 64.09375 54.296875 65.046875 \nQ 52.59375 66 50.90625 66.796875 \nQ 48.203125 68.09375 45.59375 68.640625 \nQ 43 69.203125 40.40625 69.203125 \nQ 38.59375 69.203125 36.75 68.890625 \nQ 34.90625 68.59375 33.09375 67.796875 \nQ 26.09375 64.90625 21.796875 58.40625 \nQ 15.796875 49.203125 15.796875 34.203125 \nQ 20.5 38.90625 24.5 41.5 \nQ 31.59375 45.796875 39.59375 45.796875 \nQ 49.40625 45.796875 56 40.09375 \nQ 63.09375 33.796875 63.09375 23.296875 \nQ 63.09375 12.59375 55.59375 5.59375 \nQ 48.09375 -1.296875 37.40625 -1.296875 \nQ 26.09375 -1.296875 17.90625 7.09375 \nQ 8.09375 17 8.09375 35.203125 \nQ 8.09375 53.296875 17.5 64.59375 \nQ 26.796875 75.90625 40.703125 75.90625 \nQ 45.90625 75.90625 50.40625 74.40625 \nQ 51.703125 73.90625 53.546875 73.15625 \nQ 55.40625 72.40625 57.796875 71.203125 \nz\nM 16.59375 26.59375 \nQ 18 18 23.40625 12 \nQ 29.40625 5.40625 37.796875 5.40625 \nQ 45.296875 5.40625 50.203125 10.296875 \nQ 55.296875 15.203125 55.296875 22.796875 \nQ 55.296875 30 50.40625 34.59375 \nQ 45.59375 39.09375 39 39.09375 \nQ 31.09375 39.09375 24.09375 34 \nQ 22.09375 32.5 20.1875 30.703125 \nQ 18.296875 28.90625 16.59375 26.59375 \nz\n\" id=\"AppleGothic-54\"/>\n       </defs>\n       <use xlink:href=\"#AppleGothic-48\"/>\n       <use x=\"67.999985\" xlink:href=\"#AppleGothic-46\"/>\n       <use x=\"102.499969\" xlink:href=\"#AppleGothic-54\"/>\n      </g>\n     </g>\n    </g>\n    <g id=\"ytick_5\">\n     <g id=\"line2d_8\">\n      <g>\n       <use style=\"stroke:#000000;stroke-width:0.8;\" x=\"44.810938\" xlink:href=\"#mfeacacdfb5\" y=\"58.971429\"/>\n      </g>\n     </g>\n     <g id=\"text_9\">\n      <!-- 0.8 -->\n      <g transform=\"translate(20.760938 62.891741)scale(0.1 -0.1)\">\n       <defs>\n        <path d=\"M 46.203125 40.703125 \nQ 50.296875 39.5 53.1875 38.203125 \nQ 56.09375 36.90625 57.90625 35.5 \nQ 65.5 30.09375 65.5 21.40625 \nQ 65.5 11.703125 56.90625 5.203125 \nQ 48.40625 -1.296875 35.703125 -1.296875 \nQ 22.40625 -1.296875 14.796875 5.09375 \nQ 8 10.796875 8 19.203125 \nQ 8 28.09375 15.59375 33.203125 \nQ 17.90625 34.796875 20.953125 36 \nQ 24 37.203125 27.796875 38.296875 \nQ 24.59375 39.59375 22.34375 40.890625 \nQ 20.09375 42.203125 18.703125 43.5 \nQ 12.796875 48.5 12.796875 56.296875 \nQ 12.796875 65.203125 19.703125 70.5 \nQ 26.59375 75.90625 37.203125 75.90625 \nQ 47.09375 75.90625 53.703125 71.40625 \nQ 60.90625 66.59375 60.90625 58.40625 \nQ 60.90625 52.703125 57.34375 48.140625 \nQ 53.796875 43.59375 46.203125 40.703125 \nz\nM 37.59375 43 \nQ 41 44.296875 43.453125 45.546875 \nQ 45.90625 46.796875 47.5 47.90625 \nQ 53.09375 51.90625 53.09375 57.296875 \nQ 53.09375 62.40625 48.5 65.703125 \nQ 44.09375 69.203125 36.90625 69.203125 \nQ 29.59375 69.203125 25.203125 65.703125 \nQ 20.703125 62.40625 20.703125 56.796875 \nQ 20.703125 51.90625 24.703125 48.40625 \nQ 26.5 46.90625 29.703125 45.5 \nQ 32.90625 44.09375 37.59375 43 \nz\nM 37 36 \nQ 32.203125 34.40625 28.75 32.90625 \nQ 25.296875 31.40625 23 30 \nQ 15.796875 25.40625 15.796875 19.296875 \nQ 15.796875 13.203125 21.5 9.296875 \nQ 27 5.40625 36.09375 5.40625 \nQ 45.90625 5.40625 51.796875 10 \nQ 57.703125 14.59375 57.703125 20.90625 \nQ 57.703125 27.203125 50.59375 31.203125 \nQ 48.5 32.296875 45.09375 33.546875 \nQ 41.703125 34.796875 37 36 \nz\n\" id=\"AppleGothic-56\"/>\n       </defs>\n       <use xlink:href=\"#AppleGothic-48\"/>\n       <use x=\"67.999985\" xlink:href=\"#AppleGothic-46\"/>\n       <use x=\"102.499969\" xlink:href=\"#AppleGothic-56\"/>\n      </g>\n     </g>\n    </g>\n    <g id=\"ytick_6\">\n     <g id=\"line2d_9\">\n      <g>\n       <use style=\"stroke:#000000;stroke-width:0.8;\" x=\"44.810938\" xlink:href=\"#mfeacacdfb5\" y=\"17.554286\"/>\n      </g>\n     </g>\n     <g id=\"text_10\">\n      <!-- 1.0 -->\n      <g transform=\"translate(20.760938 21.474598)scale(0.1 -0.1)\">\n       <use xlink:href=\"#AppleGothic-49\"/>\n       <use x=\"67.999985\" xlink:href=\"#AppleGothic-46\"/>\n       <use x=\"102.499969\" xlink:href=\"#AppleGothic-48\"/>\n      </g>\n     </g>\n    </g>\n    <g id=\"text_11\">\n     <!-- Survived -->\n     <g transform=\"translate(15.040625 135.27625)rotate(-90)scale(0.1 -0.1)\">\n      <defs>\n       <path d=\"M 53.40625 72.90625 \nL 53.40625 62.796875 \nQ 50.796875 65 48.140625 66.703125 \nQ 45.5 68.40625 42.90625 69.5 \nQ 36.90625 72.296875 30.703125 72.296875 \nQ 22.90625 72.296875 17.796875 68.40625 \nQ 12.59375 64.40625 12.59375 58.90625 \nQ 12.59375 50.90625 24.40625 46.90625 \nQ 29.90625 45 35.34375 43.25 \nQ 40.796875 41.5 46.40625 39.703125 \nQ 58.296875 34 58.296875 22.703125 \nQ 58.296875 11.703125 49.796875 5 \nQ 41.703125 -1.296875 29.703125 -1.296875 \nQ 21.703125 -1.296875 14.296875 1.796875 \nQ 10 3.5 4.09375 7.40625 \nL 4.09375 17.59375 \nQ 11.796875 10.703125 19.703125 7.90625 \nQ 22.296875 6.90625 24.796875 6.5 \nQ 27.296875 6.09375 29.796875 6.09375 \nQ 37.796875 6.09375 43.296875 10.09375 \nQ 49.40625 14.5 49.40625 21.59375 \nQ 49.40625 30.203125 37.796875 34.703125 \nQ 32.203125 36.40625 26.796875 38.203125 \nQ 21.40625 40 16 41.703125 \nQ 4.296875 47.09375 4.296875 58.296875 \nQ 4.296875 67.703125 11.703125 73.59375 \nQ 19.296875 79.703125 30.703125 79.703125 \nQ 37.703125 79.703125 44.703125 77.09375 \nQ 48.296875 75.90625 53.40625 72.90625 \nz\n\" id=\"AppleGothic-83\"/>\n       <path d=\"M 4.09375 53.5 \nL 11.40625 53.5 \nL 11.40625 19.40625 \nQ 11.40625 13.703125 14.703125 9.796875 \nQ 18.296875 5.296875 24.90625 5.296875 \nQ 32.5 5.296875 37.90625 11.40625 \nQ 43.5 17.796875 43.5 25.5 \nL 43.5 53.5 \nL 50.703125 53.5 \nL 50.703125 0 \nL 44.40625 0 \nL 43.90625 9.09375 \nQ 42.296875 6.90625 40.5 5.15625 \nQ 38.703125 3.40625 36.59375 2.09375 \nQ 31 -1.296875 24.296875 -1.296875 \nQ 15.09375 -1.296875 9.59375 4.40625 \nQ 4.09375 10.203125 4.09375 18.5 \nz\n\" id=\"AppleGothic-117\"/>\n       <path d=\"M 33.203125 53.5 \nL 33.203125 46.296875 \nQ 32.09375 46.703125 31.390625 46.953125 \nQ 30.703125 47.203125 30.203125 47.296875 \nQ 29.703125 47.40625 29.140625 47.453125 \nQ 28.59375 47.5 27.703125 47.5 \nQ 20.40625 47.5 15.703125 40.40625 \nQ 11.703125 33.90625 11.703125 25.90625 \nL 11.703125 0 \nL 4.5 0 \nL 4.5 53.5 \nL 11.09375 53.5 \nL 11.59375 44.296875 \nQ 14.09375 48.5 16.296875 50.296875 \nQ 20.796875 54 27.09375 54 \nQ 28.796875 54 30.25 53.890625 \nQ 31.703125 53.796875 33.203125 53.5 \nz\n\" id=\"AppleGothic-114\"/>\n       <path d=\"M 1.703125 53.5 \nL 9.796875 53.5 \nL 26.796875 7.59375 \nL 44.203125 53.5 \nL 51.40625 53.5 \nL 30 0 \nL 23.09375 0 \nz\n\" id=\"AppleGothic-118\"/>\n       <path d=\"M 4 53.5 \nL 11.203125 53.5 \nL 11.203125 0 \nL 4 0 \nz\nM 7.5 76.09375 \nQ 9.59375 76.09375 11 74.6875 \nQ 12.40625 73.296875 12.40625 70.703125 \nQ 12.40625 68.09375 11.09375 66.6875 \nQ 9.796875 65.296875 7.5 65.296875 \nQ 5.203125 65.296875 3.953125 66.890625 \nQ 2.703125 68.5 2.703125 70.59375 \nQ 2.703125 73.90625 4.203125 75 \nQ 5.703125 76.09375 7.5 76.09375 \nz\n\" id=\"AppleGothic-105\"/>\n       <path d=\"M 51.5 28.90625 \nL 10.796875 28.90625 \nQ 10.796875 17.40625 16.140625 11.34375 \nQ 21.5 5.296875 30.203125 5.296875 \nQ 36.796875 5.296875 42.90625 9.5 \nQ 44.59375 10.59375 46.5 12.25 \nQ 48.40625 13.90625 50.59375 16.09375 \nL 50.59375 7.40625 \nQ 48.203125 5.59375 46.140625 4.25 \nQ 44.09375 2.90625 42.296875 2 \nQ 36 -1.296875 29.703125 -1.296875 \nQ 18.796875 -1.296875 11.203125 6.203125 \nQ 3 14.09375 3 26.703125 \nQ 3 38.59375 10.40625 46.59375 \nQ 17.90625 54.703125 28.90625 54.703125 \nQ 39.59375 54.703125 45.90625 46.90625 \nQ 51.5 39.796875 51.5 28.90625 \nz\nM 11.796875 35 \nL 43.09375 35 \nQ 41.90625 41.796875 37.953125 45.140625 \nQ 34 48.5 28.40625 48.5 \nQ 22.203125 48.5 17.90625 44.59375 \nQ 13.90625 41 11.796875 35 \nz\n\" id=\"AppleGothic-101\"/>\n       <path d=\"M 41.90625 78.40625 \nL 49.59375 78.40625 \nL 49.59375 0 \nL 42.703125 0 \nL 42 8.703125 \nQ 40.59375 6.703125 39.1875 5.140625 \nQ 37.796875 3.59375 36.40625 2.5 \nQ 31.40625 -1.296875 24.796875 -1.296875 \nQ 14.5 -1.296875 7.703125 6.703125 \nQ 1 14.703125 1 26.09375 \nQ 1 37.90625 8.09375 46.203125 \nQ 15.296875 54.703125 26.09375 54.703125 \nQ 30.59375 54.703125 34.5 53.09375 \nQ 35.90625 52.5 37.75 51.5 \nQ 39.59375 50.5 41.90625 49.09375 \nz\nM 41.90625 25.90625 \nL 41.90625 41.296875 \nQ 37.203125 45.40625 33.703125 46.796875 \nQ 30.203125 48.203125 26.90625 48.203125 \nQ 18.703125 48.203125 13.59375 41.296875 \nQ 8.796875 34.796875 8.796875 26.203125 \nQ 8.796875 17 14.09375 10.90625 \nQ 19 5.296875 25.703125 5.296875 \nQ 32.296875 5.296875 37.09375 11.09375 \nQ 41.90625 16.90625 41.90625 25.90625 \nz\n\" id=\"AppleGothic-100\"/>\n      </defs>\n      <use xlink:href=\"#AppleGothic-83\"/>\n      <use x=\"63.199997\" xlink:href=\"#AppleGothic-117\"/>\n      <use x=\"118.699982\" xlink:href=\"#AppleGothic-114\"/>\n      <use x=\"153.899979\" xlink:href=\"#AppleGothic-118\"/>\n      <use x=\"208.099976\" xlink:href=\"#AppleGothic-105\"/>\n      <use x=\"223.999969\" xlink:href=\"#AppleGothic-118\"/>\n      <use x=\"278.199966\" xlink:href=\"#AppleGothic-101\"/>\n      <use x=\"333.09996\" xlink:href=\"#AppleGothic-100\"/>\n     </g>\n    </g>\n   </g>\n   <g id=\"line2d_10\">\n    <path clip-path=\"url(#pc0e687001f)\" d=\"M 78.290938 165.230164 \nL 78.290938 131.281686 \n\" style=\"fill:none;stroke:#424242;stroke-linecap:square;stroke-width:2.7;\"/>\n   </g>\n   <g id=\"line2d_11\">\n    <path clip-path=\"url(#pc0e687001f)\" d=\"M 189.890938 205.465397 \nL 189.890938 176.703492 \n\" style=\"fill:none;stroke:#424242;stroke-linecap:square;stroke-width:2.7;\"/>\n   </g>\n   <g id=\"line2d_12\">\n    <path clip-path=\"url(#pc0e687001f)\" d=\"M 301.490937 203.752392 \nL 301.490937 188.832672 \n\" style=\"fill:none;stroke:#424242;stroke-linecap:square;stroke-width:2.7;\"/>\n   </g>\n   <g id=\"line2d_13\">\n    <path clip-path=\"url(#pc0e687001f)\" d=\"M 122.930937 32.975562 \nL 122.930937 17.554286 \n\" style=\"fill:none;stroke:#424242;stroke-linecap:square;stroke-width:2.7;\"/>\n   </g>\n   <g id=\"line2d_14\">\n    <path clip-path=\"url(#pc0e687001f)\" d=\"M 234.530937 47.527218 \nL 234.530937 23.00391 \n\" style=\"fill:none;stroke:#424242;stroke-linecap:square;stroke-width:2.7;\"/>\n   </g>\n   <g id=\"line2d_15\">\n    <path clip-path=\"url(#pc0e687001f)\" d=\"M 346.130938 139.792381 \nL 346.130938 102.401905 \n\" style=\"fill:none;stroke:#424242;stroke-linecap:square;stroke-width:2.7;\"/>\n   </g>\n   <g id=\"patch_9\">\n    <path d=\"M 44.810938 224.64 \nL 44.810938 7.2 \n\" style=\"fill:none;stroke:#000000;stroke-linecap:square;stroke-linejoin:miter;stroke-width:0.8;\"/>\n   </g>\n   <g id=\"patch_10\">\n    <path d=\"M 379.610938 224.64 \nL 379.610938 7.2 \n\" style=\"fill:none;stroke:#000000;stroke-linecap:square;stroke-linejoin:miter;stroke-width:0.8;\"/>\n   </g>\n   <g id=\"patch_11\">\n    <path d=\"M 44.810938 224.64 \nL 379.610937 224.64 \n\" style=\"fill:none;stroke:#000000;stroke-linecap:square;stroke-linejoin:miter;stroke-width:0.8;\"/>\n   </g>\n   <g id=\"patch_12\">\n    <path d=\"M 44.810938 7.2 \nL 379.610937 7.2 \n\" style=\"fill:none;stroke:#000000;stroke-linecap:square;stroke-linejoin:miter;stroke-width:0.8;\"/>\n   </g>\n   <g id=\"legend_1\">\n    <g id=\"patch_13\">\n     <path d=\"M 309.979688 58.882812 \nL 372.610938 58.882812 \nQ 374.610938 58.882812 374.610938 56.882812 \nL 374.610938 14.2 \nQ 374.610938 12.2 372.610938 12.2 \nL 309.979688 12.2 \nQ 307.979688 12.2 307.979688 14.2 \nL 307.979688 56.882812 \nQ 307.979688 58.882812 309.979688 58.882812 \nz\n\" style=\"fill:#ffffff;opacity:0.8;stroke:#cccccc;stroke-linejoin:miter;\"/>\n    </g>\n    <g id=\"text_12\">\n     <!-- Sex -->\n     <g transform=\"translate(332.669531 24.040625)scale(0.1 -0.1)\">\n      <defs>\n       <path d=\"M 5.5 53.5 \nL 14.5 53.5 \nL 27.40625 33.59375 \nL 40.5 53.5 \nL 48.90625 53.5 \nL 31.59375 28.59375 \nL 51.09375 0 \nL 41.90625 0 \nL 26.90625 23.5 \nL 11.796875 0 \nL 3.296875 0 \nL 22.90625 28.59375 \nz\n\" id=\"AppleGothic-120\"/>\n      </defs>\n      <use xlink:href=\"#AppleGothic-83\"/>\n      <use x=\"63.199997\" xlink:href=\"#AppleGothic-101\"/>\n      <use x=\"118.099991\" xlink:href=\"#AppleGothic-120\"/>\n     </g>\n    </g>\n    <g id=\"patch_14\">\n     <path d=\"M 311.979688 38.601562 \nL 331.979688 38.601562 \nL 331.979688 31.601562 \nL 311.979688 31.601562 \nz\n\" style=\"fill:#abc9ea;\"/>\n    </g>\n    <g id=\"text_13\">\n     <!-- male -->\n     <g transform=\"translate(339.979688 38.601562)scale(0.1 -0.1)\">\n      <defs>\n       <path d=\"M 84.203125 34.296875 \nL 84.203125 0 \nL 76.90625 0 \nL 76.90625 36 \nQ 76.90625 41.703125 73 45.203125 \nQ 69.703125 48.203125 65.203125 48.203125 \nQ 58.5 48.203125 53.203125 42 \nQ 48 35.90625 48 26.90625 \nL 48 0 \nL 40.703125 0 \nL 40.703125 36 \nQ 40.703125 41.40625 37 44.703125 \nQ 33.5 48.203125 29 48.203125 \nQ 22.5 48.203125 17.40625 42.40625 \nQ 11.796875 36 11.796875 26.59375 \nL 11.796875 0 \nL 4.5 0 \nL 4.5 53.5 \nL 11.296875 53.5 \nL 11.59375 45 \nQ 14.5 49.703125 19.90625 52.40625 \nQ 24.703125 54.703125 29.59375 54.703125 \nQ 37.203125 54.703125 42.40625 50.296875 \nQ 46.203125 47 47.203125 43.703125 \nQ 49.203125 47.40625 52.90625 50.40625 \nQ 58.703125 54.703125 65.703125 54.703125 \nQ 74.203125 54.703125 78.90625 49.59375 \nQ 84.203125 43.796875 84.203125 34.296875 \nz\n\" id=\"AppleGothic-109\"/>\n      </defs>\n      <use xlink:href=\"#AppleGothic-109\"/>\n      <use x=\"89.299988\" xlink:href=\"#AppleGothic-97\"/>\n      <use x=\"145.799973\" xlink:href=\"#AppleGothic-108\"/>\n      <use x=\"162.499969\" xlink:href=\"#AppleGothic-101\"/>\n     </g>\n    </g>\n    <g id=\"patch_15\">\n     <path d=\"M 311.979688 53.1625 \nL 331.979688 53.1625 \nL 331.979688 46.1625 \nL 311.979688 46.1625 \nz\n\" style=\"fill:#efb792;\"/>\n    </g>\n    <g id=\"text_14\">\n     <!-- female -->\n     <g transform=\"translate(339.979688 53.1625)scale(0.1 -0.1)\">\n      <defs>\n       <path d=\"M 10.09375 53.59375 \nL 10.09375 63.796875 \nQ 10.09375 70.90625 12.796875 74.59375 \nQ 16.203125 79.703125 24.296875 79.703125 \nQ 25.203125 79.703125 25.890625 79.640625 \nQ 26.59375 79.59375 27.34375 79.5 \nQ 28.09375 79.40625 29.09375 79.09375 \nQ 30.09375 78.796875 31.5 78.40625 \nL 31.5 71.796875 \nQ 31.203125 72.203125 28.703125 72.703125 \nQ 27.59375 72.90625 26.75 73 \nQ 25.90625 73.09375 25.296875 73.09375 \nQ 21.09375 73.09375 19.1875 70.6875 \nQ 17.296875 68.296875 17.296875 63.796875 \nL 17.296875 53.59375 \nL 31.5 53.59375 \nL 31.5 47.09375 \nL 17.296875 47.09375 \nL 17.296875 0 \nL 10.09375 0 \nL 10.09375 47.09375 \nL 1 47.09375 \nL 1 53.59375 \nz\n\" id=\"AppleGothic-102\"/>\n      </defs>\n      <use xlink:href=\"#AppleGothic-102\"/>\n      <use x=\"33.999985\" xlink:href=\"#AppleGothic-101\"/>\n      <use x=\"88.899979\" xlink:href=\"#AppleGothic-109\"/>\n      <use x=\"178.199966\" xlink:href=\"#AppleGothic-97\"/>\n      <use x=\"234.699951\" xlink:href=\"#AppleGothic-108\"/>\n      <use x=\"251.399948\" xlink:href=\"#AppleGothic-101\"/>\n     </g>\n    </g>\n   </g>\n  </g>\n </g>\n <defs>\n  <clipPath id=\"pc0e687001f\">\n   <rect height=\"217.44\" width=\"334.8\" x=\"44.810938\" y=\"7.2\"/>\n  </clipPath>\n </defs>\n</svg>\n",
      "image/png": "[encoded data removed]"
     },
     "metadata": {
      "needs_background": "light"
     }
    }
   ],
   "source": [
    "sns.barplot(x='Pclass', y='Survived', hue='Sex', data=df);"
   ]
  },
  {
   "cell_type": "code",
   "execution_count": 7,
   "metadata": {},
   "outputs": [],
   "source": [
    "# 나이 구분에 따른 카테고리 설정\n",
    "bins = [-1, 5, 12, 19, 29, 60, 100]\n",
    "labels = ['Baby', 'Child', 'Teenager', 'Youth', 'Adult', 'Elderly']\n",
    "\n",
    "df['Cat'] = pd.cut(df['Age'], bins, labels=labels)"
   ]
  },
  {
   "cell_type": "code",
   "execution_count": 8,
   "metadata": {},
   "outputs": [
    {
     "output_type": "execute_result",
     "data": {
      "text/plain": [
       "<AxesSubplot:xlabel='Cat', ylabel='Survived'>"
      ]
     },
     "metadata": {},
     "execution_count": 8
    },
    {
     "output_type": "display_data",
     "data": {
      "text/plain": "<Figure size 432x288 with 1 Axes>",
      "image/svg+xml": "<?xml version=\"1.0\" encoding=\"utf-8\" standalone=\"no\"?>\n<!DOCTYPE svg PUBLIC \"-//W3C//DTD SVG 1.1//EN\"\n  \"http://www.w3.org/Graphics/SVG/1.1/DTD/svg11.dtd\">\n<!-- Created with matplotlib (https://matplotlib.org/) -->\n<svg height=\"262.282187pt\" version=\"1.1\" viewBox=\"0 0 386.810937 262.282187\" width=\"386.810937pt\" xmlns=\"http://www.w3.org/2000/svg\" xmlns:xlink=\"http://www.w3.org/1999/xlink\">\n <metadata>\n  <rdf:RDF xmlns:cc=\"http://creativecommons.org/ns#\" xmlns:dc=\"http://purl.org/dc/elements/1.1/\" xmlns:rdf=\"http://www.w3.org/1999/02/22-rdf-syntax-ns#\">\n   <cc:Work>\n    <dc:type rdf:resource=\"http://purl.org/dc/dcmitype/StillImage\"/>\n    <dc:date>2021-01-06T16:27:22.816313</dc:date>\n    <dc:format>image/svg+xml</dc:format>\n    <dc:creator>\n     <cc:Agent>\n      <dc:title>Matplotlib v3.3.3, https://matplotlib.org/</dc:title>\n     </cc:Agent>\n    </dc:creator>\n   </cc:Work>\n  </rdf:RDF>\n </metadata>\n <defs>\n  <style type=\"text/css\">*{stroke-linecap:butt;stroke-linejoin:round;}</style>\n </defs>\n <g id=\"figure_1\">\n  <g id=\"patch_1\">\n   <path d=\"M 0 262.282187 \nL 386.810937 262.282187 \nL 386.810937 0 \nL 0 0 \nz\n\" style=\"fill:none;\"/>\n  </g>\n  <g id=\"axes_1\">\n   <g id=\"patch_2\">\n    <path d=\"M 44.810938 224.64 \nL 379.610938 224.64 \nL 379.610938 7.2 \nL 44.810938 7.2 \nz\n\" style=\"fill:#ffffff;\"/>\n   </g>\n   <g id=\"patch_3\">\n    <path clip-path=\"url(#p5e7c0c6b06)\" d=\"M 50.390937 224.64 \nL 72.710938 224.64 \nL 72.710938 89.584099 \nL 50.390937 89.584099 \nz\n\" style=\"fill:#abc9ea;\"/>\n   </g>\n   <g id=\"patch_4\">\n    <path clip-path=\"url(#p5e7c0c6b06)\" d=\"M 106.190938 224.64 \nL 128.510938 224.64 \nL 128.510938 135.88898 \nL 106.190938 135.88898 \nz\n\" style=\"fill:#abc9ea;\"/>\n   </g>\n   <g id=\"patch_5\">\n    <path clip-path=\"url(#p5e7c0c6b06)\" d=\"M 161.990938 224.64 \nL 184.310937 224.64 \nL 184.310937 204.727912 \nL 161.990938 204.727912 \nz\n\" style=\"fill:#abc9ea;\"/>\n   </g>\n   <g id=\"patch_6\">\n    <path clip-path=\"url(#p5e7c0c6b06)\" d=\"M 217.790937 224.64 \nL 240.110937 224.64 \nL 240.110937 189.659305 \nL 217.790937 189.659305 \nz\n\" style=\"fill:#abc9ea;\"/>\n   </g>\n   <g id=\"patch_7\">\n    <path clip-path=\"url(#p5e7c0c6b06)\" d=\"M 273.590937 224.64 \nL 295.910937 224.64 \nL 295.910937 188.512897 \nL 273.590937 188.512897 \nz\n\" style=\"fill:#abc9ea;\"/>\n   </g>\n   <g id=\"patch_8\">\n    <path clip-path=\"url(#p5e7c0c6b06)\" d=\"M 329.390937 224.64 \nL 351.710937 224.64 \nL 351.710937 202.841504 \nL 329.390937 202.841504 \nz\n\" style=\"fill:#abc9ea;\"/>\n   </g>\n   <g id=\"patch_9\">\n    <path clip-path=\"url(#p5e7c0c6b06)\" d=\"M 72.710938 224.64 \nL 95.030937 224.64 \nL 95.030937 66.860408 \nL 72.710938 66.860408 \nz\n\" style=\"fill:#efb792;\"/>\n   </g>\n   <g id=\"patch_10\">\n    <path clip-path=\"url(#p5e7c0c6b06)\" d=\"M 128.510937 224.64 \nL 150.830937 224.64 \nL 150.830937 168.162078 \nL 128.510937 168.162078 \nz\n\" style=\"fill:#efb792;\"/>\n   </g>\n   <g id=\"patch_11\">\n    <path clip-path=\"url(#p5e7c0c6b06)\" d=\"M 184.310937 224.64 \nL 206.630937 224.64 \nL 206.630937 60.897807 \nL 184.310937 60.897807 \nz\n\" style=\"fill:#efb792;\"/>\n   </g>\n   <g id=\"patch_12\">\n    <path clip-path=\"url(#p5e7c0c6b06)\" d=\"M 240.110937 224.64 \nL 262.430937 224.64 \nL 262.430937 75.078095 \nL 240.110937 75.078095 \nz\n\" style=\"fill:#efb792;\"/>\n   </g>\n   <g id=\"patch_13\">\n    <path clip-path=\"url(#p5e7c0c6b06)\" d=\"M 295.910937 224.64 \nL 318.230937 224.64 \nL 318.230937 66.800279 \nL 295.910937 66.800279 \nz\n\" style=\"fill:#efb792;\"/>\n   </g>\n   <g id=\"patch_14\">\n    <path clip-path=\"url(#p5e7c0c6b06)\" d=\"M 351.710938 224.64 \nL 374.030937 224.64 \nL 374.030937 17.554286 \nL 351.710938 17.554286 \nz\n\" style=\"fill:#efb792;\"/>\n   </g>\n   <g id=\"matplotlib.axis_1\">\n    <g id=\"xtick_1\">\n     <g id=\"line2d_1\">\n      <defs>\n       <path d=\"M 0 0 \nL 0 3.5 \n\" id=\"m57749c0443\" style=\"stroke:#000000;stroke-width:0.8;\"/>\n      </defs>\n      <g>\n       <use style=\"stroke:#000000;stroke-width:0.8;\" x=\"72.710938\" xlink:href=\"#m57749c0443\" y=\"224.64\"/>\n      </g>\n     </g>\n     <g id=\"text_1\">\n      <!-- Baby -->\n      <g transform=\"translate(61.070312 239.480625)scale(0.1 -0.1)\">\n       <defs>\n        <path d=\"M 4.796875 78.40625 \nL 31.703125 78.40625 \nQ 41.796875 78.40625 47.703125 74.296875 \nQ 54.59375 69.40625 54.59375 60.296875 \nQ 54.59375 52.703125 49.703125 47.5 \nQ 48.296875 45.90625 46.25 44.59375 \nQ 44.203125 43.296875 41.59375 42.09375 \nQ 51.90625 40.40625 56.5 34 \nQ 60 29.09375 60 23 \nQ 60 13.09375 52.5 6.5 \nQ 45.296875 0 35 0 \nL 4.796875 0 \nz\nM 31.203125 71.5 \nL 12.703125 71.5 \nL 12.703125 44.59375 \nL 27.59375 44.59375 \nQ 36.59375 44.59375 41.390625 48.640625 \nQ 46.203125 52.703125 46.203125 59.09375 \nQ 46.203125 64.09375 42.796875 67.703125 \nQ 38.703125 71.5 31.203125 71.5 \nz\nM 29.796875 37.703125 \nL 12.703125 37.703125 \nL 12.703125 6.90625 \nL 31.703125 6.90625 \nQ 40.296875 6.90625 45.796875 11.203125 \nQ 51.296875 15.796875 51.296875 22.90625 \nQ 51.296875 30.09375 45.75 33.890625 \nQ 40.203125 37.703125 29.796875 37.703125 \nz\n\" id=\"AppleGothic-66\"/>\n        <path d=\"M 46.09375 34.59375 \nL 46.09375 9.40625 \nQ 46.09375 7.703125 46.84375 6.453125 \nQ 47.59375 5.203125 49.59375 5.203125 \nQ 50.203125 5.203125 50.59375 5.25 \nQ 51 5.296875 51.40625 5.40625 \nQ 52 5.59375 52.453125 5.796875 \nQ 52.90625 6 53.203125 6.09375 \nL 53.203125 0.5 \nQ 51.40625 -0.09375 49.59375 -0.34375 \nQ 47.796875 -0.59375 46.796875 -0.59375 \nQ 41.703125 -0.59375 40.09375 2.09375 \nQ 38.796875 3.796875 38.796875 9.40625 \nQ 37.5 7.203125 36.203125 5.546875 \nQ 34.90625 3.90625 33.59375 2.796875 \nQ 28.40625 -1.296875 21.5 -1.296875 \nQ 14.203125 -1.296875 8.796875 3 \nQ 3.203125 7.59375 3.203125 14.703125 \nQ 3.203125 23.59375 12.203125 27.796875 \nQ 15.5 29.40625 20.953125 30.59375 \nQ 26.40625 31.796875 34 32.796875 \nL 38.796875 33.296875 \nQ 38.796875 40.296875 35.25 44.25 \nQ 31.703125 48.203125 24.796875 48.203125 \nQ 22.203125 48.203125 19.640625 47.546875 \nQ 17.09375 46.90625 14.5 45.5 \nQ 13.09375 44.703125 11.390625 43.59375 \nQ 9.703125 42.5 7.703125 40.796875 \nL 7.703125 49 \nQ 16.203125 54.703125 26 54.703125 \nQ 36 54.703125 41.40625 48.40625 \nQ 46.09375 42.90625 46.09375 34.59375 \nz\nM 38.796875 24.09375 \nL 38.796875 27.296875 \nL 35.40625 26.90625 \nQ 22.90625 25.59375 17.796875 23.40625 \nQ 11 20.703125 11 14.59375 \nQ 11 12.796875 11.796875 11.140625 \nQ 12.59375 9.5 14 8.203125 \nQ 15.40625 6.90625 17.453125 6.09375 \nQ 19.5 5.296875 22 5.296875 \nQ 28.796875 5.296875 33.90625 10.796875 \nQ 38.796875 16.40625 38.796875 24.09375 \nz\n\" id=\"AppleGothic-97\"/>\n        <path d=\"M 4.5 78.40625 \nL 11.796875 78.40625 \nL 11.796875 44.5 \nQ 13.203125 46.59375 14.546875 48.09375 \nQ 15.90625 49.59375 17.296875 50.703125 \nQ 22.5 54.703125 29.40625 54.703125 \nQ 39.796875 54.703125 46.5 46.796875 \nQ 53.40625 38.796875 53.40625 27.40625 \nQ 53.40625 15.703125 46.5 7.5 \nQ 39.09375 -1.296875 28 -1.296875 \nQ 21.90625 -1.296875 17.40625 1.40625 \nQ 14.5 3 11.796875 6 \nL 9.90625 0 \nL 4.5 0 \nz\nM 11.796875 29.09375 \nL 11.796875 13.59375 \nQ 13.203125 11.90625 14.59375 10.59375 \nQ 16 9.296875 17.203125 8.40625 \nQ 21.59375 5.296875 27.203125 5.296875 \nQ 34.90625 5.296875 39.90625 11.59375 \nQ 44.90625 18.09375 44.90625 27.296875 \nQ 44.90625 36.90625 39.296875 43 \nQ 34.5 48.203125 28.203125 48.203125 \nQ 21.40625 48.203125 16.5 42.40625 \nQ 11.796875 36.796875 11.796875 29.09375 \nz\n\" id=\"AppleGothic-98\"/>\n        <path d=\"M 2.796875 53.5 \nL 10.796875 53.5 \nL 29.203125 8.296875 \nL 44.90625 53.5 \nL 52.796875 53.5 \nL 30.5 -6.203125 \nQ 28.09375 -12.59375 24.296875 -15.296875 \nQ 20.90625 -17.59375 16.203125 -17.59375 \nQ 13.796875 -17.59375 12.1875 -17.25 \nQ 10.59375 -16.90625 9.09375 -16.296875 \nL 9.09375 -9.40625 \nQ 10.5 -10.09375 12.25 -10.59375 \nQ 14 -11.09375 15.40625 -11.09375 \nQ 18.90625 -11.09375 20.84375 -9.296875 \nQ 22.796875 -7.5 24.296875 -3.59375 \nL 25.5 0.5 \nz\n\" id=\"AppleGothic-121\"/>\n       </defs>\n       <use xlink:href=\"#AppleGothic-66\"/>\n       <use x=\"64.399994\" xlink:href=\"#AppleGothic-97\"/>\n       <use x=\"120.899979\" xlink:href=\"#AppleGothic-98\"/>\n       <use x=\"177.099976\" xlink:href=\"#AppleGothic-121\"/>\n      </g>\n     </g>\n    </g>\n    <g id=\"xtick_2\">\n     <g id=\"line2d_2\">\n      <g>\n       <use style=\"stroke:#000000;stroke-width:0.8;\" x=\"128.510938\" xlink:href=\"#m57749c0443\" y=\"224.64\"/>\n      </g>\n     </g>\n     <g id=\"text_2\">\n      <!-- Child -->\n      <g transform=\"translate(118.145313 239.480625)scale(0.1 -0.1)\">\n       <defs>\n        <path d=\"M 64.203125 72.203125 \nL 64.203125 62.09375 \nQ 60.5 65.703125 55.703125 68.296875 \nQ 48.203125 72.296875 40.59375 72.296875 \nQ 28.90625 72.296875 20.5 62.40625 \nQ 16.296875 57.5 14.25 51.703125 \nQ 12.203125 45.90625 12.203125 39.296875 \nQ 12.203125 25.796875 20.59375 16.09375 \nQ 28.90625 6.40625 40.796875 6.40625 \nQ 46.40625 6.40625 52.25 8.65625 \nQ 58.09375 10.90625 64.203125 15.59375 \nL 64.203125 5.90625 \nQ 50.796875 -1.296875 39.90625 -1.296875 \nQ 25.796875 -1.296875 15.203125 9.59375 \nQ 3.796875 21.296875 3.796875 38.90625 \nQ 3.796875 56 14.40625 67.796875 \nQ 25.203125 79.703125 41.09375 79.703125 \nQ 47.296875 79.703125 53 77.796875 \nQ 58.703125 75.90625 64.203125 72.203125 \nz\n\" id=\"AppleGothic-67\"/>\n        <path d=\"M 4.5 78.40625 \nL 11.703125 78.40625 \nL 11.703125 43.90625 \nQ 14.203125 47.90625 17.796875 50.59375 \nQ 23.296875 54.703125 30.09375 54.703125 \nQ 34.296875 54.703125 37.640625 53.5 \nQ 41 52.296875 43.796875 50 \nQ 49.703125 44.796875 49.703125 35.40625 \nL 49.703125 0 \nL 42.40625 0 \nL 42.40625 34.40625 \nQ 42.40625 40.203125 38.703125 44.203125 \nQ 35 48.203125 29.703125 48.203125 \nQ 22 48.203125 16.90625 42.09375 \nQ 11.703125 35.796875 11.703125 27.703125 \nL 11.703125 0 \nL 4.5 0 \nz\n\" id=\"AppleGothic-104\"/>\n        <path d=\"M 4 53.5 \nL 11.203125 53.5 \nL 11.203125 0 \nL 4 0 \nz\nM 7.5 76.09375 \nQ 9.59375 76.09375 11 74.6875 \nQ 12.40625 73.296875 12.40625 70.703125 \nQ 12.40625 68.09375 11.09375 66.6875 \nQ 9.796875 65.296875 7.5 65.296875 \nQ 5.203125 65.296875 3.953125 66.890625 \nQ 2.703125 68.5 2.703125 70.59375 \nQ 2.703125 73.90625 4.203125 75 \nQ 5.703125 76.09375 7.5 76.09375 \nz\n\" id=\"AppleGothic-105\"/>\n        <path d=\"M 4.5 78.40625 \nL 11.703125 78.40625 \nL 11.703125 0 \nL 4.5 0 \nz\n\" id=\"AppleGothic-108\"/>\n        <path d=\"M 41.90625 78.40625 \nL 49.59375 78.40625 \nL 49.59375 0 \nL 42.703125 0 \nL 42 8.703125 \nQ 40.59375 6.703125 39.1875 5.140625 \nQ 37.796875 3.59375 36.40625 2.5 \nQ 31.40625 -1.296875 24.796875 -1.296875 \nQ 14.5 -1.296875 7.703125 6.703125 \nQ 1 14.703125 1 26.09375 \nQ 1 37.90625 8.09375 46.203125 \nQ 15.296875 54.703125 26.09375 54.703125 \nQ 30.59375 54.703125 34.5 53.09375 \nQ 35.90625 52.5 37.75 51.5 \nQ 39.59375 50.5 41.90625 49.09375 \nz\nM 41.90625 25.90625 \nL 41.90625 41.296875 \nQ 37.203125 45.40625 33.703125 46.796875 \nQ 30.203125 48.203125 26.90625 48.203125 \nQ 18.703125 48.203125 13.59375 41.296875 \nQ 8.796875 34.796875 8.796875 26.203125 \nQ 8.796875 17 14.09375 10.90625 \nQ 19 5.296875 25.703125 5.296875 \nQ 32.296875 5.296875 37.09375 11.09375 \nQ 41.90625 16.90625 41.90625 25.90625 \nz\n\" id=\"AppleGothic-100\"/>\n       </defs>\n       <use xlink:href=\"#AppleGothic-67\"/>\n       <use x=\"68.499985\" xlink:href=\"#AppleGothic-104\"/>\n       <use x=\"120.699982\" xlink:href=\"#AppleGothic-105\"/>\n       <use x=\"136.599976\" xlink:href=\"#AppleGothic-108\"/>\n       <use x=\"153.299973\" xlink:href=\"#AppleGothic-100\"/>\n      </g>\n     </g>\n    </g>\n    <g id=\"xtick_3\">\n     <g id=\"line2d_3\">\n      <g>\n       <use style=\"stroke:#000000;stroke-width:0.8;\" x=\"184.310937\" xlink:href=\"#m57749c0443\" y=\"224.64\"/>\n      </g>\n     </g>\n     <g id=\"text_3\">\n      <!-- Teenager -->\n      <g transform=\"translate(162.579687 239.480625)scale(0.1 -0.1)\">\n       <defs>\n        <path d=\"M 2.59375 78.40625 \nL 63.09375 78.40625 \nL 63.09375 71.5 \nL 36.796875 71.5 \nL 36.796875 0 \nL 29 0 \nL 29 71.5 \nL 2.59375 71.5 \nz\n\" id=\"AppleGothic-84\"/>\n        <path d=\"M 51.5 28.90625 \nL 10.796875 28.90625 \nQ 10.796875 17.40625 16.140625 11.34375 \nQ 21.5 5.296875 30.203125 5.296875 \nQ 36.796875 5.296875 42.90625 9.5 \nQ 44.59375 10.59375 46.5 12.25 \nQ 48.40625 13.90625 50.59375 16.09375 \nL 50.59375 7.40625 \nQ 48.203125 5.59375 46.140625 4.25 \nQ 44.09375 2.90625 42.296875 2 \nQ 36 -1.296875 29.703125 -1.296875 \nQ 18.796875 -1.296875 11.203125 6.203125 \nQ 3 14.09375 3 26.703125 \nQ 3 38.59375 10.40625 46.59375 \nQ 17.90625 54.703125 28.90625 54.703125 \nQ 39.59375 54.703125 45.90625 46.90625 \nQ 51.5 39.796875 51.5 28.90625 \nz\nM 11.796875 35 \nL 43.09375 35 \nQ 41.90625 41.796875 37.953125 45.140625 \nQ 34 48.5 28.40625 48.5 \nQ 22.203125 48.5 17.90625 44.59375 \nQ 13.90625 41 11.796875 35 \nz\n\" id=\"AppleGothic-101\"/>\n        <path d=\"M 51 35.796875 \nL 51 0 \nL 43.796875 0 \nL 43.796875 35.296875 \nQ 43.796875 40.90625 39.703125 44.5 \nQ 35.59375 48.203125 29.90625 48.203125 \nQ 22.296875 48.203125 16.796875 41.90625 \nQ 11.296875 35.5 11.296875 27.5 \nL 11.296875 0 \nL 4.5 0 \nL 4.5 53.5 \nL 10.796875 53.5 \nL 11.09375 43.5 \nQ 13.796875 47.59375 17.40625 50.296875 \nQ 23.296875 54.703125 30.703125 54.703125 \nQ 39.296875 54.703125 45.09375 49.5 \nQ 51 44.40625 51 35.796875 \nz\n\" id=\"AppleGothic-110\"/>\n        <path d=\"M 44.09375 47.5 \nL 46.09375 53.5 \nL 51.40625 53.5 \nL 51.40625 5.09375 \nQ 51.40625 -7.40625 45.296875 -13.90625 \nQ 39.203125 -20.40625 26.40625 -20.40625 \nQ 21.203125 -20.40625 16.546875 -18.546875 \nQ 11.90625 -16.703125 6.796875 -12.796875 \nL 6.796875 -4 \nQ 10 -7 13.09375 -9.046875 \nQ 16.203125 -11.09375 19.203125 -12.203125 \nQ 22.703125 -13.5 26.40625 -13.5 \nQ 34.296875 -13.5 38.703125 -9.90625 \nQ 44.09375 -5.5 44.09375 4.203125 \nL 44.09375 10.796875 \nQ 40.296875 4.5 34.703125 1.90625 \nQ 30.90625 0.09375 26.296875 0.09375 \nQ 16.40625 0.09375 9.703125 8 \nQ 3.09375 16.09375 3.09375 26.703125 \nQ 3.09375 37.296875 9.296875 45.40625 \nQ 16.5 54.703125 27.703125 54.703125 \nQ 33.296875 54.703125 38.296875 52 \nQ 39.796875 51.09375 41.25 50 \nQ 42.703125 48.90625 44.09375 47.5 \nz\nM 44.09375 25.90625 \nL 44.09375 40.59375 \nQ 42.40625 42.5 40.65625 43.796875 \nQ 38.90625 45.09375 37.203125 46.09375 \nQ 35.203125 47.203125 33.09375 47.703125 \nQ 31 48.203125 28.796875 48.203125 \nQ 21.296875 48.203125 16.40625 42.90625 \nQ 10.90625 36.90625 10.90625 27.09375 \nQ 10.90625 18.203125 15.5 12.40625 \nQ 20 6.703125 27.203125 6.703125 \nQ 34.296875 6.703125 39.203125 12.203125 \nQ 44.09375 17.5 44.09375 25.90625 \nz\n\" id=\"AppleGothic-103\"/>\n        <path d=\"M 33.203125 53.5 \nL 33.203125 46.296875 \nQ 32.09375 46.703125 31.390625 46.953125 \nQ 30.703125 47.203125 30.203125 47.296875 \nQ 29.703125 47.40625 29.140625 47.453125 \nQ 28.59375 47.5 27.703125 47.5 \nQ 20.40625 47.5 15.703125 40.40625 \nQ 11.703125 33.90625 11.703125 25.90625 \nL 11.703125 0 \nL 4.5 0 \nL 4.5 53.5 \nL 11.09375 53.5 \nL 11.59375 44.296875 \nQ 14.09375 48.5 16.296875 50.296875 \nQ 20.796875 54 27.09375 54 \nQ 28.796875 54 30.25 53.890625 \nQ 31.703125 53.796875 33.203125 53.5 \nz\n\" id=\"AppleGothic-114\"/>\n       </defs>\n       <use xlink:href=\"#AppleGothic-84\"/>\n       <use x=\"66.099991\" xlink:href=\"#AppleGothic-101\"/>\n       <use x=\"120.999985\" xlink:href=\"#AppleGothic-101\"/>\n       <use x=\"175.899979\" xlink:href=\"#AppleGothic-110\"/>\n       <use x=\"231.799973\" xlink:href=\"#AppleGothic-97\"/>\n       <use x=\"288.299957\" xlink:href=\"#AppleGothic-103\"/>\n       <use x=\"344.499954\" xlink:href=\"#AppleGothic-101\"/>\n       <use x=\"399.399948\" xlink:href=\"#AppleGothic-114\"/>\n      </g>\n     </g>\n    </g>\n    <g id=\"xtick_4\">\n     <g id=\"line2d_4\">\n      <g>\n       <use style=\"stroke:#000000;stroke-width:0.8;\" x=\"240.110937\" xlink:href=\"#m57749c0443\" y=\"224.64\"/>\n      </g>\n     </g>\n     <g id=\"text_4\">\n      <!-- Youth -->\n      <g transform=\"translate(226.625781 239.480625)scale(0.1 -0.1)\">\n       <defs>\n        <path d=\"M 1.796875 78.40625 \nL 11.203125 78.40625 \nL 35.203125 42.296875 \nL 58.796875 78.40625 \nL 68.59375 78.40625 \nL 39 35.40625 \nL 39 0 \nL 31.203125 0 \nL 31.203125 35.40625 \nz\n\" id=\"AppleGothic-89\"/>\n        <path d=\"M 29.5 -1.296875 \nQ 19.203125 -1.296875 11.40625 6.203125 \nQ 3.09375 14.09375 3.09375 26.703125 \nQ 3.09375 38.59375 10.40625 46.59375 \nQ 17.90625 54.703125 28.90625 54.703125 \nQ 39.796875 54.703125 47.296875 46.59375 \nQ 54.703125 38.59375 54.703125 26.796875 \nQ 54.703125 14.40625 46.703125 6.296875 \nQ 39.296875 -1.296875 29.5 -1.296875 \nz\nM 28.796875 5.296875 \nQ 36 5.296875 41.59375 11.296875 \nQ 47 17.40625 47 26.796875 \nQ 47 36.5 41.203125 42.59375 \nQ 35.90625 48.203125 28.90625 48.203125 \nQ 21.703125 48.203125 16.59375 42.40625 \nQ 11 36 11 26.703125 \nQ 11 17.296875 16.5 11 \nQ 21.59375 5.296875 28.796875 5.296875 \nz\n\" id=\"AppleGothic-111\"/>\n        <path d=\"M 4.09375 53.5 \nL 11.40625 53.5 \nL 11.40625 19.40625 \nQ 11.40625 13.703125 14.703125 9.796875 \nQ 18.296875 5.296875 24.90625 5.296875 \nQ 32.5 5.296875 37.90625 11.40625 \nQ 43.5 17.796875 43.5 25.5 \nL 43.5 53.5 \nL 50.703125 53.5 \nL 50.703125 0 \nL 44.40625 0 \nL 43.90625 9.09375 \nQ 42.296875 6.90625 40.5 5.15625 \nQ 38.703125 3.40625 36.59375 2.09375 \nQ 31 -1.296875 24.296875 -1.296875 \nQ 15.09375 -1.296875 9.59375 4.40625 \nQ 4.09375 10.203125 4.09375 18.5 \nz\n\" id=\"AppleGothic-117\"/>\n        <path d=\"M 10.796875 69.296875 \nL 17.40625 69.296875 \nL 17.40625 53.59375 \nL 31.5 53.59375 \nL 31.5 47.09375 \nL 17.40625 47.09375 \nL 17.40625 13.09375 \nQ 17.40625 8.90625 18.953125 7.09375 \nQ 20.5 5.296875 24.296875 5.296875 \nQ 26.5 5.296875 28.046875 5.796875 \nQ 29.59375 6.296875 31.5 7.09375 \nL 31.5 0.59375 \nQ 29.90625 0.09375 27.65625 -0.34375 \nQ 25.40625 -0.796875 23.09375 -0.796875 \nQ 17.09375 -0.796875 13.796875 1.90625 \nQ 10.09375 4.703125 10.09375 10.90625 \nL 10.09375 47.09375 \nL 1.09375 47.09375 \nL 1.09375 53.59375 \nL 10.09375 53.59375 \nz\n\" id=\"AppleGothic-116\"/>\n       </defs>\n       <use xlink:href=\"#AppleGothic-89\"/>\n       <use x=\"69.499985\" xlink:href=\"#AppleGothic-111\"/>\n       <use x=\"127.799973\" xlink:href=\"#AppleGothic-117\"/>\n       <use x=\"183.299957\" xlink:href=\"#AppleGothic-116\"/>\n       <use x=\"217.499954\" xlink:href=\"#AppleGothic-104\"/>\n      </g>\n     </g>\n    </g>\n    <g id=\"xtick_5\">\n     <g id=\"line2d_5\">\n      <g>\n       <use style=\"stroke:#000000;stroke-width:0.8;\" x=\"295.910937\" xlink:href=\"#m57749c0443\" y=\"224.64\"/>\n      </g>\n     </g>\n     <g id=\"text_5\">\n      <!-- Adult -->\n      <g transform=\"translate(284.260938 239.480625)scale(0.1 -0.1)\">\n       <defs>\n        <path d=\"M 32.59375 78.40625 \nL 40.296875 78.40625 \nL 69.5 0 \nL 60.296875 0 \nL 50.90625 26.796875 \nL 21.09375 26.796875 \nL 11.296875 0 \nL 2.59375 0 \nz\nM 48.703125 33.703125 \nL 36.59375 69 \nL 23.5 33.703125 \nz\n\" id=\"AppleGothic-65\"/>\n       </defs>\n       <use xlink:href=\"#AppleGothic-65\"/>\n       <use x=\"72.599991\" xlink:href=\"#AppleGothic-100\"/>\n       <use x=\"126.599976\" xlink:href=\"#AppleGothic-117\"/>\n       <use x=\"182.09996\" xlink:href=\"#AppleGothic-108\"/>\n       <use x=\"198.799957\" xlink:href=\"#AppleGothic-116\"/>\n      </g>\n     </g>\n    </g>\n    <g id=\"xtick_6\">\n     <g id=\"line2d_6\">\n      <g>\n       <use style=\"stroke:#000000;stroke-width:0.8;\" x=\"351.710938\" xlink:href=\"#m57749c0443\" y=\"224.64\"/>\n      </g>\n     </g>\n     <g id=\"text_6\">\n      <!-- Elderly -->\n      <g transform=\"translate(337.154688 239.49)scale(0.1 -0.1)\">\n       <defs>\n        <path d=\"M 4.40625 78.5 \nL 53.203125 78.5 \nL 53.203125 71.59375 \nL 12.296875 71.59375 \nL 12.296875 44.5 \nL 51.703125 44.5 \nL 51.703125 37.59375 \nL 12.296875 37.59375 \nL 12.296875 6.90625 \nL 53.5 6.90625 \nL 53.5 0 \nL 4.40625 0 \nz\n\" id=\"AppleGothic-69\"/>\n       </defs>\n       <use xlink:href=\"#AppleGothic-69\"/>\n       <use x=\"57.899994\" xlink:href=\"#AppleGothic-108\"/>\n       <use x=\"74.599991\" xlink:href=\"#AppleGothic-100\"/>\n       <use x=\"128.599976\" xlink:href=\"#AppleGothic-101\"/>\n       <use x=\"183.499969\" xlink:href=\"#AppleGothic-114\"/>\n       <use x=\"218.699966\" xlink:href=\"#AppleGothic-108\"/>\n       <use x=\"235.399963\" xlink:href=\"#AppleGothic-121\"/>\n      </g>\n     </g>\n    </g>\n    <g id=\"text_7\">\n     <!-- Cat -->\n     <g transform=\"translate(204.250781 253.361875)scale(0.1 -0.1)\">\n      <use xlink:href=\"#AppleGothic-67\"/>\n      <use x=\"68.499985\" xlink:href=\"#AppleGothic-97\"/>\n      <use x=\"124.999969\" xlink:href=\"#AppleGothic-116\"/>\n     </g>\n    </g>\n   </g>\n   <g id=\"matplotlib.axis_2\">\n    <g id=\"ytick_1\">\n     <g id=\"line2d_7\">\n      <defs>\n       <path d=\"M 0 0 \nL -3.5 0 \n\" id=\"m8918b2f8aa\" style=\"stroke:#000000;stroke-width:0.8;\"/>\n      </defs>\n      <g>\n       <use style=\"stroke:#000000;stroke-width:0.8;\" x=\"44.810938\" xlink:href=\"#m8918b2f8aa\" y=\"224.64\"/>\n      </g>\n     </g>\n     <g id=\"text_8\">\n      <!-- 0.0 -->\n      <g transform=\"translate(20.760938 228.560312)scale(0.1 -0.1)\">\n       <defs>\n        <path d=\"M 34.796875 -1.296875 \nQ 22.09375 -1.296875 14.59375 9 \nQ 7.203125 19.203125 7.203125 37.296875 \nQ 7.203125 55.5 15.203125 65.90625 \nQ 22.703125 75.90625 34.703125 75.90625 \nQ 47.296875 75.90625 54.40625 65.203125 \nQ 61.796875 54.59375 61.796875 37.40625 \nQ 61.796875 19.5 54.09375 9.09375 \nQ 46.5 -1.296875 34.796875 -1.296875 \nz\nM 34 5.40625 \nQ 44.703125 5.40625 50 15.5 \nQ 54.09375 24 54.09375 37.5 \nQ 54.09375 51.796875 49.40625 60.296875 \nQ 44.09375 69.203125 34.59375 69.203125 \nQ 24.59375 69.203125 19.5 59.703125 \nQ 15 51.296875 15 37.09375 \nQ 15 23.09375 19.5 14.703125 \nQ 24.59375 5.40625 34 5.40625 \nz\n\" id=\"AppleGothic-48\"/>\n        <path d=\"M 14.296875 -0.296875 \nQ 11.90625 -0.296875 10.203125 1.703125 \nQ 8.5 3.703125 8.5 6.59375 \nQ 8.5 9.59375 10.25 11.640625 \nQ 12 13.703125 14.296875 13.703125 \nQ 16.5 13.703125 18.25 11.84375 \nQ 20 10 20 6.796875 \nQ 20 3.796875 18.296875 1.75 \nQ 16.59375 -0.296875 14.296875 -0.296875 \nz\n\" id=\"AppleGothic-46\"/>\n       </defs>\n       <use xlink:href=\"#AppleGothic-48\"/>\n       <use x=\"67.999985\" xlink:href=\"#AppleGothic-46\"/>\n       <use x=\"102.499969\" xlink:href=\"#AppleGothic-48\"/>\n      </g>\n     </g>\n    </g>\n    <g id=\"ytick_2\">\n     <g id=\"line2d_8\">\n      <g>\n       <use style=\"stroke:#000000;stroke-width:0.8;\" x=\"44.810938\" xlink:href=\"#m8918b2f8aa\" y=\"183.222857\"/>\n      </g>\n     </g>\n     <g id=\"text_9\">\n      <!-- 0.2 -->\n      <g transform=\"translate(20.760938 187.14317)scale(0.1 -0.1)\">\n       <defs>\n        <path d=\"M 17.203125 6.703125 \nL 61.59375 6.703125 \nL 61.59375 0 \nL 10.203125 0 \nL 10.203125 3.203125 \nQ 10.203125 15.90625 21 26 \nQ 26.09375 29.59375 31.09375 33.1875 \nQ 36.09375 36.796875 41.203125 40.5 \nQ 52.09375 48.40625 52.09375 56.203125 \nQ 52.09375 62.40625 47.09375 65.90625 \nQ 44.796875 67.59375 42.09375 68.390625 \nQ 39.40625 69.203125 36.203125 69.203125 \nQ 31.5 69.203125 27.203125 68 \nQ 20.703125 66 13.796875 61.09375 \nL 13.796875 69.296875 \nQ 20.703125 72.796875 26.046875 74.34375 \nQ 31.40625 75.90625 36.203125 75.90625 \nQ 46.296875 75.90625 53.203125 70.703125 \nQ 60 65.59375 60 56.59375 \nQ 60 46.796875 49.5 38.09375 \nQ 44.5 34.59375 39.546875 31.25 \nQ 34.59375 27.90625 29.59375 24.40625 \nQ 18.40625 16 17.203125 6.703125 \nz\n\" id=\"AppleGothic-50\"/>\n       </defs>\n       <use xlink:href=\"#AppleGothic-48\"/>\n       <use x=\"67.999985\" xlink:href=\"#AppleGothic-46\"/>\n       <use x=\"102.499969\" xlink:href=\"#AppleGothic-50\"/>\n      </g>\n     </g>\n    </g>\n    <g id=\"ytick_3\">\n     <g id=\"line2d_9\">\n      <g>\n       <use style=\"stroke:#000000;stroke-width:0.8;\" x=\"44.810938\" xlink:href=\"#m8918b2f8aa\" y=\"141.805714\"/>\n      </g>\n     </g>\n     <g id=\"text_10\">\n      <!-- 0.4 -->\n      <g transform=\"translate(20.760938 145.726027)scale(0.1 -0.1)\">\n       <defs>\n        <path d=\"M 41.59375 74.59375 \nL 48.90625 74.59375 \nL 48.90625 28.296875 \nL 62.5 28.296875 \nL 62.5 21.59375 \nL 48.90625 21.59375 \nL 48.90625 0 \nL 41.59375 0 \nL 41.59375 21.59375 \nL 5.5 21.59375 \nL 5.5 28.296875 \nz\nM 41.59375 28.296875 \nL 41.59375 65.09375 \nL 13.09375 28.296875 \nz\n\" id=\"AppleGothic-52\"/>\n       </defs>\n       <use xlink:href=\"#AppleGothic-48\"/>\n       <use x=\"67.999985\" xlink:href=\"#AppleGothic-46\"/>\n       <use x=\"102.499969\" xlink:href=\"#AppleGothic-52\"/>\n      </g>\n     </g>\n    </g>\n    <g id=\"ytick_4\">\n     <g id=\"line2d_10\">\n      <g>\n       <use style=\"stroke:#000000;stroke-width:0.8;\" x=\"44.810938\" xlink:href=\"#m8918b2f8aa\" y=\"100.388571\"/>\n      </g>\n     </g>\n     <g id=\"text_11\">\n      <!-- 0.6 -->\n      <g transform=\"translate(20.760938 104.308884)scale(0.1 -0.1)\">\n       <defs>\n        <path d=\"M 57.796875 71.203125 \nL 57.796875 62.703125 \nQ 56 64.09375 54.296875 65.046875 \nQ 52.59375 66 50.90625 66.796875 \nQ 48.203125 68.09375 45.59375 68.640625 \nQ 43 69.203125 40.40625 69.203125 \nQ 38.59375 69.203125 36.75 68.890625 \nQ 34.90625 68.59375 33.09375 67.796875 \nQ 26.09375 64.90625 21.796875 58.40625 \nQ 15.796875 49.203125 15.796875 34.203125 \nQ 20.5 38.90625 24.5 41.5 \nQ 31.59375 45.796875 39.59375 45.796875 \nQ 49.40625 45.796875 56 40.09375 \nQ 63.09375 33.796875 63.09375 23.296875 \nQ 63.09375 12.59375 55.59375 5.59375 \nQ 48.09375 -1.296875 37.40625 -1.296875 \nQ 26.09375 -1.296875 17.90625 7.09375 \nQ 8.09375 17 8.09375 35.203125 \nQ 8.09375 53.296875 17.5 64.59375 \nQ 26.796875 75.90625 40.703125 75.90625 \nQ 45.90625 75.90625 50.40625 74.40625 \nQ 51.703125 73.90625 53.546875 73.15625 \nQ 55.40625 72.40625 57.796875 71.203125 \nz\nM 16.59375 26.59375 \nQ 18 18 23.40625 12 \nQ 29.40625 5.40625 37.796875 5.40625 \nQ 45.296875 5.40625 50.203125 10.296875 \nQ 55.296875 15.203125 55.296875 22.796875 \nQ 55.296875 30 50.40625 34.59375 \nQ 45.59375 39.09375 39 39.09375 \nQ 31.09375 39.09375 24.09375 34 \nQ 22.09375 32.5 20.1875 30.703125 \nQ 18.296875 28.90625 16.59375 26.59375 \nz\n\" id=\"AppleGothic-54\"/>\n       </defs>\n       <use xlink:href=\"#AppleGothic-48\"/>\n       <use x=\"67.999985\" xlink:href=\"#AppleGothic-46\"/>\n       <use x=\"102.499969\" xlink:href=\"#AppleGothic-54\"/>\n      </g>\n     </g>\n    </g>\n    <g id=\"ytick_5\">\n     <g id=\"line2d_11\">\n      <g>\n       <use style=\"stroke:#000000;stroke-width:0.8;\" x=\"44.810938\" xlink:href=\"#m8918b2f8aa\" y=\"58.971429\"/>\n      </g>\n     </g>\n     <g id=\"text_12\">\n      <!-- 0.8 -->\n      <g transform=\"translate(20.760938 62.891741)scale(0.1 -0.1)\">\n       <defs>\n        <path d=\"M 46.203125 40.703125 \nQ 50.296875 39.5 53.1875 38.203125 \nQ 56.09375 36.90625 57.90625 35.5 \nQ 65.5 30.09375 65.5 21.40625 \nQ 65.5 11.703125 56.90625 5.203125 \nQ 48.40625 -1.296875 35.703125 -1.296875 \nQ 22.40625 -1.296875 14.796875 5.09375 \nQ 8 10.796875 8 19.203125 \nQ 8 28.09375 15.59375 33.203125 \nQ 17.90625 34.796875 20.953125 36 \nQ 24 37.203125 27.796875 38.296875 \nQ 24.59375 39.59375 22.34375 40.890625 \nQ 20.09375 42.203125 18.703125 43.5 \nQ 12.796875 48.5 12.796875 56.296875 \nQ 12.796875 65.203125 19.703125 70.5 \nQ 26.59375 75.90625 37.203125 75.90625 \nQ 47.09375 75.90625 53.703125 71.40625 \nQ 60.90625 66.59375 60.90625 58.40625 \nQ 60.90625 52.703125 57.34375 48.140625 \nQ 53.796875 43.59375 46.203125 40.703125 \nz\nM 37.59375 43 \nQ 41 44.296875 43.453125 45.546875 \nQ 45.90625 46.796875 47.5 47.90625 \nQ 53.09375 51.90625 53.09375 57.296875 \nQ 53.09375 62.40625 48.5 65.703125 \nQ 44.09375 69.203125 36.90625 69.203125 \nQ 29.59375 69.203125 25.203125 65.703125 \nQ 20.703125 62.40625 20.703125 56.796875 \nQ 20.703125 51.90625 24.703125 48.40625 \nQ 26.5 46.90625 29.703125 45.5 \nQ 32.90625 44.09375 37.59375 43 \nz\nM 37 36 \nQ 32.203125 34.40625 28.75 32.90625 \nQ 25.296875 31.40625 23 30 \nQ 15.796875 25.40625 15.796875 19.296875 \nQ 15.796875 13.203125 21.5 9.296875 \nQ 27 5.40625 36.09375 5.40625 \nQ 45.90625 5.40625 51.796875 10 \nQ 57.703125 14.59375 57.703125 20.90625 \nQ 57.703125 27.203125 50.59375 31.203125 \nQ 48.5 32.296875 45.09375 33.546875 \nQ 41.703125 34.796875 37 36 \nz\n\" id=\"AppleGothic-56\"/>\n       </defs>\n       <use xlink:href=\"#AppleGothic-48\"/>\n       <use x=\"67.999985\" xlink:href=\"#AppleGothic-46\"/>\n       <use x=\"102.499969\" xlink:href=\"#AppleGothic-56\"/>\n      </g>\n     </g>\n    </g>\n    <g id=\"ytick_6\">\n     <g id=\"line2d_12\">\n      <g>\n       <use style=\"stroke:#000000;stroke-width:0.8;\" x=\"44.810938\" xlink:href=\"#m8918b2f8aa\" y=\"17.554286\"/>\n      </g>\n     </g>\n     <g id=\"text_13\">\n      <!-- 1.0 -->\n      <g transform=\"translate(20.760938 21.474598)scale(0.1 -0.1)\">\n       <defs>\n        <path d=\"M 36.59375 74.59375 \nL 43 74.59375 \nL 43 0 \nL 35.703125 0 \nL 35.703125 55.09375 \nL 18.09375 55.09375 \nL 18.09375 60.703125 \nL 22.09375 60.703125 \nQ 31.09375 60.703125 34.59375 65.703125 \nQ 36.59375 68.90625 36.59375 74.59375 \nz\n\" id=\"AppleGothic-49\"/>\n       </defs>\n       <use xlink:href=\"#AppleGothic-49\"/>\n       <use x=\"67.999985\" xlink:href=\"#AppleGothic-46\"/>\n       <use x=\"102.499969\" xlink:href=\"#AppleGothic-48\"/>\n      </g>\n     </g>\n    </g>\n    <g id=\"text_14\">\n     <!-- Survived -->\n     <g transform=\"translate(15.040625 135.27625)rotate(-90)scale(0.1 -0.1)\">\n      <defs>\n       <path d=\"M 53.40625 72.90625 \nL 53.40625 62.796875 \nQ 50.796875 65 48.140625 66.703125 \nQ 45.5 68.40625 42.90625 69.5 \nQ 36.90625 72.296875 30.703125 72.296875 \nQ 22.90625 72.296875 17.796875 68.40625 \nQ 12.59375 64.40625 12.59375 58.90625 \nQ 12.59375 50.90625 24.40625 46.90625 \nQ 29.90625 45 35.34375 43.25 \nQ 40.796875 41.5 46.40625 39.703125 \nQ 58.296875 34 58.296875 22.703125 \nQ 58.296875 11.703125 49.796875 5 \nQ 41.703125 -1.296875 29.703125 -1.296875 \nQ 21.703125 -1.296875 14.296875 1.796875 \nQ 10 3.5 4.09375 7.40625 \nL 4.09375 17.59375 \nQ 11.796875 10.703125 19.703125 7.90625 \nQ 22.296875 6.90625 24.796875 6.5 \nQ 27.296875 6.09375 29.796875 6.09375 \nQ 37.796875 6.09375 43.296875 10.09375 \nQ 49.40625 14.5 49.40625 21.59375 \nQ 49.40625 30.203125 37.796875 34.703125 \nQ 32.203125 36.40625 26.796875 38.203125 \nQ 21.40625 40 16 41.703125 \nQ 4.296875 47.09375 4.296875 58.296875 \nQ 4.296875 67.703125 11.703125 73.59375 \nQ 19.296875 79.703125 30.703125 79.703125 \nQ 37.703125 79.703125 44.703125 77.09375 \nQ 48.296875 75.90625 53.40625 72.90625 \nz\n\" id=\"AppleGothic-83\"/>\n       <path d=\"M 1.703125 53.5 \nL 9.796875 53.5 \nL 26.796875 7.59375 \nL 44.203125 53.5 \nL 51.40625 53.5 \nL 30 0 \nL 23.09375 0 \nz\n\" id=\"AppleGothic-118\"/>\n      </defs>\n      <use xlink:href=\"#AppleGothic-83\"/>\n      <use x=\"63.199997\" xlink:href=\"#AppleGothic-117\"/>\n      <use x=\"118.699982\" xlink:href=\"#AppleGothic-114\"/>\n      <use x=\"153.899979\" xlink:href=\"#AppleGothic-118\"/>\n      <use x=\"208.099976\" xlink:href=\"#AppleGothic-105\"/>\n      <use x=\"223.999969\" xlink:href=\"#AppleGothic-118\"/>\n      <use x=\"278.199966\" xlink:href=\"#AppleGothic-101\"/>\n      <use x=\"333.09996\" xlink:href=\"#AppleGothic-100\"/>\n     </g>\n    </g>\n   </g>\n   <g id=\"line2d_13\">\n    <path clip-path=\"url(#p5e7c0c6b06)\" d=\"M 61.550938 134.602733 \nL 61.550938 53.569193 \n\" style=\"fill:none;stroke:#424242;stroke-linecap:square;stroke-width:2.7;\"/>\n   </g>\n   <g id=\"line2d_14\">\n    <path clip-path=\"url(#p5e7c0c6b06)\" d=\"M 117.350938 180.26449 \nL 117.350938 76.721633 \n\" style=\"fill:none;stroke:#424242;stroke-linecap:square;stroke-width:2.7;\"/>\n   </g>\n   <g id=\"line2d_15\">\n    <path clip-path=\"url(#p5e7c0c6b06)\" d=\"M 173.150937 220.657582 \nL 173.150937 184.815824 \n\" style=\"fill:none;stroke:#424242;stroke-linecap:square;stroke-width:2.7;\"/>\n   </g>\n   <g id=\"line2d_16\">\n    <path clip-path=\"url(#p5e7c0c6b06)\" d=\"M 228.950937 200.853127 \nL 228.950937 178.430502 \n\" style=\"fill:none;stroke:#424242;stroke-linecap:square;stroke-width:2.7;\"/>\n   </g>\n   <g id=\"line2d_17\">\n    <path clip-path=\"url(#p5e7c0c6b06)\" d=\"M 284.750937 197.544673 \nL 284.750937 179.481121 \n\" style=\"fill:none;stroke:#424242;stroke-linecap:square;stroke-width:2.7;\"/>\n   </g>\n   <g id=\"line2d_18\">\n    <path clip-path=\"url(#p5e7c0c6b06)\" d=\"M 340.550937 224.64 \nL 340.550937 170.143759 \n\" style=\"fill:none;stroke:#424242;stroke-linecap:square;stroke-width:2.7;\"/>\n   </g>\n   <g id=\"line2d_19\">\n    <path clip-path=\"url(#p5e7c0c6b06)\" d=\"M 83.870937 106.305306 \nL 83.870937 27.41551 \n\" style=\"fill:none;stroke:#424242;stroke-linecap:square;stroke-width:2.7;\"/>\n   </g>\n   <g id=\"line2d_20\">\n    <path clip-path=\"url(#p5e7c0c6b06)\" d=\"M 139.670937 224.64 \nL 139.670937 111.684156 \n\" style=\"fill:none;stroke:#424242;stroke-linecap:square;stroke-width:2.7;\"/>\n   </g>\n   <g id=\"line2d_21\">\n    <path clip-path=\"url(#p5e7c0c6b06)\" d=\"M 195.470937 89.793488 \nL 195.470937 36.818073 \n\" style=\"fill:none;stroke:#424242;stroke-linecap:square;stroke-width:2.7;\"/>\n   </g>\n   <g id=\"line2d_22\">\n    <path clip-path=\"url(#p5e7c0c6b06)\" d=\"M 251.270938 95.211429 \nL 251.270938 54.944762 \n\" style=\"fill:none;stroke:#424242;stroke-linecap:square;stroke-width:2.7;\"/>\n   </g>\n   <g id=\"line2d_23\">\n    <path clip-path=\"url(#p5e7c0c6b06)\" d=\"M 307.070938 81.952892 \nL 307.070938 54.173101 \n\" style=\"fill:none;stroke:#424242;stroke-linecap:square;stroke-width:2.7;\"/>\n   </g>\n   <g id=\"line2d_24\">\n    <path clip-path=\"url(#p5e7c0c6b06)\" d=\"M 362.870937 17.554286 \nL 362.870937 17.554286 \n\" style=\"fill:none;stroke:#424242;stroke-linecap:square;stroke-width:2.7;\"/>\n   </g>\n   <g id=\"patch_15\">\n    <path d=\"M 44.810938 224.64 \nL 44.810938 7.2 \n\" style=\"fill:none;stroke:#000000;stroke-linecap:square;stroke-linejoin:miter;stroke-width:0.8;\"/>\n   </g>\n   <g id=\"patch_16\">\n    <path d=\"M 379.610938 224.64 \nL 379.610938 7.2 \n\" style=\"fill:none;stroke:#000000;stroke-linecap:square;stroke-linejoin:miter;stroke-width:0.8;\"/>\n   </g>\n   <g id=\"patch_17\">\n    <path d=\"M 44.810938 224.64 \nL 379.610937 224.64 \n\" style=\"fill:none;stroke:#000000;stroke-linecap:square;stroke-linejoin:miter;stroke-width:0.8;\"/>\n   </g>\n   <g id=\"patch_18\">\n    <path d=\"M 44.810938 7.2 \nL 379.610937 7.2 \n\" style=\"fill:none;stroke:#000000;stroke-linecap:square;stroke-linejoin:miter;stroke-width:0.8;\"/>\n   </g>\n   <g id=\"legend_1\">\n    <g id=\"patch_19\">\n     <path d=\"M 309.979688 139.261406 \nL 372.610938 139.261406 \nQ 374.610938 139.261406 374.610938 137.261406 \nL 374.610938 94.578594 \nQ 374.610938 92.578594 372.610938 92.578594 \nL 309.979688 92.578594 \nQ 307.979688 92.578594 307.979688 94.578594 \nL 307.979688 137.261406 \nQ 307.979688 139.261406 309.979688 139.261406 \nz\n\" style=\"fill:#ffffff;opacity:0.8;stroke:#cccccc;stroke-linejoin:miter;\"/>\n    </g>\n    <g id=\"text_15\">\n     <!-- Sex -->\n     <g transform=\"translate(332.669531 104.419219)scale(0.1 -0.1)\">\n      <defs>\n       <path d=\"M 5.5 53.5 \nL 14.5 53.5 \nL 27.40625 33.59375 \nL 40.5 53.5 \nL 48.90625 53.5 \nL 31.59375 28.59375 \nL 51.09375 0 \nL 41.90625 0 \nL 26.90625 23.5 \nL 11.796875 0 \nL 3.296875 0 \nL 22.90625 28.59375 \nz\n\" id=\"AppleGothic-120\"/>\n      </defs>\n      <use xlink:href=\"#AppleGothic-83\"/>\n      <use x=\"63.199997\" xlink:href=\"#AppleGothic-101\"/>\n      <use x=\"118.099991\" xlink:href=\"#AppleGothic-120\"/>\n     </g>\n    </g>\n    <g id=\"patch_20\">\n     <path d=\"M 311.979688 118.980156 \nL 331.979688 118.980156 \nL 331.979688 111.980156 \nL 311.979688 111.980156 \nz\n\" style=\"fill:#abc9ea;\"/>\n    </g>\n    <g id=\"text_16\">\n     <!-- male -->\n     <g transform=\"translate(339.979688 118.980156)scale(0.1 -0.1)\">\n      <defs>\n       <path d=\"M 84.203125 34.296875 \nL 84.203125 0 \nL 76.90625 0 \nL 76.90625 36 \nQ 76.90625 41.703125 73 45.203125 \nQ 69.703125 48.203125 65.203125 48.203125 \nQ 58.5 48.203125 53.203125 42 \nQ 48 35.90625 48 26.90625 \nL 48 0 \nL 40.703125 0 \nL 40.703125 36 \nQ 40.703125 41.40625 37 44.703125 \nQ 33.5 48.203125 29 48.203125 \nQ 22.5 48.203125 17.40625 42.40625 \nQ 11.796875 36 11.796875 26.59375 \nL 11.796875 0 \nL 4.5 0 \nL 4.5 53.5 \nL 11.296875 53.5 \nL 11.59375 45 \nQ 14.5 49.703125 19.90625 52.40625 \nQ 24.703125 54.703125 29.59375 54.703125 \nQ 37.203125 54.703125 42.40625 50.296875 \nQ 46.203125 47 47.203125 43.703125 \nQ 49.203125 47.40625 52.90625 50.40625 \nQ 58.703125 54.703125 65.703125 54.703125 \nQ 74.203125 54.703125 78.90625 49.59375 \nQ 84.203125 43.796875 84.203125 34.296875 \nz\n\" id=\"AppleGothic-109\"/>\n      </defs>\n      <use xlink:href=\"#AppleGothic-109\"/>\n      <use x=\"89.299988\" xlink:href=\"#AppleGothic-97\"/>\n      <use x=\"145.799973\" xlink:href=\"#AppleGothic-108\"/>\n      <use x=\"162.499969\" xlink:href=\"#AppleGothic-101\"/>\n     </g>\n    </g>\n    <g id=\"patch_21\">\n     <path d=\"M 311.979688 133.541094 \nL 331.979688 133.541094 \nL 331.979688 126.541094 \nL 311.979688 126.541094 \nz\n\" style=\"fill:#efb792;\"/>\n    </g>\n    <g id=\"text_17\">\n     <!-- female -->\n     <g transform=\"translate(339.979688 133.541094)scale(0.1 -0.1)\">\n      <defs>\n       <path d=\"M 10.09375 53.59375 \nL 10.09375 63.796875 \nQ 10.09375 70.90625 12.796875 74.59375 \nQ 16.203125 79.703125 24.296875 79.703125 \nQ 25.203125 79.703125 25.890625 79.640625 \nQ 26.59375 79.59375 27.34375 79.5 \nQ 28.09375 79.40625 29.09375 79.09375 \nQ 30.09375 78.796875 31.5 78.40625 \nL 31.5 71.796875 \nQ 31.203125 72.203125 28.703125 72.703125 \nQ 27.59375 72.90625 26.75 73 \nQ 25.90625 73.09375 25.296875 73.09375 \nQ 21.09375 73.09375 19.1875 70.6875 \nQ 17.296875 68.296875 17.296875 63.796875 \nL 17.296875 53.59375 \nL 31.5 53.59375 \nL 31.5 47.09375 \nL 17.296875 47.09375 \nL 17.296875 0 \nL 10.09375 0 \nL 10.09375 47.09375 \nL 1 47.09375 \nL 1 53.59375 \nz\n\" id=\"AppleGothic-102\"/>\n      </defs>\n      <use xlink:href=\"#AppleGothic-102\"/>\n      <use x=\"33.999985\" xlink:href=\"#AppleGothic-101\"/>\n      <use x=\"88.899979\" xlink:href=\"#AppleGothic-109\"/>\n      <use x=\"178.199966\" xlink:href=\"#AppleGothic-97\"/>\n      <use x=\"234.699951\" xlink:href=\"#AppleGothic-108\"/>\n      <use x=\"251.399948\" xlink:href=\"#AppleGothic-101\"/>\n     </g>\n    </g>\n   </g>\n  </g>\n </g>\n <defs>\n  <clipPath id=\"p5e7c0c6b06\">\n   <rect height=\"217.44\" width=\"334.8\" x=\"44.810938\" y=\"7.2\"/>\n  </clipPath>\n </defs>\n</svg>\n",
      "image/png": "[encoded data removed]"
     },
     "metadata": {
      "needs_background": "light"
     }
    }
   ],
   "source": [
    "sns.barplot(x='Cat', y = 'Survived', hue='Sex', data=df)"
   ]
  },
  {
   "source": [
    "## 6) 학습/테스트 데이터 세트 분리"
   ],
   "cell_type": "markdown",
   "metadata": {}
  },
  {
   "cell_type": "code",
   "execution_count": 9,
   "metadata": {},
   "outputs": [
    {
     "output_type": "execute_result",
     "data": {
      "text/plain": [
       "   PassengerId  Survived  Pclass  \\\n",
       "0            1         0       3   \n",
       "1            2         1       1   \n",
       "2            3         1       3   \n",
       "3            4         1       1   \n",
       "4            5         0       3   \n",
       "\n",
       "                                                Name  Sex   Age  SibSp  Parch  \\\n",
       "0                            Braund, Mr. Owen Harris    1  22.0      1      0   \n",
       "1  Cumings, Mrs. John Bradley (Florence Briggs Th...    0  38.0      1      0   \n",
       "2                             Heikkinen, Miss. Laina    0  26.0      0      0   \n",
       "3       Futrelle, Mrs. Jacques Heath (Lily May Peel)    0  35.0      1      0   \n",
       "4                           Allen, Mr. William Henry    1  35.0      0      0   \n",
       "\n",
       "             Ticket     Fare  Cabin  Embarked    Cat  \n",
       "0         A/5 21171   7.2500      0         3  Youth  \n",
       "1          PC 17599  71.2833      3         1  Adult  \n",
       "2  STON/O2. 3101282   7.9250      0         3  Youth  \n",
       "3            113803  53.1000      3         3  Adult  \n",
       "4            373450   8.0500      0         3  Adult  "
      ],
      "text/html": "<div>\n<style scoped>\n    .dataframe tbody tr th:only-of-type {\n        vertical-align: middle;\n    }\n\n    .dataframe tbody tr th {\n        vertical-align: top;\n    }\n\n    .dataframe thead th {\n        text-align: right;\n    }\n</style>\n<table border=\"1\" class=\"dataframe\">\n  <thead>\n    <tr style=\"text-align: right;\">\n      <th></th>\n      <th>PassengerId</th>\n      <th>Survived</th>\n      <th>Pclass</th>\n      <th>Name</th>\n      <th>Sex</th>\n      <th>Age</th>\n      <th>SibSp</th>\n      <th>Parch</th>\n      <th>Ticket</th>\n      <th>Fare</th>\n      <th>Cabin</th>\n      <th>Embarked</th>\n      <th>Cat</th>\n    </tr>\n  </thead>\n  <tbody>\n    <tr>\n      <th>0</th>\n      <td>1</td>\n      <td>0</td>\n      <td>3</td>\n      <td>Braund, Mr. Owen Harris</td>\n      <td>1</td>\n      <td>22.0</td>\n      <td>1</td>\n      <td>0</td>\n      <td>A/5 21171</td>\n      <td>7.2500</td>\n      <td>0</td>\n      <td>3</td>\n      <td>Youth</td>\n    </tr>\n    <tr>\n      <th>1</th>\n      <td>2</td>\n      <td>1</td>\n      <td>1</td>\n      <td>Cumings, Mrs. John Bradley (Florence Briggs Th...</td>\n      <td>0</td>\n      <td>38.0</td>\n      <td>1</td>\n      <td>0</td>\n      <td>PC 17599</td>\n      <td>71.2833</td>\n      <td>3</td>\n      <td>1</td>\n      <td>Adult</td>\n    </tr>\n    <tr>\n      <th>2</th>\n      <td>3</td>\n      <td>1</td>\n      <td>3</td>\n      <td>Heikkinen, Miss. Laina</td>\n      <td>0</td>\n      <td>26.0</td>\n      <td>0</td>\n      <td>0</td>\n      <td>STON/O2. 3101282</td>\n      <td>7.9250</td>\n      <td>0</td>\n      <td>3</td>\n      <td>Youth</td>\n    </tr>\n    <tr>\n      <th>3</th>\n      <td>4</td>\n      <td>1</td>\n      <td>1</td>\n      <td>Futrelle, Mrs. Jacques Heath (Lily May Peel)</td>\n      <td>0</td>\n      <td>35.0</td>\n      <td>1</td>\n      <td>0</td>\n      <td>113803</td>\n      <td>53.1000</td>\n      <td>3</td>\n      <td>3</td>\n      <td>Adult</td>\n    </tr>\n    <tr>\n      <th>4</th>\n      <td>5</td>\n      <td>0</td>\n      <td>3</td>\n      <td>Allen, Mr. William Henry</td>\n      <td>1</td>\n      <td>35.0</td>\n      <td>0</td>\n      <td>0</td>\n      <td>373450</td>\n      <td>8.0500</td>\n      <td>0</td>\n      <td>3</td>\n      <td>Adult</td>\n    </tr>\n  </tbody>\n</table>\n</div>"
     },
     "metadata": {},
     "execution_count": 9
    }
   ],
   "source": [
    "# 데이터 전처리\n",
    "from sklearn.preprocessing import LabelEncoder\n",
    "\n",
    "for feature in ['Cabin', 'Sex', 'Embarked']:\n",
    "    le = LabelEncoder()\n",
    "    df[feature] = le.fit_transform(df[feature])\n",
    "\n",
    "df.head()"
   ]
  },
  {
   "cell_type": "code",
   "execution_count": 10,
   "metadata": {},
   "outputs": [],
   "source": [
    "# 데이터 전처리에 필요한 함수\n",
    "\n",
    "# Null 처리 함수\n",
    "def fillna(df):\n",
    "    df['Age'].fillna(df['Age'].mean(), inplace=True)\n",
    "    df['Cabin'].fillna('-', inplace=True)\n",
    "    df['Embarked'].fillna('-', inplace=True)\n",
    "    df['Fare'].fillna(0, inplace=True)\n",
    "    return df\n",
    "\n",
    "# 머신러닝 알고리즘에 불필요한 속성 제거\n",
    "def drop_features(df):\n",
    "    df.drop(['PassengerId','Name','Ticket'], axis=1, inplace=True)\n",
    "    return df\n",
    "\n",
    "# 레이블 인코딩 수행. \n",
    "def format_features(df):\n",
    "    df['Cabin'] = df['Cabin'].str[:1]\n",
    "    features = ['Cabin', 'Sex', 'Embarked']\n",
    "    for feature in features:\n",
    "        le = LabelEncoder()\n",
    "        df[feature] = le.fit_transform(df[feature])\n",
    "    return df\n",
    "\n",
    "# 앞에서 설정한 Data Preprocessing 함수 호출\n",
    "def transform_features(df):\n",
    "    df = fillna(df)\n",
    "    df = drop_features(df)\n",
    "    df = format_features(df)\n",
    "    return df"
   ]
  },
  {
   "cell_type": "code",
   "execution_count": 11,
   "metadata": {},
   "outputs": [],
   "source": [
    "# 생존자 예측 수행\n",
    "# 원본 데이터를 재로딩 하고, feature데이터 셋과 Label 데이터 셋 추출. \n",
    "df = pd.read_csv(os.path.join(DATA_PATH, 'kaggle.com', 'titanic', 'train.csv'))\n",
    "\n",
    "y_axis = df['Survived']\n",
    "\n",
    "x_axis = df.drop('Survived', axis=1)\n",
    "x_axis = transform_features(x_axis)"
   ]
  },
  {
   "cell_type": "code",
   "execution_count": 12,
   "metadata": {},
   "outputs": [],
   "source": [
    "from sklearn.model_selection import train_test_split\n",
    "\n",
    "X_train, X_test, y_train, y_test=train_test_split(\n",
    "    x_axis, y_axis, test_size=0.2, random_state=11\n",
    ")"
   ]
  },
  {
   "source": [
    "## 7) 적용할 알고리즘 선정:\n",
    "- 결정 트리 – DecisionTreeClassifier\n",
    "- 랜덤 포레스트 – RandomForestClassifier\n",
    "- 로지스틱 회귀 – LogisticRegression"
   ],
   "cell_type": "markdown",
   "metadata": {}
  },
  {
   "source": [
    "## 8) 학습,예측및평가"
   ],
   "cell_type": "markdown",
   "metadata": {}
  },
  {
   "cell_type": "code",
   "execution_count": 13,
   "metadata": {},
   "outputs": [],
   "source": [
    "from sklearn.tree import DecisionTreeClassifier\n",
    "from sklearn.ensemble import RandomForestClassifier\n",
    "from sklearn.linear_model import LogisticRegression\n",
    "from sklearn.svm import SVC\n",
    "from sklearn.metrics import accuracy_score\n",
    "\n",
    "# DecisionTreeClassifier 학습/예측/평가\n",
    "dt_clf = DecisionTreeClassifier(random_state=11)\n",
    "dt_clf.fit(X_train, y_train)\n",
    "dt_pred = dt_clf.predict(X_test)\n",
    "\n",
    "# RandomForestClassifier 학습/예측/평가\n",
    "rf_clf = RandomForestClassifier(random_state=11)\n",
    "rf_clf.fit(X_train, y_train)\n",
    "rf_pred = rf_clf.predict(X_test)\n",
    "\n",
    "# LogisticRegression 학습/예측/평가\n",
    "lr_clf = LogisticRegression()\n",
    "lr_clf.fit(X_train, y_train)\n",
    "lr_pred = lr_clf.predict(X_test)\n",
    "\n",
    "# SupportVectorClassifier 학습/예측/평가\n",
    "sv_clf = SVC(random_state=11)\n",
    "sv_clf.fit(X_train, y_train)\n",
    "sv_pred = sv_clf.predict(X_test)"
   ]
  },
  {
   "cell_type": "code",
   "execution_count": 14,
   "metadata": {},
   "outputs": [
    {
     "output_type": "stream",
     "name": "stdout",
     "text": [
      "DecisionTreeClassifier 정확도: 0.7989\n",
      "RandomForestClassifier 정확도: 0.8547\n",
      "LogisticRegression 정확도: 0.8827\n",
      "SupportVectorClassifier 정확도: 0.7207\n"
     ]
    }
   ],
   "source": [
    "for func in ['DecisionTreeClassifier', 'RandomForestClassifier', 'LogisticRegression', 'SVC']:\n",
    "    clf = globals()[func](random_state=11)\n",
    "    clf.fit(X_train, y_train)\n",
    "    pred = clf.predict(X_test)\n",
    "    funcname = 'SupportVectorClassifier' if func == 'SVC' else func\n",
    "    print('{0} 정확도: {1:.4f}'.format(funcname, accuracy_score(y_test, pred)))"
   ]
  },
  {
   "source": [
    "## 9) 교차 검증"
   ],
   "cell_type": "markdown",
   "metadata": {}
  },
  {
   "cell_type": "code",
   "execution_count": 15,
   "metadata": {},
   "outputs": [],
   "source": [
    "# Stratified K-Fold 방식으로 교차 검증하는 함수\n",
    "from sklearn.model_selection import StratifiedKFold\n",
    "\n",
    "def exec_skfold(clf, folds=5):\n",
    "    # 폴드 세트를 5개인 KFold객체를 생성, 폴드 수만큼 예측결과 저장을 위한  리스트 객체 생성.\n",
    "    skfold = StratifiedKFold(n_splits=folds)\n",
    "    scores = []\n",
    "    \n",
    "    # KFold 교차 검증 수행. \n",
    "    for iter_count, (train_index, test_index) in enumerate(skfold.split(x_axis, y_axis)):\n",
    "\n",
    "        # x_axis 데이터에서 교차 검증별로 학습과 검증 데이터를 가리키는 index 생성\n",
    "        X_train, X_test = x_axis.values[train_index], x_axis.values[test_index]\n",
    "        y_train, y_test = y_axis.values[train_index], y_axis.values[test_index]\n",
    "        \n",
    "        # Classifier 학습, 예측, 정확도 계산 \n",
    "        clf.fit(X_train, y_train)\n",
    "        pred = clf.predict(X_test)\n",
    "        accuracy = accuracy_score(y_test, pred)\n",
    "        scores.append(accuracy)\n",
    "        print(\"교차 검증 {0}, 정확도: {1:.4f}\".format(iter_count, accuracy))\n",
    "    \n",
    "    # 5개 fold에서의 평균 정확도 계산. \n",
    "    mean_score = np.mean(scores)\n",
    "    print(\"평균 정확도: {:.4f}\".format(mean_score))"
   ]
  },
  {
   "cell_type": "code",
   "execution_count": 16,
   "metadata": {},
   "outputs": [
    {
     "output_type": "stream",
     "name": "stdout",
     "text": [
      "\n",
      "DecisionTreeClassifier 모델 교차 검증\n",
      "교차 검증 0, 정확도: 0.7542\n",
      "교차 검증 1, 정확도: 0.7472\n",
      "교차 검증 2, 정확도: 0.8034\n",
      "교차 검증 3, 정확도: 0.7416\n",
      "교차 검증 4, 정확도: 0.8202\n",
      "평균 정확도: 0.7733\n",
      "\n",
      "RandomForestClassifier 모델 교차 검증\n",
      "교차 검증 0, 정확도: 0.7709\n",
      "교차 검증 1, 정확도: 0.7865\n",
      "교차 검증 2, 정확도: 0.8427\n",
      "교차 검증 3, 정확도: 0.7697\n",
      "교차 검증 4, 정확도: 0.8764\n",
      "평균 정확도: 0.8092\n",
      "\n",
      "LogisticRegression 모델 교차 검증\n",
      "교차 검증 0, 정확도: 0.8045\n",
      "교차 검증 1, 정확도: 0.7978\n",
      "교차 검증 2, 정확도: 0.7978\n",
      "교차 검증 3, 정확도: 0.7921\n",
      "교차 검증 4, 정확도: 0.8258\n",
      "평균 정확도: 0.8036\n",
      "\n",
      "SupportVectorClassifier 모델 교차 검증\n",
      "교차 검증 0, 정확도: 0.5922\n",
      "교차 검증 1, 정확도: 0.7135\n",
      "교차 검증 2, 정확도: 0.6854\n",
      "교차 검증 3, 정확도: 0.6854\n",
      "교차 검증 4, 정확도: 0.6910\n",
      "평균 정확도: 0.6735\n"
     ]
    }
   ],
   "source": [
    "for func in ['DecisionTreeClassifier', 'RandomForestClassifier', 'LogisticRegression', 'SVC']:\n",
    "    clf = globals()[func](random_state=11)\n",
    "    clf.fit(X_train, y_train)\n",
    "    pred = clf.predict(X_test)\n",
    "    funcname = 'SupportVectorClassifier' if func == 'SVC' else func\n",
    "    print('\\n{} 모델 교차 검증'.format(funcname))\n",
    "    exec_skfold(clf, folds=5)"
   ]
  },
  {
   "cell_type": "code",
   "execution_count": 17,
   "metadata": {},
   "outputs": [
    {
     "output_type": "stream",
     "name": "stdout",
     "text": [
      "교차 검증 0, 정확도: 0.7542\n교차 검증 1, 정확도: 0.7472\n교차 검증 2, 정확도: 0.8034\n교차 검증 3, 정확도: 0.7416\n교차 검증 4, 정확도: 0.8202\n평균 정확도: 0.7733\n"
     ]
    }
   ],
   "source": [
    "# 결정 트리 모델을 cross_val_score 함수를 이용하여 교차 검증\n",
    "from sklearn.model_selection import cross_val_score\n",
    "\n",
    "scores = cross_val_score(dt_clf, x_axis, y_axis, cv=5)\n",
    "for iter_count, accuracy in enumerate(scores):\n",
    "    print(\"교차 검증 {0}, 정확도: {1:.4f}\".format(iter_count, accuracy))\n",
    "\n",
    "print(\"평균 정확도: {:.4f}\".format(np.mean(scores)))"
   ]
  },
  {
   "cell_type": "code",
   "execution_count": 18,
   "metadata": {},
   "outputs": [
    {
     "output_type": "stream",
     "name": "stdout",
     "text": [
      "\n",
      "dt_clf 모델 교차 검증\n",
      "교차 검증 0, 정확도: 0.7542\n",
      "교차 검증 1, 정확도: 0.7472\n",
      "교차 검증 2, 정확도: 0.8034\n",
      "교차 검증 3, 정확도: 0.7416\n",
      "교차 검증 4, 정확도: 0.8202\n",
      "평균 정확도: 0.7733\n",
      "\n",
      "rf_clf 모델 교차 검증\n",
      "교차 검증 0, 정확도: 0.7709\n",
      "교차 검증 1, 정확도: 0.7865\n",
      "교차 검증 2, 정확도: 0.8427\n",
      "교차 검증 3, 정확도: 0.7697\n",
      "교차 검증 4, 정확도: 0.8764\n",
      "평균 정확도: 0.8092\n",
      "\n",
      "lr_clf 모델 교차 검증\n",
      "교차 검증 0, 정확도: 0.8045\n",
      "교차 검증 1, 정확도: 0.7978\n",
      "교차 검증 2, 정확도: 0.7978\n",
      "교차 검증 3, 정확도: 0.7921\n",
      "교차 검증 4, 정확도: 0.8258\n",
      "평균 정확도: 0.8036\n",
      "\n",
      "sv_clf 모델 교차 검증\n",
      "교차 검증 0, 정확도: 0.5922\n",
      "교차 검증 1, 정확도: 0.7135\n",
      "교차 검증 2, 정확도: 0.6854\n",
      "교차 검증 3, 정확도: 0.6854\n",
      "교차 검증 4, 정확도: 0.6910\n",
      "평균 정확도: 0.6735\n"
     ]
    }
   ],
   "source": [
    "# 결정 트리 모델을 cross_val_score 함수를 이용하여 교차 검증\n",
    "from sklearn.model_selection import cross_val_score\n",
    "\n",
    "for dclf in ['dt_clf', 'rf_clf', 'lr_clf', 'sv_clf']:\n",
    "    print('\\n{} 모델 교차 검증'.format(dclf))\n",
    "    \n",
    "    clf = globals()[dclf]\n",
    "    scores = cross_val_score(clf, x_axis, y_axis, cv=5)\n",
    "\n",
    "    for iter_count, accuracy in enumerate(scores):\n",
    "        print(\"교차 검증 {0}, 정확도: {1:.4f}\".format(iter_count, accuracy))\n",
    "\n",
    "    print(\"평균 정확도: {:.4f}\".format(np.mean(scores)))"
   ]
  },
  {
   "source": [
    "## 10) GridSearchCV를 통해 최적 파라미터 도출"
   ],
   "cell_type": "markdown",
   "metadata": {}
  },
  {
   "cell_type": "code",
   "execution_count": 19,
   "metadata": {},
   "outputs": [
    {
     "output_type": "stream",
     "name": "stdout",
     "text": [
      "GridSearchCV 최적 하이퍼 파라미터: {'max_depth': 3, 'min_samples_leaf': 1, 'min_samples_split': 2}\nGridSearchCV 최고 정확도: 0.8048\n테스트 세트에서의 DecisionTreeClassifier 정확도: 0.8715\n"
     ]
    }
   ],
   "source": [
    "from sklearn.model_selection import GridSearchCV\n",
    "\n",
    "parameters = {\n",
    "    'max_depth':[2,3,5,10],\n",
    "    'min_samples_leaf':[1,5,8],\n",
    "    'min_samples_split':[2,3,5] \n",
    "}\n",
    "grid_dclf = GridSearchCV(dt_clf, param_grid=parameters, scoring='accuracy', cv=5)\n",
    "grid_dclf.fit(X_train, y_train)\n",
    "\n",
    "print('GridSearchCV 최적 하이퍼 파라미터:', grid_dclf.best_params_)\n",
    "print('GridSearchCV 최고 정확도: {:.4f}'.format(grid_dclf.best_score_))\n",
    "best_dclf = grid_dclf.best_estimator_\n",
    "\n",
    "# GridSearchCV의 최적 하이퍼 파라미터로 학습된 Estimator로 예측 및 평가 수행. \n",
    "pred = best_dclf.predict(X_test)\n",
    "accuracy = accuracy_score(y_test, pred)\n",
    "print('테스트 세트에서의 DecisionTreeClassifier 정확도: {:.4f}'.format(accuracy))"
   ]
  },
  {
   "cell_type": "code",
   "execution_count": 20,
   "metadata": {},
   "outputs": [
    {
     "output_type": "stream",
     "name": "stdout",
     "text": [
      "\n",
      "dt_clf\n",
      "GridSearchCV 최적 하이퍼 파라미터: {'max_depth': 3, 'min_samples_leaf': 1, 'min_samples_split': 2}\n",
      "GridSearchCV 최고 정확도: 0.8048\n",
      "테스트 세트에서의 DecisionTreeClassifier 정확도: 0.8715\n",
      "\n",
      "rf_clf\n",
      "GridSearchCV 최적 하이퍼 파라미터: {'max_depth': 10, 'min_samples_leaf': 1, 'min_samples_split': 5}\n",
      "GridSearchCV 최고 정확도: 0.8175\n",
      "테스트 세트에서의 DecisionTreeClassifier 정확도: 0.8547\n",
      "\n",
      "lr_clf\n",
      "lr_clf Invalid parameter max_depth for estimator LogisticRegression(). Check the list of available parameters with `estimator.get_params().keys()`.\n",
      "\n",
      "sv_clf\n",
      "sv_clf Invalid parameter max_depth for estimator SVC(random_state=11). Check the list of available parameters with `estimator.get_params().keys()`.\n"
     ]
    }
   ],
   "source": [
    "from sklearn.model_selection import GridSearchCV\n",
    "\n",
    "for dclf in ['dt_clf', 'rf_clf', 'lr_clf', 'sv_clf']:\n",
    "    try:\n",
    "        print('\\n{}'.format(dclf))\n",
    "        parameters = {\n",
    "            'max_depth':[2,3,5,10],\n",
    "            'min_samples_leaf':[1,5,8],\n",
    "            'min_samples_split':[2,3,5] \n",
    "        }\n",
    "        grid_dclf = GridSearchCV(globals()[dclf], param_grid=parameters, scoring='accuracy', cv=5)\n",
    "        grid_dclf.fit(X_train, y_train)\n",
    "\n",
    "        print('GridSearchCV 최적 하이퍼 파라미터:', grid_dclf.best_params_)\n",
    "        print('GridSearchCV 최고 정확도: {:.4f}'.format(grid_dclf.best_score_))\n",
    "        best_dclf = grid_dclf.best_estimator_\n",
    "\n",
    "        # GridSearchCV의 최적 하이퍼 파라미터로 학습된 Estimator로 예측 및 평가 수행. \n",
    "        pred = best_dclf.predict(X_test)\n",
    "        accuracy = accuracy_score(y_test, pred)\n",
    "        print('테스트 세트에서의 DecisionTreeClassifier 정확도: {:.4f}'.format(accuracy))\n",
    "    except Exception as e:\n",
    "        print(dclf, e)"
   ]
  }
 ]
}