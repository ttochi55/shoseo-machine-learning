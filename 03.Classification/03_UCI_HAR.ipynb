{
 "metadata": {
  "language_info": {
   "codemirror_mode": {
    "name": "ipython",
    "version": 3
   },
   "file_extension": ".py",
   "mimetype": "text/x-python",
   "name": "python",
   "nbconvert_exporter": "python",
   "pygments_lexer": "ipython3",
   "version": "3.8.5-final"
  },
  "orig_nbformat": 2,
  "kernelspec": {
   "name": "python3",
   "display_name": "Python 3",
   "language": "python"
  }
 },
 "nbformat": 4,
 "nbformat_minor": 2,
 "cells": [
  {
   "source": [
    "# UCI HAR\n",
    "\n",
    "- 교차 검증\n",
    "- 하이퍼 파라미터 튜닝\n",
    "    - 최적의 하이퍼 파라미터(max_depth, min_samples_split)와 정확도를 구하시오.\n",
    "    - 사람이 움직이는데 있어서 어떤 Feature가 중요한지 결정트리를 이용해서 20개만 골라내세요.\n",
    "\n",
    "```\n",
    "DATA_PATH = /00.data/archive.ics.uci.edu/UCI_HAR_Dataset\n",
    "```"
   ],
   "cell_type": "markdown",
   "metadata": {}
  },
  {
   "cell_type": "code",
   "execution_count": 1,
   "metadata": {},
   "outputs": [],
   "source": [
    "import numpy as np\n",
    "import pandas as pd\n",
    "import re"
   ]
  },
  {
   "cell_type": "code",
   "execution_count": 2,
   "metadata": {},
   "outputs": [],
   "source": [
    "import seaborn as sns\n",
    "import matplotlib.pyplot as plt\n",
    "%matplotlib inline"
   ]
  },
  {
   "cell_type": "code",
   "execution_count": 3,
   "metadata": {},
   "outputs": [
    {
     "output_type": "execute_result",
     "data": {
      "text/plain": [
       "   0                  1\n",
       "0  1  tBodyAcc-mean()-X\n",
       "1  2  tBodyAcc-mean()-Y\n",
       "2  3  tBodyAcc-mean()-Z\n",
       "3  4   tBodyAcc-std()-X\n",
       "4  5   tBodyAcc-std()-Y"
      ],
      "text/html": "<div>\n<style scoped>\n    .dataframe tbody tr th:only-of-type {\n        vertical-align: middle;\n    }\n\n    .dataframe tbody tr th {\n        vertical-align: top;\n    }\n\n    .dataframe thead th {\n        text-align: right;\n    }\n</style>\n<table border=\"1\" class=\"dataframe\">\n  <thead>\n    <tr style=\"text-align: right;\">\n      <th></th>\n      <th>0</th>\n      <th>1</th>\n    </tr>\n  </thead>\n  <tbody>\n    <tr>\n      <th>0</th>\n      <td>1</td>\n      <td>tBodyAcc-mean()-X</td>\n    </tr>\n    <tr>\n      <th>1</th>\n      <td>2</td>\n      <td>tBodyAcc-mean()-Y</td>\n    </tr>\n    <tr>\n      <th>2</th>\n      <td>3</td>\n      <td>tBodyAcc-mean()-Z</td>\n    </tr>\n    <tr>\n      <th>3</th>\n      <td>4</td>\n      <td>tBodyAcc-std()-X</td>\n    </tr>\n    <tr>\n      <th>4</th>\n      <td>5</td>\n      <td>tBodyAcc-std()-Y</td>\n    </tr>\n  </tbody>\n</table>\n</div>"
     },
     "metadata": {},
     "execution_count": 3
    }
   ],
   "source": [
    "features_file = '../00.data/archive.ics.uci.edu/UCI_HAR_Dataset/features.txt'\n",
    "features_data = pd.read_csv(features_file, header=None, delim_whitespace=True)\n",
    "features_data.head()"
   ]
  },
  {
   "cell_type": "code",
   "execution_count": 4,
   "metadata": {},
   "outputs": [],
   "source": [
    "X_train_file = '../00.data/archive.ics.uci.edu/UCI_HAR_Dataset/train/X_train.txt'\n",
    "X_train_data = pd.read_csv(X_train_file, header=None, delim_whitespace=True)\n",
    "\n",
    "y_train_file = '../00.data/archive.ics.uci.edu/UCI_HAR_Dataset/train/y_train.txt'\n",
    "y_train_data = pd.read_csv(y_train_file, header=None, delim_whitespace=True)\n",
    "\n",
    "X_test_file = '../00.data/archive.ics.uci.edu/UCI_HAR_Dataset/test/X_test.txt'\n",
    "X_test_data = pd.read_csv(X_test_file, header=None, delim_whitespace=True)\n",
    "\n",
    "y_test_file = '../00.data/archive.ics.uci.edu/UCI_HAR_Dataset/test/y_test.txt'\n",
    "y_test_data = pd.read_csv(y_test_file, header=None, delim_whitespace=True)"
   ]
  },
  {
   "cell_type": "code",
   "execution_count": 5,
   "metadata": {},
   "outputs": [
    {
     "output_type": "execute_result",
     "data": {
      "text/plain": [
       "((7352, 561), (7352, 1), (2947, 561), (2947, 1))"
      ]
     },
     "metadata": {},
     "execution_count": 5
    }
   ],
   "source": [
    "X_train_data.shape, y_train_data.shape, X_test_data.shape, y_test_data.shape"
   ]
  },
  {
   "cell_type": "code",
   "execution_count": 6,
   "metadata": {},
   "outputs": [],
   "source": [
    "from sklearn.model_selection import train_test_split\n",
    "X_train, X_test, y_train, y_test = train_test_split(\n",
    "    X_train_data, y_train_data, test_size=0.2, random_state=2021\n",
    ")"
   ]
  },
  {
   "cell_type": "code",
   "execution_count": 8,
   "metadata": {},
   "outputs": [],
   "source": [
    "# 데이터 사이언스 스쿨 - 모형 최적화\n",
    "# https://datascienceschool.net/03%20machine%20learning/14.01%20모형%20최적화.html\n",
    "\n",
    "from sklearn.tree import DecisionTreeClassifier\n",
    "from sklearn.model_selection import GridSearchCV\n",
    "from sklearn.pipeline import Pipeline\n",
    "from sklearn.preprocessing import StandardScaler\n",
    "from sklearn.svm import SVC\n",
    "\n",
    "estimator = DecisionTreeClassifier()"
   ]
  },
  {
   "cell_type": "code",
   "execution_count": 8,
   "metadata": {},
   "outputs": [
    {
     "output_type": "stream",
     "name": "stdout",
     "text": [
      "Fitting 10 folds for each of 9 candidates, totalling 90 fits\n",
      "accuracy: 0.9347\n",
      "parameters: {'max_depth': 10, 'min_samples_split': 10}\n"
     ]
    }
   ],
   "source": [
    "param_grid = {\n",
    "    'max_depth': [1, 10, 100],\n",
    "    'min_samples_split': [1, 10, 100],\n",
    "}\n",
    "\n",
    "gs = GridSearchCV(\n",
    "    estimator=estimator, \n",
    "    param_grid=param_grid,\n",
    "    scoring='accuracy', \n",
    "    cv=10, \n",
    "    n_jobs=-1,\n",
    "    verbose=2\n",
    ")\n",
    "gs = gs.fit(X_train, y_train)\n",
    "\n",
    "print('accuracy: {:.4f}'.format(gs.best_score_))\n",
    "print('parameters: {}'.format(gs.best_params_))"
   ]
  },
  {
   "cell_type": "code",
   "execution_count": 12,
   "metadata": {},
   "outputs": [
    {
     "output_type": "stream",
     "name": "stdout",
     "text": [
      "max_depth 1\nmin_samples_split 100\nmin_samples_leaf 220\n"
     ]
    }
   ],
   "source": [
    "def reclusive_best_params_(param_grid={}, best_params_=None, best_score_=None, **kwargs):\n",
    "    \n",
    "    best_params_ = {\n",
    "        'max_depth': 1,\n",
    "        'min_samples_split': 100,\n",
    "        'min_samples_leaf': 220,\n",
    "    }\n",
    "\n",
    "    completed = []\n",
    "\n",
    "    if best_params_:\n",
    "        for k, v in best_params_.items():\n",
    "            print(k, v)\n",
    "\n",
    "            digit = re.sub(r'[0]', '', str(v))\n",
    "            zeros = re.sub(r'[1-9]', '', str(v))\n",
    "            chars = [int(char) for char in zeros]\n",
    "\n",
    "            completed.append(len(chars))\n",
    "\n",
    "            if len(chars) < 1:\n",
    "                continue\n",
    "\n",
    "            param_grid.update({\n",
    "                k: v\n",
    "            })\n",
    "\n",
    "    # return completed\n",
    "\n",
    "    # gs = GridSearchCV(\n",
    "    #     param_grid=param_grid,\n",
    "    #     **kwargs\n",
    "    # )\n",
    "    # gs = gs.fit(X_train, y_train)\n",
    "\n",
    "    # if sum(completed) > 0:\n",
    "    #     return reclusive_best_params_(\n",
    "    #         param_grid=param_grid,\n",
    "    #         best_params_=gs.best_params_,\n",
    "    #         best_score_=gs.best_score_,\n",
    "    #         **kwargs\n",
    "    #     )\n",
    "    # return {\n",
    "    #     'accuracy: {}'.format(gs.best_score_),\n",
    "    #     'parameters: {}'.format(gs.best_params_),\n",
    "    # }\n",
    "\n",
    "reclusive_best_params_(\n",
    "    param_grid={\n",
    "        'max_depth': [1, 10, 100],\n",
    "        'min_samples_split': [1, 10, 100],\n",
    "        'min_samples_leaf': [1, 10, 100],\n",
    "    },\n",
    "    estimator=estimator,\n",
    "    scoring='accuracy', \n",
    "    cv=10, \n",
    "    n_jobs=-1,\n",
    "    verbose=2\n",
    ")"
   ]
  },
  {
   "cell_type": "code",
   "execution_count": null,
   "metadata": {},
   "outputs": [],
   "source": [
    "[1, 10, 100, 1000]\n",
    "\n",
    "1000 [1000, 2000, 3000, 4000, 5000, 6000, 7000, 8000, 9000]\n",
    "2000 [2000, 2100, 2200, 2300, 2400, 2500, 2600, 2700, 2800, 2900]\n",
    "2100 [2100, 2110, 2120, 2130, 2140, 2150, 2160, 2170, 2180, 2190]\n",
    "2110 [2110, 2111, 2112, 2113, 2114, 2115, 2116, 2117, 2118, 2119]\n",
    "\n",
    "100 [100, 200, 300, 400, 500, 600, 700, 800, 900]\n",
    "200 [200, 210, 220, 230, 240, 250, 260, 270, 280, 290]\n",
    "210 [210, 211, 212, 213, 214, 215, 216, 217, 218, 219]\n",
    "\n",
    "10 [10, 20, 30, 40, 50, 60, 70, 80, 90]\n",
    "20 [20, 21, 22, 23, 24, 25, 26, 27, 28, 29]\n",
    "\n",
    "1 [1, 2, 3, 4, 5, 6, 7, 8, 9]"
   ]
  },
  {
   "cell_type": "code",
   "execution_count": 82,
   "metadata": {},
   "outputs": [
    {
     "output_type": "execute_result",
     "data": {
      "text/plain": [
       "[0, 0]"
      ]
     },
     "metadata": {},
     "execution_count": 82
    }
   ],
   "source": [
    "n = 12300\n",
    "word = re.sub(r'[1-9]', '', str(n))\n",
    "nums = [int(char) for char in word]\n",
    "nums"
   ]
  },
  {
   "cell_type": "code",
   "execution_count": null,
   "metadata": {},
   "outputs": [],
   "source": [
    "\n",
    "# step = int('1' + '0' * (len(nums)-1))\n",
    "# value = list(np.arange(v, v*10, step))\n",
    "# param_grid.update({k: value})\n",
    "\n",
    "# if sum(nums) == 1:\n",
    "# elif sum(nums) > 1:\n",
    "#     if len(nums) == 1:\n",
    "#         param_grid.update({k: v})\n",
    "#     if len(nums) > 1:\n",
    "#         step = int('1' + '0' * (len(nums)-1))\n",
    "#         value = list(np.arange(v, v+10, step))\n",
    "#         param_grid.update({k: value})\n",
    "\n",
    "# if sum(nums) == 1:\n",
    "#     step = int('1' + '0' * (len(nums)-1))\n",
    "#     param_grid.update({\n",
    "#         k: list(np.arange(v, v*10, step))\n",
    "#     })\n",
    "# elif sum(nums) > 1:\n"
   ]
  },
  {
   "cell_type": "code",
   "execution_count": 42,
   "metadata": {},
   "outputs": [
    {
     "output_type": "execute_result",
     "data": {
      "text/plain": [
       "10"
      ]
     },
     "metadata": {},
     "execution_count": 42
    }
   ],
   "source": [
    "int('1' + '0' * (2-1))"
   ]
  },
  {
   "cell_type": "code",
   "execution_count": 20,
   "metadata": {},
   "outputs": [
    {
     "output_type": "execute_result",
     "data": {
      "text/plain": [
       "[1, 0]"
      ]
     },
     "metadata": {},
     "execution_count": 20
    }
   ],
   "source": [
    "word = str(10)\n",
    "nums = [int(char) for char in word]\n",
    "nums"
   ]
  },
  {
   "cell_type": "code",
   "execution_count": 21,
   "metadata": {},
   "outputs": [
    {
     "output_type": "execute_result",
     "data": {
      "text/plain": [
       "(1, 2)"
      ]
     },
     "metadata": {},
     "execution_count": 21
    }
   ],
   "source": [
    "sum(nums), len(nums)"
   ]
  },
  {
   "cell_type": "code",
   "execution_count": 47,
   "metadata": {},
   "outputs": [
    {
     "output_type": "execute_result",
     "data": {
      "text/plain": [
       "[1, 1, 1, 1]"
      ]
     },
     "metadata": {},
     "execution_count": 47
    }
   ],
   "source": [
    "import re\n",
    "\n",
    "max_depth = [1, 10, 100, 1000]\n",
    "max_depth = list(map(lambda x: int(re.sub(r'[^1]', '', str(x))), max_depth))\n",
    "max_depth"
   ]
  },
  {
   "cell_type": "code",
   "execution_count": 22,
   "metadata": {},
   "outputs": [
    {
     "output_type": "error",
     "ename": "TypeError",
     "evalue": "unsupported operand type(s) for *: 'NoneType' and 'int'",
     "traceback": [
      "\u001b[0;31m---------------------------------------------------------------------------\u001b[0m",
      "\u001b[0;31mTypeError\u001b[0m                                 Traceback (most recent call last)",
      "\u001b[0;32m<ipython-input-22-1dcc1f134b2c>\u001b[0m in \u001b[0;36m<module>\u001b[0;34m\u001b[0m\n\u001b[0;32m----> 1\u001b[0;31m \u001b[0;34m[\u001b[0m\u001b[0;32mNone\u001b[0m \u001b[0;34m*\u001b[0m \u001b[0;36m3\u001b[0m\u001b[0;34m]\u001b[0m\u001b[0;34m\u001b[0m\u001b[0;34m\u001b[0m\u001b[0m\n\u001b[0m",
      "\u001b[0;31mTypeError\u001b[0m: unsupported operand type(s) for *: 'NoneType' and 'int'"
     ]
    }
   ],
   "source": [
    "\n",
    "    gs = GridSearchCV(\n",
    "        estimator=estimator, \n",
    "        param_grid=param_grid,\n",
    "        scoring='accuracy', \n",
    "        cv=10, \n",
    "        n_jobs=-1,\n",
    "        verbose=2\n",
    "    )\n",
    "    gs = gs.fit(X_train, y_train)\n",
    "\n",
    "    print('accuracy: {}'.format(gs.best_score_))\n",
    "    print('parameters: {}'.format(gs.best_params_))"
   ]
  },
  {
   "cell_type": "code",
   "execution_count": null,
   "metadata": {},
   "outputs": [],
   "source": [
    "from sklearn.tree import DecisionTreeClassifier\n",
    "from sklearn.tree import export_graphviz\n",
    "from sklearn.metrics import accuracy_score\n",
    "import graphviz\n",
    "\n",
    "dt_clf = DecisionTreeClassifier(max_depth=3)\n",
    "dt_clf.fit(X_train, y_train)\n",
    "pred = dt_clf.predict(X_test)\n",
    "print('정확도: {}'.format(accuracy_score(y_test, pred)))\n",
    "\n",
    "# export_graphviz()의 호출 결과로 out_file로 지정된 tree.dot 파일을 생성함\n",
    "export_graphviz(dt_clf, \n",
    "    out_file='tree.dot',\n",
    "    class_names=iris.target_names,\n",
    "    feature_names=iris.feature_names,\n",
    "    impurity=True,\n",
    "    filled=True\n",
    ")\n",
    "\n",
    "# 위에서 생성된 tree.dot 파일을 graphviz 읽어서 주피터 노트북에서 시각화\n",
    "with open('tree.dot') as f:\n",
    "    dot_graph = f.read()\n",
    "graphviz.Source(dot_graph)"
   ]
  },
  {
   "cell_type": "code",
   "execution_count": null,
   "metadata": {},
   "outputs": [],
   "source": []
  },
  {
   "cell_type": "code",
   "execution_count": null,
   "metadata": {},
   "outputs": [],
   "source": []
  }
 ]
}